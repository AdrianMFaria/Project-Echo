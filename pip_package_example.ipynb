{
 "cells": [
  {
   "attachments": {},
   "cell_type": "markdown",
   "metadata": {},
   "source": [
    "### Importing the Package with pip"
   ]
  },
  {
   "cell_type": "code",
   "execution_count": 18,
   "metadata": {},
   "outputs": [],
   "source": [
    "%pip install git+https://github.com/stephankokkas/Project-Echo --quiet"
   ]
  },
  {
   "attachments": {},
   "cell_type": "markdown",
   "metadata": {},
   "source": [
    "### Single File Prediction"
   ]
  },
  {
   "cell_type": "code",
   "execution_count": 3,
   "metadata": {},
   "outputs": [
    {
     "name": "stdout",
     "output_type": "stream",
     "text": [
      "Your audio file is: 1844_Feldlerche_Gesang_Wind_short.mp3\n",
      "Your file is split into 11 windows of 5 seconds width per window. For each sliding window, we found:\n",
      "    A skylark with a confidence of 99.68%\n",
      "    A skylark with a confidence of 92.1%\n",
      "    A skylark with a confidence of 99.71%\n",
      "    A skylark with a confidence of 99.97%\n",
      "    A skylark with a confidence of 94.82%\n",
      "    A skylark with a confidence of 99.47%\n",
      "    A skylark with a confidence of 99.91%\n",
      "    A skylark with a confidence of 92.84%\n",
      "    A skylark with a confidence of 99.82%\n",
      "    A skylark with a confidence of 92.64%\n",
      "    A white-plumed honeyeater with a confidence of 62.92%\n"
     ]
    }
   ],
   "source": [
    "import os\n",
    "import Echo\n",
    "\n",
    "path_to_raw_audio_file = '/Users/stephankokkas/Downloads/1844_Feldlerche_Gesang_Wind_short.mp3'\n",
    "PATH_TO_MODEL = os.path.join(os.getcwd(), 'Echo', 'Models', 'baseline_timm_model_dataset_2_15_classes.hdf5')\n",
    "\n",
    "my_model = Echo.load_model(PATH_TO_MODEL)\n",
    "classification = Echo.predict(my_model, path_to_raw_audio_file, traverse_path=False)"
   ]
  },
  {
   "attachments": {},
   "cell_type": "markdown",
   "metadata": {},
   "source": [
    "### Multiple File Prediction\n",
    "The predict function will go through the directory listed and predict on all audio files found in the first root directory (not walking through the dir)"
   ]
  },
  {
   "cell_type": "code",
   "execution_count": 4,
   "metadata": {},
   "outputs": [
    {
     "name": "stdout",
     "output_type": "stream",
     "text": [
      "0295_Feldlerche_Weibchen_Rufgesang_short.mp3\n",
      "X01108.mp3\n",
      "X01436.mp3\n",
      "278267.m4a\n"
     ]
    }
   ],
   "source": [
    "path_to_raw_audio_file = '/Users/stephankokkas/Downloads/test_audio_files'\n",
    "PATH_TO_MODEL = os.path.join(os.getcwd(), 'Echo', 'Models', 'baseline_timm_model_dataset_2_15_classes.hdf5')\n",
    "\n",
    "my_model = Echo.load_model(PATH_TO_MODEL)\n",
    "classification = Echo.predict(my_model, path_to_raw_audio_file, traverse_path=True)"
   ]
  }
 ],
 "metadata": {
  "kernelspec": {
   "display_name": "dev",
   "language": "python",
   "name": "python3"
  },
  "language_info": {
   "codemirror_mode": {
    "name": "ipython",
    "version": 3
   },
   "file_extension": ".py",
   "mimetype": "text/x-python",
   "name": "python",
   "nbconvert_exporter": "python",
   "pygments_lexer": "ipython3",
   "version": "3.10.0"
  },
  "orig_nbformat": 4,
  "vscode": {
   "interpreter": {
    "hash": "f4acbc442a267d9c039005cb6a4c551bfe6da3ea17529ec6bc5615c49cd80131"
   }
  }
 },
 "nbformat": 4,
 "nbformat_minor": 2
}
