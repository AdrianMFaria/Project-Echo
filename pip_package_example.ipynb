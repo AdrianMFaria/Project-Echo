{
 "cells": [
  {
   "cell_type": "code",
   "execution_count": 18,
   "metadata": {},
   "outputs": [],
   "source": [
    "!pip install git+https://github.com/stephankokkas/Project-Echo --quiet"
   ]
  },
  {
   "cell_type": "code",
   "execution_count": 19,
   "metadata": {},
   "outputs": [
    {
     "name": "stderr",
     "output_type": "stream",
     "text": [
      "/Users/stephankokkas/opt/anaconda3/envs/dev/lib/python3.10/site-packages/tqdm/auto.py:22: TqdmWarning: IProgress not found. Please update jupyter and ipywidgets. See https://ipywidgets.readthedocs.io/en/stable/user_install.html\n",
      "  from .autonotebook import tqdm as notebook_tqdm\n"
     ]
    },
    {
     "name": "stdout",
     "output_type": "stream",
     "text": [
      "Your audio file is split into 4 windows of 5 seconds per window... per sliding window we found:\n",
      "    A skylark with a confidence of 99.94%\n",
      "    A skylark with a confidence of 99.95%\n",
      "    A skylark with a confidence of 75.53%\n",
      "    A white-plumed honeyeater with a confidence of 54.39%\n"
     ]
    }
   ],
   "source": [
    "import os\n",
    "import Echo\n",
    "\n",
    "path_to_raw_audio_file = '/Users/stephankokkas/Downloads/Alauda_arvensis_Bru_DAT0042_04_short.mp3'\n",
    "PATH_TO_MODEL = os.path.join(os.getcwd(), 'Echo', 'Models', 'baseline_timm_model_dataset_2_15_classes.hdf5')\n",
    "\n",
    "my_model = Echo.load_model(PATH_TO_MODEL)\n",
    "classification = Echo.predict(my_model, path_to_raw_audio_file)"
   ]
  }
 ],
 "metadata": {
  "kernelspec": {
   "display_name": "dev",
   "language": "python",
   "name": "python3"
  },
  "language_info": {
   "codemirror_mode": {
    "name": "ipython",
    "version": 3
   },
   "file_extension": ".py",
   "mimetype": "text/x-python",
   "name": "python",
   "nbconvert_exporter": "python",
   "pygments_lexer": "ipython3",
   "version": "3.10.0"
  },
  "orig_nbformat": 4,
  "vscode": {
   "interpreter": {
    "hash": "f4acbc442a267d9c039005cb6a4c551bfe6da3ea17529ec6bc5615c49cd80131"
   }
  }
 },
 "nbformat": 4,
 "nbformat_minor": 2
}
