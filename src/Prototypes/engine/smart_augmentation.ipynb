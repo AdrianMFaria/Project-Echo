{
 "cells": [
  {
   "cell_type": "code",
   "execution_count": null,
   "metadata": {},
   "outputs": [],
   "source": [
    "import os\n",
    "import random\n",
    "from pydub import AudioSegment"
   ]
  },
  {
   "cell_type": "code",
   "execution_count": null,
   "metadata": {},
   "outputs": [],
   "source": [
    "\n",
    "# Function to randomly select a background sound and a segment from it\n",
    "def get_random_background_segment(background_sounds, segment_length):\n",
    "    # Randomly select a background sound\n",
    "    bg_sound = random.choice(background_sounds)\n",
    "    \n",
    "    # Get a random segment of the specified length from the selected background sound\n",
    "    start_ms = random.randint(0, len(bg_sound) - segment_length)\n",
    "    return bg_sound[start_ms:start_ms + segment_length]\n",
    "\n",
    "# Load all your background sound files into a list\n",
    "background_sounds = [\n",
    "    AudioSegment.from_file(\"forest_sound1.wav\"),\n",
    "    AudioSegment.from_file(\"forest_sound2.wav\"),\n",
    "    AudioSegment.from_file(\"water_sound.wav\"),\n",
    "    AudioSegment.from_file(\"wind_sound.wav\"),\n",
    "]\n"
   ]
  },
  {
   "cell_type": "code",
   "execution_count": null,
   "metadata": {},
   "outputs": [],
   "source": [
    "\n",
    "# Get the list of all species class directories\n",
    "species_dirs = [d for d in os.listdir('.') if os.path.isdir(d) and not d.startswith(('forest_', 'water_', 'wind_', 'background_sounds'))]\n",
    "\n",
    "# Calculate the threshold for a class to be considered as having \"less data\"\n",
    "file_counts = [len(os.listdir(d)) for d in species_dirs]\n",
    "threshold = sum(file_counts) // len(file_counts)\n",
    "\n",
    "# Loop through each species class directory\n",
    "for species_dir in species_dirs:\n",
    "    # Get the list of all animal soundfiles in the current species class directory\n",
    "    animal_sound_files = [f for f in os.listdir(species_dir) if f.endswith('.wav')]\n",
    "    \n",
    "    # Create a new output directory for the current species class\n",
    "    output_dir = species_dir + '_output'\n",
    "    os.makedirs(output_dir, exist_ok=True)\n",
    "    \n",
    "    # If the class has less data, perform augmentation\n",
    "    if len(animal_sound_files) < threshold:\n",
    "        # Calculate the number of augmentations needed\n",
    "        augmentations_needed = threshold - len(animal_sound_files)\n",
    "        \n",
    "        for i in range(augmentations_needed):\n",
    "            # Randomlyselect an animal sound file to augment\n",
    "            animal_sound_file = random.choice(animal_sound_files)\n",
    "            \n",
    "            # Constructthe full path to the animal sound file\n",
    "            full_path = os.path.join(species_dir, animal_sound_file)\n",
    "\n",
    "            # Load the randomly selected animal sound file\n",
    "            animal_sound = AudioSegment.from_file(full_path)\n",
    "            \n",
    "            # Determine the length of the animal sound file in milliseconds\n",
    "            animal_sound_length = len(animal_sound)\n",
    "\n",
    "            # Get a random background soundsegment of the same length as the animal sound file\n",
    "            bg_segment = get_random_background_segment(background_sounds, animal_sound_length)\n",
    "\n",
    "            # Overlay the animal sound on top of the random background segment\n",
    "            combined = bg_segment.overlay(animal_sound)\n",
    "\n",
    "            # Construct the full path tothe output file\n",
    "            output_path = os.path.join(output_dir, f'combined_{i}_{animal_sound_file}')\n",
    "\n",
    "            # Save the result in the output directory\n",
    "            combined.export(output_path, format=\"wav\")"
   ]
  }
 ],
 "metadata": {
  "language_info": {
   "name": "python"
  },
  "orig_nbformat": 4
 },
 "nbformat": 4,
 "nbformat_minor": 2
}
