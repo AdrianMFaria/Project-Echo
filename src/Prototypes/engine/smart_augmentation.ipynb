{
 "cells": [
  {
   "cell_type": "code",
   "execution_count": null,
   "metadata": {},
   "outputs": [],
   "source": [
    "import os\n",
    "import random\n",
    "from pydub import AudioSegment"
   ]
  },
  {
   "cell_type": "code",
   "execution_count": null,
   "metadata": {},
   "outputs": [],
   "source": [
    "\n",
    "# Function to randomly select a background sound and a segment from it\n",
    "def get_random_background_segment(background_sounds, segment_length):\n",
    "    # Randomly select a background sound\n",
    "    bg_sound = random.choice(background_sounds)\n",
    "    \n",
    "    # Get a random segment of the specified length from the selected background sound\n",
    "    start_ms = random.randint(0, len(bg_sound) - segment_length)\n",
    "    return bg_sound[start_ms:start_ms + segment_length]\n",
    "\n",
    "# Load all your background sound files into a list\n",
    "background_sounds = [\n",
    "    AudioSegment.from_file(\"forest_sound1.wav\"),\n",
    "    AudioSegment.from_file(\"forest_sound2.wav\"),\n",
    "    AudioSegment.from_file(\"water_sound.wav\"),\n",
    "    AudioSegment.from_file(\"wind_sound.wav\"),\n",
    "]\n"
   ]
  }
 ],
 "metadata": {
  "language_info": {
   "name": "python"
  },
  "orig_nbformat": 4
 },
 "nbformat": 4,
 "nbformat_minor": 2
}
