{
  "cells": [
    {
      "cell_type": "code",
      "execution_count": 12,
      "metadata": {
        "id": "ySDAQIh4N-_E"
      },
      "outputs": [
        {
          "name": "stdout",
          "output_type": "stream",
          "text": [
            "Augmented 725 files for class: Malleefowl\n",
            "Augmented 797 files for class: Vanellus miles\n",
            "Augmented 653 files for class: Spotted Nightjar\n",
            "Augmented 740 files for class: Grey Teal\n",
            "Augmented 641 files for class: Pheasant Coucal\n",
            "Augmented 557 files for class: Tiger quoll\n",
            "Augmented 0 files for class: coyote\n",
            "Augmented 377 files for class: Peaceful Dove\n",
            "Augmented 636 files for class: capra hirus\n",
            "Augmented 722 files for class: Pacific Swift\n",
            "Augmented 661 files for class: Orange footed Scrubfowl\n",
            "Augmented 56 files for class: Large-tailed Nightjar\n",
            "Augmented 570 files for class: Little Bronze Cuckoo\n",
            "Augmented 698 files for class: Felis Catus\n",
            "Augmented 627 files for class: common pheasant\n",
            "Augmented 547 files for class: Australian Lyrebird\n",
            "Augmented 312 files for class: Uperoleia laevigata\n",
            "Augmented 298 files for class: Sus scrofa Wild Pig\n",
            "Augmented 781 files for class: Australian Brushturkey\n",
            "Augmented 780 files for class: Rattus\n",
            "Augmented 673 files for class: Pacific Koel\n"
          ]
        }
      ],
      "source": [
        "https://make.powerapps.com/e/Default-56077396-e166-40cd-be0c-7027c7f9cffb/s/00000001-0000-0000-0001-00000000009b/t/cr1b3_newtabl\n",
        "# For each class directory\n",
        "for class_dir, count in file_counts.items():\n",
        "    class_dir_path = os.path.join(audio_chunks_folder, class_dir)\n",
        "    all_audio_files = [f for f in os.listdir(class_dir_path) if f.endswith('.wav')]\n",
        "    \n",
        "    # First, copy all original files to the output directory\n",
        "    for audio_file in all_audio_files:\n",
        "        origin_path = os.path.join(class_dir_path, audio_file)\n",
        "        dest_path = os.path.join(output_folder, class_dir, audio_file)\n",
        "        os.makedirs(os.path.join(output_folder, class_dir), exist_ok=True)\n",
        "        copyfile(origin_path, dest_path)\n",
        "\n",
        "    augmentations_done[class_dir] = 0  # Initialize counter for this class\n",
        "    for i in range(max_count - count):  # Number of augmentations needed\n",
        "        audio_file = random.choice(all_audio_files)\n",
        "        audio_path = os.path.join(class_dir_path, audio_file)\n",
        "        audio_chunk = AudioSegment.from_file(audio_path)\n",
        "\n",
        "        bg_segment = get_random_background_segment(background_sounds, len(audio_chunk)).apply_gain(0.5)  # Reduce volume for subtlety\n",
        "        combined = bg_segment.overlay(audio_chunk)\n",
        "\n",
        "        # To ensure uniqueness in output file name\n",
        "        output_file_name = f'combined_{i}_{audio_file}'\n",
        "        output_path = os.path.join(output_folder, class_dir, output_file_name)\n",
        "        combined.export(output_path, format=\"wav\")\n",
        "\n",
        "        augmentations_done[class_dir] += 1  # Increment the counter\n",
        "\n",
        "# Print out the augmentations done for verification\n",
        "for class_dir, count in augmentations_done.items():\n",
        "    print(f\"Augmented {count} files for class: {class_dir}\")\n",
        "\n",
        "# At this point, verify manually or programmatically that each class in the output directory has the same number of files\n"
      ]
    }
  ],
  "metadata": {
    "accelerator": "GPU",
    "colab": {
      "gpuType": "T4",
      "provenance": [],
      "toc_visible": true
    },
    "kernelspec": {
      "display_name": "Python 3",
      "name": "python3"
    },
    "language_info": {
      "codemirror_mode": {
        "name": "ipython",
        "version": 3
      },
      "file_extension": ".py",
      "mimetype": "text/x-python",
      "name": "python",
      "nbconvert_exporter": "python",
      "pygments_lexer": "ipython3",
      "version": "3.9.17"
    },
    "orig_nbformat": 4
  },
  "nbformat": 4,
  "nbformat_minor": 0
}
