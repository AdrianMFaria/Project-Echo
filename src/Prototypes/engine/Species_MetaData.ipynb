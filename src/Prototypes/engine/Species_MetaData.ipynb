{
 "cells": [
  {
   "attachments": {},
   "cell_type": "markdown",
   "metadata": {},
   "source": [
    "# Generate MetaData for Species Audio Files\n",
    "\n",
    "This program is designed to create metadata for audio files in a specified directory. It accomplishes this in several steps:\n",
    "\n",
    "CalcAudioDuration(length): This function calculates the audio duration in seconds, given the length of the audio in milliseconds. It converts milliseconds to seconds and returns the duration.\n",
    "\n",
    "ComputeAudioDuration(filename): This function retrieves the duration of audio files. It first checks if the file exists and has a supported format (e.g., '.wav' or '.mp3'). If supported, it loads the audio file, calculates its length, and uses CalcAudioDuration to get the duration in seconds. Any errors during this process are caught and printed.\n",
    "\n",
    "ExtractClassAndFile(path): This function extracts class names and filenames from subdirectories within a specified directory. It lists the subdirectories, iterates through them, and collects the class and filename information.\n",
    "\n",
    "GetAudioDurations(path, classes, filenames): This function calculates the durations of audio files in the specified directory. It uses the ComputeAudioDuration function to process each audio file, collecting the durations into a list.\n",
    "\n",
    "CreateMetaData(path): This function generates metadata for the audio files. It combines the class, filename, and duration information into a Pandas DataFrame and returns it.\n",
    "\n",
    "WriteMetadata(path): This function writes the metadata DataFrame to a CSV file named 'species_metadata.csv' in the specified directory.\n",
    "\n",
    "The script sets the 'path' variable to the directory containing the audio files and then calls 'WriteMetadata' to generate and save the metadata as a CSV file. This code ensures that the audio file durations are calculated accurately and included in the metadata for further analysis or use."
   ]
  },
  {
   "cell_type": "code",
   "execution_count": 1,
   "metadata": {},
   "outputs": [
    {
     "name": "stderr",
     "output_type": "stream",
     "text": [
      "/Users/rahulprem/anaconda3/envs/ProjectEcho/lib/python3.11/site-packages/pydub/utils.py:170: RuntimeWarning: Couldn't find ffmpeg or avconv - defaulting to ffmpeg, but may not work\n",
      "  warn(\"Couldn't find ffmpeg or avconv - defaulting to ffmpeg, but may not work\", RuntimeWarning)\n"
     ]
    }
   ],
   "source": [
    "# Import the libraries\n",
    "import os\n",
    "from pydub import AudioSegment\n",
    "import pandas as pd"
   ]
  },
  {
   "cell_type": "code",
   "execution_count": 14,
   "metadata": {},
   "outputs": [
    {
     "name": "stderr",
     "output_type": "stream",
     "text": [
      "/Users/rahulprem/anaconda3/envs/ProjectEcho/lib/python3.11/site-packages/pydub/utils.py:198: RuntimeWarning: Couldn't find ffprobe or avprobe - defaulting to ffprobe, but may not work\n",
      "  warn(\"Couldn't find ffprobe or avprobe - defaulting to ffprobe, but may not work\", RuntimeWarning)\n",
      "/Users/rahulprem/anaconda3/envs/ProjectEcho/lib/python3.11/site-packages/pydub/utils.py:198: RuntimeWarning: Couldn't find ffprobe or avprobe - defaulting to ffprobe, but may not work\n",
      "  warn(\"Couldn't find ffprobe or avprobe - defaulting to ffprobe, but may not work\", RuntimeWarning)\n",
      "/Users/rahulprem/anaconda3/envs/ProjectEcho/lib/python3.11/site-packages/pydub/utils.py:198: RuntimeWarning: Couldn't find ffprobe or avprobe - defaulting to ffprobe, but may not work\n",
      "  warn(\"Couldn't find ffprobe or avprobe - defaulting to ffprobe, but may not work\", RuntimeWarning)\n"
     ]
    },
    {
     "name": "stdout",
     "output_type": "stream",
     "text": [
      "Error loading /Users/rahulprem/Uni/SIT782/TestSet/samples 2/car horn 7.mp3: [Errno 2] No such file or directory: 'ffprobe'\n",
      "Error loading /Users/rahulprem/Uni/SIT782/TestSet/samples 2/car horn 5.wav: [Errno 2] No such file or directory: 'ffprobe'\n",
      "Error loading /Users/rahulprem/Uni/SIT782/TestSet/samples 2/car horn 6.wav: [Errno 2] No such file or directory: 'ffprobe'\n"
     ]
    }
   ],
   "source": [
    "def CalcAudioDuration(length):\n",
    "    \"\"\"\n",
    "    Function to compute the duration. You could add more features like hours and minutes here, \n",
    "    but for now it would just be seconds.\n",
    "    \"\"\"\n",
    "    seconds = length / 1000  # Convert milliseconds to seconds\n",
    "    return seconds\n",
    "\n",
    "def ComputeAudioDuration(filename):\n",
    "    \"\"\"\n",
    "    This function will retrieve the duration from any file passed to it\n",
    "    \"\"\"\n",
    "    try:\n",
    "        ext = os.path.splitext(filename)[-1].lower()\n",
    "        if ext not in ['.wav', '.mp3']:\n",
    "            raise ValueError(\"Unsupported audio format\")\n",
    "\n",
    "        audio = AudioSegment.from_file(filename)\n",
    "        length = len(audio)\n",
    "        seconds = CalcAudioDuration(length)\n",
    "        return seconds\n",
    "    except Exception as e:\n",
    "        print(f\"Error loading {filename}: {e}\")\n",
    "        return None\n",
    "\n",
    "def ExtractClassAndFile(path):\n",
    "    classes = []\n",
    "    filenames = []\n",
    "    for folder in os.listdir(path):\n",
    "        folderpath = os.path.join(path, folder)\n",
    "        if os.path.isdir(folderpath):\n",
    "            for file in os.listdir(folderpath):\n",
    "                if file.endswith(('.wav', '.mp3')):\n",
    "                    classes.append(folder)\n",
    "                    filenames.append(file)\n",
    "    return classes, filenames\n",
    "\n",
    "def GetAudioDurations(path, classes, filenames):\n",
    "    seconds = []\n",
    "    for cls, filename in zip(classes, filenames):\n",
    "        filepath = os.path.join(path, cls, filename)\n",
    "        second = ComputeAudioDuration(filepath)\n",
    "        seconds.append(second)\n",
    "    return seconds\n",
    "\n",
    "def CreateMetaData(path):\n",
    "    classes, filenames = ExtractClassAndFile(path)\n",
    "    seconds = GetAudioDurations(path, classes, filenames)\n",
    "    \n",
    "    feature_colname = ['filename', 'seconds', 'class']\n",
    "    df = pd.DataFrame({'Filename': filenames, 'Seconds': seconds, 'Class': classes})\n",
    "    df['Seconds'] = df['Seconds'].fillna(0)\n",
    "    return df\n",
    "\n",
    "def WriteMetadata(path):\n",
    "    df = CreateMetaData(path)\n",
    "    df.to_csv(os.path.join(path, 'species_metadata.csv'), index=False)\n",
    "\n",
    "path = \"/Users/rahulprem/Uni/SIT782/TestSet/\"\n",
    "WriteMetadata(path)"
   ]
  },
  {
   "attachments": {},
   "cell_type": "markdown",
   "metadata": {},
   "source": [
    "Finally, the script sets the 'path' variable to \"./Data2/\" and calls the 'WriteMetadata' function with this path, which generates metadata for audio files in the \"./Data2/\" directory and saves it in a CSV file named 'species_metadata.csv'."
   ]
  },
  {
   "cell_type": "code",
   "execution_count": 16,
   "metadata": {},
   "outputs": [
    {
     "data": {
      "text/html": [
       "<div>\n",
       "<style scoped>\n",
       "    .dataframe tbody tr th:only-of-type {\n",
       "        vertical-align: middle;\n",
       "    }\n",
       "\n",
       "    .dataframe tbody tr th {\n",
       "        vertical-align: top;\n",
       "    }\n",
       "\n",
       "    .dataframe thead th {\n",
       "        text-align: right;\n",
       "    }\n",
       "</style>\n",
       "<table border=\"1\" class=\"dataframe\">\n",
       "  <thead>\n",
       "    <tr style=\"text-align: right;\">\n",
       "      <th></th>\n",
       "      <th>Filename</th>\n",
       "      <th>Seconds</th>\n",
       "      <th>Class</th>\n",
       "    </tr>\n",
       "  </thead>\n",
       "  <tbody>\n",
       "    <tr>\n",
       "      <th>0</th>\n",
       "      <td>car horn 7.mp3</td>\n",
       "      <td>0.000</td>\n",
       "      <td>samples 2</td>\n",
       "    </tr>\n",
       "    <tr>\n",
       "      <th>1</th>\n",
       "      <td>car horn 4.wav</td>\n",
       "      <td>5.902</td>\n",
       "      <td>samples 2</td>\n",
       "    </tr>\n",
       "    <tr>\n",
       "      <th>2</th>\n",
       "      <td>car horn 5.wav</td>\n",
       "      <td>0.000</td>\n",
       "      <td>samples 2</td>\n",
       "    </tr>\n",
       "    <tr>\n",
       "      <th>3</th>\n",
       "      <td>car horn 6.wav</td>\n",
       "      <td>0.000</td>\n",
       "      <td>samples 2</td>\n",
       "    </tr>\n",
       "    <tr>\n",
       "      <th>4</th>\n",
       "      <td>car horn 8.wav</td>\n",
       "      <td>26.840</td>\n",
       "      <td>samples 3</td>\n",
       "    </tr>\n",
       "    <tr>\n",
       "      <th>5</th>\n",
       "      <td>car horn 9.wav</td>\n",
       "      <td>5.611</td>\n",
       "      <td>samples 3</td>\n",
       "    </tr>\n",
       "    <tr>\n",
       "      <th>6</th>\n",
       "      <td>car horn 10.wav</td>\n",
       "      <td>0.409</td>\n",
       "      <td>samples 3</td>\n",
       "    </tr>\n",
       "    <tr>\n",
       "      <th>7</th>\n",
       "      <td>car horn 2.wav</td>\n",
       "      <td>3.514</td>\n",
       "      <td>samples 1</td>\n",
       "    </tr>\n",
       "    <tr>\n",
       "      <th>8</th>\n",
       "      <td>car horn 3.wav</td>\n",
       "      <td>3.939</td>\n",
       "      <td>samples 1</td>\n",
       "    </tr>\n",
       "    <tr>\n",
       "      <th>9</th>\n",
       "      <td>car horn 1.wav</td>\n",
       "      <td>0.750</td>\n",
       "      <td>samples 1</td>\n",
       "    </tr>\n",
       "  </tbody>\n",
       "</table>\n",
       "</div>"
      ],
      "text/plain": [
       "          Filename  Seconds      Class\n",
       "0   car horn 7.mp3    0.000  samples 2\n",
       "1   car horn 4.wav    5.902  samples 2\n",
       "2   car horn 5.wav    0.000  samples 2\n",
       "3   car horn 6.wav    0.000  samples 2\n",
       "4   car horn 8.wav   26.840  samples 3\n",
       "5   car horn 9.wav    5.611  samples 3\n",
       "6  car horn 10.wav    0.409  samples 3\n",
       "7   car horn 2.wav    3.514  samples 1\n",
       "8   car horn 3.wav    3.939  samples 1\n",
       "9   car horn 1.wav    0.750  samples 1"
      ]
     },
     "execution_count": 16,
     "metadata": {},
     "output_type": "execute_result"
    }
   ],
   "source": [
    "pd.read_csv('/Users/rahulprem/Uni/SIT782/TestSet/species_metadata.csv')"
   ]
  },
  {
   "cell_type": "code",
   "execution_count": 18,
   "metadata": {},
   "outputs": [
    {
     "data": {
      "text/html": [
       "<div>\n",
       "<style scoped>\n",
       "    .dataframe tbody tr th:only-of-type {\n",
       "        vertical-align: middle;\n",
       "    }\n",
       "\n",
       "    .dataframe tbody tr th {\n",
       "        vertical-align: top;\n",
       "    }\n",
       "\n",
       "    .dataframe thead th {\n",
       "        text-align: right;\n",
       "    }\n",
       "</style>\n",
       "<table border=\"1\" class=\"dataframe\">\n",
       "  <thead>\n",
       "    <tr style=\"text-align: right;\">\n",
       "      <th></th>\n",
       "      <th>Class</th>\n",
       "      <th>No. of Samples</th>\n",
       "      <th>Total Duration</th>\n",
       "    </tr>\n",
       "  </thead>\n",
       "  <tbody>\n",
       "    <tr>\n",
       "      <th>0</th>\n",
       "      <td>samples 1</td>\n",
       "      <td>3</td>\n",
       "      <td>00:00:08</td>\n",
       "    </tr>\n",
       "    <tr>\n",
       "      <th>1</th>\n",
       "      <td>samples 2</td>\n",
       "      <td>4</td>\n",
       "      <td>00:00:06</td>\n",
       "    </tr>\n",
       "    <tr>\n",
       "      <th>2</th>\n",
       "      <td>samples 3</td>\n",
       "      <td>3</td>\n",
       "      <td>00:00:33</td>\n",
       "    </tr>\n",
       "  </tbody>\n",
       "</table>\n",
       "</div>"
      ],
      "text/plain": [
       "       Class  No. of Samples Total Duration\n",
       "0  samples 1               3       00:00:08\n",
       "1  samples 2               4       00:00:06\n",
       "2  samples 3               3       00:00:33"
      ]
     },
     "execution_count": 18,
     "metadata": {},
     "output_type": "execute_result"
    }
   ],
   "source": [
    "def ComputeClassDetails(meta_data_df):\n",
    "    \n",
    "    \"\"\"This function that will calculate the total number of files in the folder/class\n",
    "        and also their total duration in HH:MM:SS format\"\"\"\n",
    "    \n",
    "    result_df = meta_data_df.groupby('Class').agg(\n",
    "        {'Filename': 'count', 'Seconds': 'sum'}\n",
    "    ).reset_index()\n",
    "    result_df.rename(columns={'Filename': 'No. of Samples'}, inplace=True)\n",
    "    result_df['Seconds'] = result_df['Seconds'].round().astype(int)\n",
    "    result_df['Total Duration'] = pd.to_timedelta(result_df['Seconds'], unit='s').apply(lambda x: str(x).split()[-1])\n",
    "    result_df = result_df.drop(columns=['Seconds'])\n",
    "    return result_df\n",
    "\n",
    "\n",
    "meta_data_df = pd.read_csv('/Users/rahulprem/Uni/SIT782/TestSet/species_metadata.csv')\n",
    "\n",
    "ComputeClassDetails(meta_data_df)"
   ]
  },
  {
   "cell_type": "code",
   "execution_count": 21,
   "metadata": {},
   "outputs": [
    {
     "data": {
      "image/png": "[encoded data removed]",
      "text/plain": [
       "<Figure size 1000x600 with 2 Axes>"
      ]
     },
     "metadata": {},
     "output_type": "display_data"
    }
   ],
   "source": [
    "import seaborn as sns\n",
    "import matplotlib.pyplot as plt\n",
    "\n",
    "result_df = ComputeClassDetails(meta_data_df)\n",
    "# Pivot the dataframe to create a heatmap for No. of Samples\n",
    "heatmap_samples = result_df.pivot(index='Class', columns='No. of Samples', values='No. of Samples')\n",
    "\n",
    "# Create the heatmap\n",
    "plt.figure(figsize=(10, 6))\n",
    "sns.heatmap(heatmap_samples, annot=True, cmap='YlOrRd')\n",
    "plt.title('No. of Samples by Class')\n",
    "plt.show()"
   ]
  }
 ],
 "metadata": {
  "kernelspec": {
   "display_name": "my_env2",
   "language": "python",
   "name": "python3"
  },
  "language_info": {
   "codemirror_mode": {
    "name": "ipython",
    "version": 3
   },
   "file_extension": ".py",
   "mimetype": "text/x-python",
   "name": "python",
   "nbconvert_exporter": "python",
   "pygments_lexer": "ipython3",
   "version": "3.11.4"
  },
  "orig_nbformat": 4
 },
 "nbformat": 4,
 "nbformat_minor": 2
}
