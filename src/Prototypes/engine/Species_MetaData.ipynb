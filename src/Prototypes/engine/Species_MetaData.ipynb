{
 "cells": [
  {
   "cell_type": "markdown",
   "metadata": {},
   "source": [
    "# Generate MetaData for Species Audio Files\n",
    "\n",
    "This program is designed to create metadata for audio files in a specified directory. It accomplishes this in several steps:\n",
    "\n",
    "CalcAudioDuration(length): This function calculates the audio duration in seconds, given the length of the audio in milliseconds. It converts milliseconds to seconds and returns the duration.\n",
    "\n",
    "ComputeAudioDuration(filename): This function retrieves the duration of audio files. It first checks if the file exists and has a supported format (e.g., '.wav' or '.mp3'). If supported, it loads the audio file, calculates its length, and uses CalcAudioDuration to get the duration in seconds. Any errors during this process are caught and printed.\n",
    "\n",
    "ExtractClassAndFile(path): This function extracts class names and filenames from subdirectories within a specified directory. It lists the subdirectories, iterates through them, and collects the class and filename information.\n",
    "\n",
    "GetAudioDurations(path, classes, filenames): This function calculates the durations of audio files in the specified directory. It uses the ComputeAudioDuration function to process each audio file, collecting the durations into a list.\n",
    "\n",
    "CreateMetaData(path): This function generates metadata for the audio files. It combines the class, filename, and duration information into a Pandas DataFrame and returns it.\n",
    "\n",
    "WriteMetadata(path): This function writes the metadata DataFrame to a CSV file named 'species_metadata.csv' in the specified directory.\n",
    "\n",
    "The script sets the 'path' variable to the directory containing the audio files and then calls 'WriteMetadata' to generate and save the metadata as a CSV file. This code ensures that the audio file durations are calculated accurately and included in the metadata for further analysis or use."
   ]
  },
  {
   "cell_type": "code",
   "execution_count": 22,
   "metadata": {},
   "outputs": [],
   "source": [
    "# Import the libraries\n",
    "import os\n",
    "from pydub import AudioSegment\n",
    "import pandas as pd"
   ]
  },
  {
   "cell_type": "code",
   "execution_count": 23,
   "metadata": {},
   "outputs": [
    {
     "ename": "FileNotFoundError",
     "evalue": "[WinError 3] The system cannot find the path specified: './Data2/'",
     "output_type": "error",
     "traceback": [
      "\u001b[1;31m---------------------------------------------------------------------------\u001b[0m",
      "\u001b[1;31mFileNotFoundError\u001b[0m                         Traceback (most recent call last)",
      "\u001b[1;32mc:\\Users\\mchep\\OneDrive\\Documents\\GitHub\\Project-Echo\\src\\Prototypes\\engine\\Species_MetaData.ipynb Cell 3\u001b[0m line \u001b[0;36m6\n\u001b[0;32m     <a href='vscode-notebook-cell:/c%3A/Users/mchep/OneDrive/Documents/GitHub/Project-Echo/src/Prototypes/engine/Species_MetaData.ipynb#W6sZmlsZQ%3D%3D?line=56'>57</a>\u001b[0m     df\u001b[39m.\u001b[39mto_csv(os\u001b[39m.\u001b[39mpath\u001b[39m.\u001b[39mjoin(path, \u001b[39m'\u001b[39m\u001b[39mspecies_metadata.csv\u001b[39m\u001b[39m'\u001b[39m), index\u001b[39m=\u001b[39m\u001b[39mFalse\u001b[39;00m)\n\u001b[0;32m     <a href='vscode-notebook-cell:/c%3A/Users/mchep/OneDrive/Documents/GitHub/Project-Echo/src/Prototypes/engine/Species_MetaData.ipynb#W6sZmlsZQ%3D%3D?line=58'>59</a>\u001b[0m path \u001b[39m=\u001b[39m \u001b[39mr\u001b[39m\u001b[39m\"\u001b[39m\u001b[39m./Data2/\u001b[39m\u001b[39m\"\u001b[39m\n\u001b[1;32m---> <a href='vscode-notebook-cell:/c%3A/Users/mchep/OneDrive/Documents/GitHub/Project-Echo/src/Prototypes/engine/Species_MetaData.ipynb#W6sZmlsZQ%3D%3D?line=59'>60</a>\u001b[0m WriteMetadata(path)\n",
      "\u001b[1;32mc:\\Users\\mchep\\OneDrive\\Documents\\GitHub\\Project-Echo\\src\\Prototypes\\engine\\Species_MetaData.ipynb Cell 3\u001b[0m line \u001b[0;36m5\n\u001b[0;32m     <a href='vscode-notebook-cell:/c%3A/Users/mchep/OneDrive/Documents/GitHub/Project-Echo/src/Prototypes/engine/Species_MetaData.ipynb#W6sZmlsZQ%3D%3D?line=54'>55</a>\u001b[0m \u001b[39mdef\u001b[39;00m \u001b[39mWriteMetadata\u001b[39m(path):\n\u001b[1;32m---> <a href='vscode-notebook-cell:/c%3A/Users/mchep/OneDrive/Documents/GitHub/Project-Echo/src/Prototypes/engine/Species_MetaData.ipynb#W6sZmlsZQ%3D%3D?line=55'>56</a>\u001b[0m     df \u001b[39m=\u001b[39m CreateMetaData(path)\n\u001b[0;32m     <a href='vscode-notebook-cell:/c%3A/Users/mchep/OneDrive/Documents/GitHub/Project-Echo/src/Prototypes/engine/Species_MetaData.ipynb#W6sZmlsZQ%3D%3D?line=56'>57</a>\u001b[0m     df\u001b[39m.\u001b[39mto_csv(os\u001b[39m.\u001b[39mpath\u001b[39m.\u001b[39mjoin(path, \u001b[39m'\u001b[39m\u001b[39mspecies_metadata.csv\u001b[39m\u001b[39m'\u001b[39m), index\u001b[39m=\u001b[39m\u001b[39mFalse\u001b[39;00m)\n",
      "\u001b[1;32mc:\\Users\\mchep\\OneDrive\\Documents\\GitHub\\Project-Echo\\src\\Prototypes\\engine\\Species_MetaData.ipynb Cell 3\u001b[0m line \u001b[0;36m4\n\u001b[0;32m     <a href='vscode-notebook-cell:/c%3A/Users/mchep/OneDrive/Documents/GitHub/Project-Echo/src/Prototypes/engine/Species_MetaData.ipynb#W6sZmlsZQ%3D%3D?line=46'>47</a>\u001b[0m \u001b[39mdef\u001b[39;00m \u001b[39mCreateMetaData\u001b[39m(path):\n\u001b[1;32m---> <a href='vscode-notebook-cell:/c%3A/Users/mchep/OneDrive/Documents/GitHub/Project-Echo/src/Prototypes/engine/Species_MetaData.ipynb#W6sZmlsZQ%3D%3D?line=47'>48</a>\u001b[0m     classes, filenames \u001b[39m=\u001b[39m ExtractClassAndFile(path)\n\u001b[0;32m     <a href='vscode-notebook-cell:/c%3A/Users/mchep/OneDrive/Documents/GitHub/Project-Echo/src/Prototypes/engine/Species_MetaData.ipynb#W6sZmlsZQ%3D%3D?line=48'>49</a>\u001b[0m     seconds \u001b[39m=\u001b[39m GetAudioDurations(path, classes, filenames)\n\u001b[0;32m     <a href='vscode-notebook-cell:/c%3A/Users/mchep/OneDrive/Documents/GitHub/Project-Echo/src/Prototypes/engine/Species_MetaData.ipynb#W6sZmlsZQ%3D%3D?line=50'>51</a>\u001b[0m     feature_colname \u001b[39m=\u001b[39m [\u001b[39m'\u001b[39m\u001b[39mfilename\u001b[39m\u001b[39m'\u001b[39m, \u001b[39m'\u001b[39m\u001b[39mseconds\u001b[39m\u001b[39m'\u001b[39m, \u001b[39m'\u001b[39m\u001b[39mclass\u001b[39m\u001b[39m'\u001b[39m]\n",
      "\u001b[1;32mc:\\Users\\mchep\\OneDrive\\Documents\\GitHub\\Project-Echo\\src\\Prototypes\\engine\\Species_MetaData.ipynb Cell 3\u001b[0m line \u001b[0;36m3\n\u001b[0;32m     <a href='vscode-notebook-cell:/c%3A/Users/mchep/OneDrive/Documents/GitHub/Project-Echo/src/Prototypes/engine/Species_MetaData.ipynb#W6sZmlsZQ%3D%3D?line=27'>28</a>\u001b[0m classes \u001b[39m=\u001b[39m []\n\u001b[0;32m     <a href='vscode-notebook-cell:/c%3A/Users/mchep/OneDrive/Documents/GitHub/Project-Echo/src/Prototypes/engine/Species_MetaData.ipynb#W6sZmlsZQ%3D%3D?line=28'>29</a>\u001b[0m filenames \u001b[39m=\u001b[39m []\n\u001b[1;32m---> <a href='vscode-notebook-cell:/c%3A/Users/mchep/OneDrive/Documents/GitHub/Project-Echo/src/Prototypes/engine/Species_MetaData.ipynb#W6sZmlsZQ%3D%3D?line=29'>30</a>\u001b[0m folders \u001b[39m=\u001b[39m os\u001b[39m.\u001b[39mlistdir(path)\n\u001b[0;32m     <a href='vscode-notebook-cell:/c%3A/Users/mchep/OneDrive/Documents/GitHub/Project-Echo/src/Prototypes/engine/Species_MetaData.ipynb#W6sZmlsZQ%3D%3D?line=31'>32</a>\u001b[0m \u001b[39mfor\u001b[39;00m folder \u001b[39min\u001b[39;00m folders:\n\u001b[0;32m     <a href='vscode-notebook-cell:/c%3A/Users/mchep/OneDrive/Documents/GitHub/Project-Echo/src/Prototypes/engine/Species_MetaData.ipynb#W6sZmlsZQ%3D%3D?line=32'>33</a>\u001b[0m     filepath \u001b[39m=\u001b[39m os\u001b[39m.\u001b[39mpath\u001b[39m.\u001b[39mjoin(path, folder)\n",
      "\u001b[1;31mFileNotFoundError\u001b[0m: [WinError 3] The system cannot find the path specified: './Data2/'"
     ]
    }
   ],
   "source": [
    "def CalcAudioDuration(length):\n",
    "    \"\"\"\n",
    "    Function to compute the duration. You could add more features like hours and minutes here, \n",
    "    but for now it would just be seconds.\n",
    "    \"\"\"\n",
    "    seconds = length / 1000  # Convert milliseconds to seconds\n",
    "    return seconds\n",
    "\n",
    "def ComputeAudioDuration(filename):\n",
    "    \"\"\"\n",
    "    This function will retrieve the duration from any file passed to it\n",
    "    \"\"\"\n",
    "    try:\n",
    "        # Check if the file exists and has a supported format\n",
    "        ext = os.path.splitext(filename)[-1].lower()\n",
    "        if ext not in ['.wav', '.mp3']:\n",
    "            raise ValueError(\"Unsupported audio format\")\n",
    "\n",
    "        audio = AudioSegment.from_file(filename)\n",
    "        length = len(audio)\n",
    "        seconds = CalcAudioDuration(length)\n",
    "        return seconds\n",
    "    except Exception as e:\n",
    "        print(f\"Error loading {filename}: {e}\")\n",
    "        return None\n",
    "\n",
    "def ExtractClassAndFile(path):\n",
    "    classes = []\n",
    "    filenames = []\n",
    "    folders = os.listdir(path)\n",
    "\n",
    "    for folder in folders:\n",
    "        filepath = os.path.join(path, folder)\n",
    "        for file in os.listdir(filepath):\n",
    "            classes.append(folder)\n",
    "            filenames.append(file)\n",
    "    return classes, filenames\n",
    "\n",
    "def GetAudioDurations(path, classes, filenames):\n",
    "    seconds = []\n",
    "    for cls, filename in zip(classes, filenames):\n",
    "        fp = os.path.join(path, cls, filename)\n",
    "        second = ComputeAudioDuration(fp)\n",
    "        seconds.append(second)\n",
    "    return seconds\n",
    "\n",
    "def CreateMetaData(path):\n",
    "    classes, filenames = ExtractClassAndFile(path)\n",
    "    seconds = GetAudioDurations(path, classes, filenames)\n",
    "    \n",
    "    feature_colname = ['filename', 'seconds', 'class']\n",
    "    df = pd.DataFrame({'Filename': filenames, 'Seconds': seconds, 'Class': classes})\n",
    "    return df\n",
    "\n",
    "def WriteMetadata(path):\n",
    "    df = CreateMetaData(path)\n",
    "    df.to_csv(os.path.join(path, 'species_metadata.csv'), index=False)\n",
    "\n",
    "path = r\"./Data2/\"\n",
    "WriteMetadata(path)\n"
   ]
  },
  {
   "cell_type": "markdown",
   "metadata": {},
   "source": [
    "Finally, the script sets the 'path' variable to \"./Data2/\" and calls the 'WriteMetadata' function with this path, which generates metadata for audio files in the \"./Data2/\" directory and saves it in a CSV file named 'species_metadata.csv'."
   ]
  },
  {
   "cell_type": "code",
   "execution_count": null,
   "metadata": {},
   "outputs": [
    {
     "data": {
      "text/html": [
       "<div>\n",
       "<style scoped>\n",
       "    .dataframe tbody tr th:only-of-type {\n",
       "        vertical-align: middle;\n",
       "    }\n",
       "\n",
       "    .dataframe tbody tr th {\n",
       "        vertical-align: top;\n",
       "    }\n",
       "\n",
       "    .dataframe thead th {\n",
       "        text-align: right;\n",
       "    }\n",
       "</style>\n",
       "<table border=\"1\" class=\"dataframe\">\n",
       "  <thead>\n",
       "    <tr style=\"text-align: right;\">\n",
       "      <th></th>\n",
       "      <th>filename</th>\n",
       "      <th>seconds</th>\n",
       "      <th>class</th>\n",
       "    </tr>\n",
       "  </thead>\n",
       "  <tbody>\n",
       "    <tr>\n",
       "      <th>0</th>\n",
       "      <td>region_38.000-39.900.mp3</td>\n",
       "      <td>1.90</td>\n",
       "      <td>New folder</td>\n",
       "    </tr>\n",
       "    <tr>\n",
       "      <th>1</th>\n",
       "      <td>region_52.750-54.750.mp3</td>\n",
       "      <td>2.00</td>\n",
       "      <td>New folder</td>\n",
       "    </tr>\n",
       "    <tr>\n",
       "      <th>2</th>\n",
       "      <td>region_54.750-56.350.mp3</td>\n",
       "      <td>1.60</td>\n",
       "      <td>New folder</td>\n",
       "    </tr>\n",
       "    <tr>\n",
       "      <th>3</th>\n",
       "      <td>region_56.550-57.900.mp3</td>\n",
       "      <td>1.35</td>\n",
       "      <td>New folder</td>\n",
       "    </tr>\n",
       "    <tr>\n",
       "      <th>4</th>\n",
       "      <td>region_58.050-60.050.mp3</td>\n",
       "      <td>2.00</td>\n",
       "      <td>New folder</td>\n",
       "    </tr>\n",
       "    <tr>\n",
       "      <th>5</th>\n",
       "      <td>region_60.450-61.950.mp3</td>\n",
       "      <td>1.50</td>\n",
       "      <td>New folder</td>\n",
       "    </tr>\n",
       "  </tbody>\n",
       "</table>\n",
       "</div>"
      ],
      "text/plain": [
       "                   filename  seconds       class\n",
       "0  region_38.000-39.900.mp3     1.90  New folder\n",
       "1  region_52.750-54.750.mp3     2.00  New folder\n",
       "2  region_54.750-56.350.mp3     1.60  New folder\n",
       "3  region_56.550-57.900.mp3     1.35  New folder\n",
       "4  region_58.050-60.050.mp3     2.00  New folder\n",
       "5  region_60.450-61.950.mp3     1.50  New folder"
      ]
     },
     "execution_count": 20,
     "metadata": {},
     "output_type": "execute_result"
    }
   ],
   "source": [
    "pd.read_csv(r'./Data2/')"
   ]
  }
 ],
 "metadata": {
  "kernelspec": {
   "display_name": "my_env2",
   "language": "python",
   "name": "python3"
  },
  "language_info": {
   "codemirror_mode": {
    "name": "ipython",
    "version": 3
   },
   "file_extension": ".py",
   "mimetype": "text/x-python",
   "name": "python",
   "nbconvert_exporter": "python",
   "pygments_lexer": "ipython3",
   "version": "3.11.4"
  },
  "orig_nbformat": 4
 },
 "nbformat": 4,
 "nbformat_minor": 2
}
