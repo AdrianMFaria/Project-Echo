{
 "cells": [
  {
   "cell_type": "markdown",
   "metadata": {},
   "source": [
    "# Audio Event Segmenter\n",
    "\n",
    "## Description\n",
    "\n",
    "This program is designed to process recorded audio files, segmenting them into distinct events based on detected starting and ending points. It accomplishes this by creating AudioRegion objects using the 'Auditok' signal processing program. The split_audio function accepts one audio file in 'wav' or 'raw' formats at a time and divides it into smaller segments containing event activity. Event detection relies on energy thresholding, with a default energy threshold of 55. By default, the resulting audio segments will be between 0.2 to 4 seconds in duration and will be saved in the specified output directory. This functionality is particularly useful for breaking down large audio files into individual segments with events, which can be used for model training or testing purposes.\n",
    "\n",
    "Additionally, there is a section provided for fine-tuning the analysis of segmented audio clips to optimise thresholding and other parameters for improved segmentation quality and efficiency. The split_and_plot() function performs audio segmentation as described earlier and generates plots highlighting the segmented regions within the audio file. It's important to note that only one file can be analysed at a time in this mode.\n",
    "\n",
    "Created by Joel Varghese.\n",
    "\n"
   ]
  }
 ],
 "metadata": {
  "language_info": {
   "name": "python"
  },
  "orig_nbformat": 4
 },
 "nbformat": 4,
 "nbformat_minor": 2
}
