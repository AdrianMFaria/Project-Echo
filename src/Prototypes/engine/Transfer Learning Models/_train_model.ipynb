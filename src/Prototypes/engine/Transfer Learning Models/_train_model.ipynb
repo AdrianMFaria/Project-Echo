{
 "cells": [
  {
   "cell_type": "code",
   "execution_count": 1,
   "metadata": {},
   "outputs": [],
   "source": [
    "### Set the Model Name\n",
    "MODEL_NAME = \"MobileNetV2\"\n",
    "\n",
    "import warnings\n",
    "warnings.filterwarnings(\"ignore\")"
   ]
  },
  {
   "cell_type": "code",
   "execution_count": 2,
   "metadata": {},
   "outputs": [
    {
     "name": "stdout",
     "output_type": "stream",
     "text": [
      "Python Version           :  3.8.16\n",
      "TensorFlow Version       :  2.10.1\n",
      "Keras Version            :  2.10.0\n",
      "Librosa Version          :  0.10.1\n",
      "Audiomentations Version  :  0.35.0\n",
      "Found 7514 files belonging to 118 classes.\n",
      "Class names:  ['Acanthiza chrysorrhoa', 'Acanthiza lineata', 'Acanthiza nana', 'Acanthiza pusilla', 'Acanthiza reguloides', 'Acanthiza uropygialis', 'Acanthorhynchus tenuirostris', 'Accipiter cirrocephalus', 'Aidemosyne modesta', 'Alauda arvensis', 'Anhinga novaehollandiae', 'Anthochaera phrygia', 'Antigone rubicunda', 'Artamus cinereus', 'Artamus cyanopterus', 'Artamus minor', 'Artamus superciliosus', 'Barnardius zonarius', 'Callocephalon fimbriatum', 'Calyptorhynchus banksii', 'Calyptorhynchus lathami', 'Capra Hircus', 'Carduelis carduelis', 'Carterornis leucotis', 'Cervus Unicolour', 'Ceyx azureus', 'Chenonetta jubata', 'Chlamydera nuchalis', 'Cincloramphus mathewsi', 'Cinclosoma punctatum', 'Cisticola exilis', 'Climacteris picumnus', 'Colluricincla harmonica', 'Conopophila albogularis', 'Cophixalus exiguus', 'Cophixalus infacetus', 'Cophixalus ornatus', 'Coracina novaehollandiae', 'Coracina papuensis', 'Corcorax melanorhamphos', 'Cormobates leucophaea', 'Corvus mellori', 'Coturnix pectoralis', 'Cygnus atratus', 'Dama Dama', 'Daphoenositta chrysoptera', 'Dasyurus maculatus', 'Dicaeum hirundinaceum', 'Egretta novaehollandiae', 'Elseyornis melanops', 'Entomyzon cyanotis', 'Eurostopodus argus', 'Eurostopodus mystacalis', 'Eurystomus orientalis', 'Falco berigora', 'Falco cenchroides', 'Falco peregrinus', 'Falcunculus frontatus', 'Felis Catus', 'Fulica atra', 'Gallinula tenebrosa', 'Geopelia cuneata', 'Gerygone mouki', 'Haliastur sphenurus', 'Irediparra gallinacea', 'Lalage leucomela', 'Litoria inermis', 'Manorina melanophrys', 'Megapodius reinwardt', 'Melithreptus brevirostris', 'Melithreptus gularis', 'Melithreptus lunatus', 'Microeca flavigaster', 'Neophema pulchella', 'Nesoptilotis leucotis', 'Pachycephala simplex', 'Pardalotus rubricatus', 'Parvipsitta pusilla', 'Pelecanus conspicillatus', 'Petrochelidon ariel', 'Petrochelidon nigricans', 'Petroica boodang', 'Petroica goodenovii', 'Petroica phoenicea', 'Petroica rosea', 'Pezoporus wallicus', 'Phaps elegans', 'Philemon citreogularis', 'Philemon corniculatus', 'Phylidonyris niger', 'Pitta iris', 'Pitta versicolor', 'Platycercus elegans', 'Plectorhyncha lanceolata', 'Psophodes cristatus', 'Ptilinopus regina', 'Pycnoptilus floccosus', 'Ramsayornis fasciatus', 'Ranoidea caerulea', 'Rattus Norvegicus', 'Rhinella marina', 'Rhipidura albiscapa', 'Rhipidura leucophrys', 'Rhipidura rufifrons', 'Rhipidura rufiventris', 'Scythrops novaehollandiae', 'Spilopelia chinensis', 'Stizoptera bichenovii', 'Stomiopera unicolor', 'Strepera versicolor', 'Sus Scrofa', 'Symposiachrus trivirgatus', 'Tregellasia capito', 'Trichosurus vulpecula', 'Uperoleia altissima', 'Uperoleia mimula', 'Vanellus miles', 'Vulpes vulpes']\n",
      "Training dataset length: 6011\n",
      "Validation dataset length: 1427\n",
      "Test dataset length: 76\n"
     ]
    }
   ],
   "source": [
    "exec(f\"from {MODEL_NAME} import *\")"
   ]
  },
  {
   "cell_type": "code",
   "execution_count": 4,
   "metadata": {},
   "outputs": [],
   "source": [
    "### Set the Data Directories\n",
    "SC[\"AUDIO_DATA_DIRECTORY\"] = \".../project-echo-data-bucket-3\"\n",
    "SC[\"CACHE_DIRETORY\"] = \".../project-echo-data-cache\""
   ]
  },
  {
   "cell_type": "code",
   "execution_count": null,
   "metadata": {},
   "outputs": [],
   "source": [
    "train_model()"
   ]
  }
 ],
 "metadata": {
  "kernelspec": {
   "display_name": "dev",
   "language": "python",
   "name": "python3"
  },
  "language_info": {
   "codemirror_mode": {
    "name": "ipython",
    "version": 3
   },
   "file_extension": ".py",
   "mimetype": "text/x-python",
   "name": "python",
   "nbconvert_exporter": "python",
   "pygments_lexer": "ipython3",
   "version": "3.8.16"
  }
 },
 "nbformat": 4,
 "nbformat_minor": 2
}
