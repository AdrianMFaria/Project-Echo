{
 "cells": [
  {
   "cell_type": "code",
   "execution_count": null,
   "metadata": {},
   "outputs": [],
   "source": [
    "import sys\n",
    "!{sys.executable} -m pip install moviepy "
   ]
  },
  {
   "cell_type": "markdown",
   "metadata": {},
   "source": [
    "## Function to convert video file to audio"
   ]
  },
  {
   "cell_type": "code",
   "execution_count": 1,
   "metadata": {},
   "outputs": [],
   "source": [
    "import moviepy.editor as mp\n",
    "\n",
    "def video_to_wav(input_video_path, output_wav_path):\n",
    "    try:\n",
    "        video_clip = mp.VideoFileClip(input_video_path)\n",
    "        audio_clip = video_clip.audio\n",
    "        audio_clip.write_audiofile(output_wav_path, codec=\"pcm_s16le\")\n",
    "        print(f\"Conversion successful. WAV file saved to {output_wav_path}\")\n",
    "    except Exception as e:\n",
    "        print(f\"Error: {str(e)}\")"
   ]
  },
  {
   "cell_type": "markdown",
   "metadata": {},
   "source": [
    "## Implementation"
   ]
  },
  {
   "cell_type": "code",
   "execution_count": null,
   "metadata": {},
   "outputs": [],
   "source": [
    "input_video_path = \"C:/Users/DELL/Videos/Captures/SIT75-5.1P [Jenkins] - Google Chrome 2023-08-28 10-31-50.mp4\"  # the path to your input video\n",
    "output_wav_path = \"C:/Users/DELL/Videos/Captures/SIT75-5.1P [Jenkins] - Google Chrome 2023-08-28 10-31-50.wav\"  # the output WAV file path\n",
    "    \n",
    "video_to_wav(input_video_path, output_wav_path)"
   ]
  }
 ],
 "metadata": {
  "kernelspec": {
   "display_name": "dev",
   "language": "python",
   "name": "python3"
  },
  "language_info": {
   "codemirror_mode": {
    "name": "ipython",
    "version": 3
   },
   "file_extension": ".py",
   "mimetype": "text/x-python",
   "name": "python",
   "nbconvert_exporter": "python",
   "pygments_lexer": "ipython3",
   "version": "3.8.16"
  },
  "orig_nbformat": 4
 },
 "nbformat": 4,
 "nbformat_minor": 2
}
