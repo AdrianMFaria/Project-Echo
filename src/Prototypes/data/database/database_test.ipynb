{
 "cells": [
  {
   "cell_type": "code",
   "execution_count": 1,
   "metadata": {},
   "outputs": [
    {
     "name": "stdout",
     "output_type": "stream",
     "text": [
      "['admin', 'config', 'local']\n"
     ]
    }
   ],
   "source": [
    "import pymongo\n",
    "import json\n",
    "import datetime\n",
    "\n",
    "myclient = pymongo.MongoClient(\"mongodb://localhost:27017\")\n",
    "\n",
    "mydb = myclient[\"mydatabase\"]\n",
    "print(myclient.list_database_names())"
   ]
  },
  {
   "cell_type": "code",
   "execution_count": 2,
   "metadata": {},
   "outputs": [],
   "source": [
    "mydb[\"species\"].drop()\n",
    "mydb[\"events\"].drop()\n"
   ]
  },
  {
   "cell_type": "code",
   "execution_count": 3,
   "metadata": {},
   "outputs": [],
   "source": [
    "# Insert species data\n",
    "mycol = mydb[\"species\"]\n",
    "f = open('species.json')\n",
    "data = json.load(f)\n",
    "x = mycol.insert_many(data)"
   ]
  },
  {
   "cell_type": "code",
   "execution_count": 4,
   "metadata": {},
   "outputs": [
    {
     "name": "stdout",
     "output_type": "stream",
     "text": [
      "{'_id': 'Sus Scrofa', 'commonName': 'Wild Pig', 'type': 'Mammal', 'status': 'Invasive', 'diet': 'Omnivore'}\n",
      "{'_id': 'Cervus Unicolour', 'commonName': 'Sambar Deer', 'type': 'Mammal', 'status': 'Invasive', 'diet': 'Herbavore'}\n",
      "{'_id': 'Aegotheles Cristatus', 'commonName': 'Australian Owlet-nightjar', 'type': 'Bird', 'status': 'Least Concern', 'diet': 'Carnivore'}\n",
      "{'_id': 'Alauda Arvensis', 'commonName': 'European Skylark', 'type': 'Bird', 'status': 'Least Concern', 'diet': 'Omnivore'}\n",
      "{'_id': 'Caligavis Chrysops', 'commonName': 'Yellow-faced Honeyeater', 'type': 'Bird', 'status': 'Least Concern', 'diet': 'Omnivore'}\n",
      "{'_id': 'Capra Hircus', 'commonName': 'Feral Goat', 'type': 'Mammal', 'status': 'Invasive', 'diet': 'Herbavore'}\n",
      "{'_id': 'Colluricincla Harmonica', 'commonName': 'Grey Shrikethrush', 'type': 'Bird', 'status': 'Least Concern', 'diet': 'Omnivore'}\n",
      "{'_id': 'Corvus Coronoides', 'commonName': 'Australian Raven', 'type': 'Bird', 'status': 'Least Concern', 'diet': 'Omnivore'}\n",
      "{'_id': 'Dama Dama', 'commonName': 'Fallow Deer', 'type': 'Mammal', 'status': 'Invasive', 'diet': 'Herbavore'}\n",
      "{'_id': 'Eopsaltria Australis', 'commonName': 'Eastern Yellow Robin', 'type': 'Bird', 'status': 'Least Concern', 'diet': 'Carnivore'}\n",
      "{'_id': 'Felis Catus', 'commonName': 'Cat', 'type': 'Mammal', 'status': 'Invasive', 'diet': 'Carnivore'}\n",
      "{'_id': 'Pachycephala Rufiventris', 'commonName': 'Rufous Whistler', 'type': 'Bird', 'status': 'Least Concern', 'diet': 'Omnivore'}\n",
      "{'_id': 'Ptilotula Penicillata', 'commonName': 'White-plumed Honeyeater', 'type': 'Bird', 'status': 'Least Concern', 'diet': 'Omnivore'}\n",
      "{'_id': 'Rattus Norvegicus', 'commonName': 'Brown Rat', 'type': 'Mammal', 'status': 'Invasive', 'diet': 'Omnivore'}\n",
      "{'_id': 'Strepera Graculina', 'commonName': 'Pied Currawong', 'type': 'Bird', 'status': 'Least Concern', 'diet': 'Omnivore'}\n"
     ]
    }
   ],
   "source": [
    "for x in mydb[\"species\"].find():\n",
    "  print(x)"
   ]
  },
  {
   "cell_type": "code",
   "execution_count": 5,
   "metadata": {},
   "outputs": [
    {
     "name": "stdout",
     "output_type": "stream",
     "text": [
      "2023-03-22 13:45:12\n",
      "2023-03-22 13:55:40\n",
      "2023-03-22 14:55:44\n",
      "2023-03-22 15:20:01\n",
      "2023-03-23 05:55:53\n",
      "2023-03-24 13:20:13\n",
      "{'timestamp': datetime.datetime(2023, 3, 22, 13, 45, 12), 'sensorId': 2, 'species': 'Sus Scrofa', 'microphoneLLA': [-33.1101, 150.0567, 23], 'animalEstLLA': [-33.1105, 150.0569, 23], 'animalTrueLLA': [-33.1106, 150.057, 23], 'animalLLAUncertainty': 10, 'audioClip': 'some audio_base64 data', 'confidence': 99.4}\n",
      "{'timestamp': datetime.datetime(2023, 3, 22, 13, 55, 40), 'sensorId': 2, 'species': 'Cervus Unicolour', 'microphoneLLA': [-33.1101, 150.0567, 23], 'animalEstLLA': [-33.1543, 150.2007, 23], 'animalTrueLLA': [-33.1555, 150.2009, 23], 'animalLLAUncertainty': 10, 'audioClip': 'some audio_base64 data', 'confidence': 98.5}\n",
      "{'timestamp': datetime.datetime(2023, 3, 22, 14, 55, 44), 'sensorId': 1, 'species': 'Aegotheles Cristatus', 'microphoneLLA': [-33.1121, 150.0577, 24], 'animalEstLLA': [-33.1543, 150.2007, 23], 'animalTrueLLA': [-33.1555, 150.2009, 23], 'animalLLAUncertainty': 10, 'audioClip': 'some audio_base64 data', 'confidence': 96.5}\n",
      "{'timestamp': datetime.datetime(2023, 3, 22, 15, 20, 1), 'sensorId': 2, 'species': 'Corvus Coronoides', 'microphoneLLA': [-33.1101, 150.0567, 23], 'animalEstLLA': [-33.1543, 150.2007, 23], 'animalTrueLLA': [-33.1555, 150.2009, 23], 'animalLLAUncertainty': 10, 'audioClip': 'some audio_base64 data', 'confidence': 97.1}\n",
      "{'timestamp': datetime.datetime(2023, 3, 23, 5, 55, 53), 'sensorId': 3, 'species': 'Colluricincla Harmonica', 'microphoneLLA': [-33.1111, 150.0587, 23], 'animalEstLLA': [-33.1543, 150.2007, 23], 'animalTrueLLA': [-33.1555, 150.2009, 23], 'animalLLAUncertainty': 10, 'audioClip': 'some audio_base64 data', 'confidence': 82.0}\n",
      "{'timestamp': datetime.datetime(2023, 3, 24, 13, 20, 13), 'sensorId': 3, 'species': 'Sus Scrofa', 'microphoneLLA': [-33.1111, 150.0587, 23], 'animalEstLLA': [-33.1543, 150.2007, 23], 'animalTrueLLA': [-33.1555, 150.2009, 23], 'animalLLAUncertainty': 10, 'audioClip': 'some audio_base64 data', 'confidence': 95.6}\n"
     ]
    }
   ],
   "source": [
    "# insert some detection events:\n",
    "mycol = mydb[\"events\"]\n",
    "f = open('events.json')\n",
    "data = json.load(f)\n",
    "\n",
    "\n",
    "'''for item in data['timestamp']:\n",
    "    item['iscategorical'] = item['iscategorical'].replace('$home', item['id'])\n",
    "d = '''\n",
    "for item in data:\n",
    "    s = datetime.datetime.strptime(item['timestamp'], \"%Y-%m-%dT%H:%M:%S.000Z\")\n",
    "    print(s)\n",
    "    item['timestamp'] = s\n",
    "\n",
    "for item in data:\n",
    "    print(item)"
   ]
  },
  {
   "cell_type": "code",
   "execution_count": 6,
   "metadata": {},
   "outputs": [],
   "source": [
    "x = mycol.insert_many(data)"
   ]
  },
  {
   "cell_type": "code",
   "execution_count": 7,
   "metadata": {},
   "outputs": [
    {
     "name": "stdout",
     "output_type": "stream",
     "text": [
      "{'_id': ObjectId('642e36a12880156c39ff50d7'), 'timestamp': datetime.datetime(2023, 3, 22, 13, 45, 12), 'sensorId': 2, 'species': 'Sus Scrofa', 'microphoneLLA': [-33.1101, 150.0567, 23], 'animalEstLLA': [-33.1105, 150.0569, 23], 'animalTrueLLA': [-33.1106, 150.057, 23], 'animalLLAUncertainty': 10, 'audioClip': 'some audio_base64 data', 'confidence': 99.4}\n",
      "{'_id': ObjectId('642e36a12880156c39ff50d8'), 'timestamp': datetime.datetime(2023, 3, 22, 13, 55, 40), 'sensorId': 2, 'species': 'Cervus Unicolour', 'microphoneLLA': [-33.1101, 150.0567, 23], 'animalEstLLA': [-33.1543, 150.2007, 23], 'animalTrueLLA': [-33.1555, 150.2009, 23], 'animalLLAUncertainty': 10, 'audioClip': 'some audio_base64 data', 'confidence': 98.5}\n",
      "{'_id': ObjectId('642e36a12880156c39ff50d9'), 'timestamp': datetime.datetime(2023, 3, 22, 14, 55, 44), 'sensorId': 1, 'species': 'Aegotheles Cristatus', 'microphoneLLA': [-33.1121, 150.0577, 24], 'animalEstLLA': [-33.1543, 150.2007, 23], 'animalTrueLLA': [-33.1555, 150.2009, 23], 'animalLLAUncertainty': 10, 'audioClip': 'some audio_base64 data', 'confidence': 96.5}\n",
      "{'_id': ObjectId('642e36a12880156c39ff50da'), 'timestamp': datetime.datetime(2023, 3, 22, 15, 20, 1), 'sensorId': 2, 'species': 'Corvus Coronoides', 'microphoneLLA': [-33.1101, 150.0567, 23], 'animalEstLLA': [-33.1543, 150.2007, 23], 'animalTrueLLA': [-33.1555, 150.2009, 23], 'animalLLAUncertainty': 10, 'audioClip': 'some audio_base64 data', 'confidence': 97.1}\n",
      "{'_id': ObjectId('642e36a12880156c39ff50db'), 'timestamp': datetime.datetime(2023, 3, 23, 5, 55, 53), 'sensorId': 3, 'species': 'Colluricincla Harmonica', 'microphoneLLA': [-33.1111, 150.0587, 23], 'animalEstLLA': [-33.1543, 150.2007, 23], 'animalTrueLLA': [-33.1555, 150.2009, 23], 'animalLLAUncertainty': 10, 'audioClip': 'some audio_base64 data', 'confidence': 82.0}\n",
      "{'_id': ObjectId('642e36a12880156c39ff50dc'), 'timestamp': datetime.datetime(2023, 3, 24, 13, 20, 13), 'sensorId': 3, 'species': 'Sus Scrofa', 'microphoneLLA': [-33.1111, 150.0587, 23], 'animalEstLLA': [-33.1543, 150.2007, 23], 'animalTrueLLA': [-33.1555, 150.2009, 23], 'animalLLAUncertainty': 10, 'audioClip': 'some audio_base64 data', 'confidence': 95.6}\n"
     ]
    }
   ],
   "source": [
    "for x in mydb[\"events\"].find():\n",
    "  print(x)"
   ]
  },
  {
   "cell_type": "code",
   "execution_count": null,
   "metadata": {},
   "outputs": [],
   "source": []
  },
  {
   "cell_type": "code",
   "execution_count": 8,
   "metadata": {},
   "outputs": [],
   "source": [
    "\n",
    "start = datetime.datetime(2023, 3, 22, 13, 44)\n",
    "end = datetime.datetime(2023, 3, 23, 13, 44)\n",
    "aggregate = [\n",
    "        {\n",
    "            '$lookup': {\n",
    "                'from': 'species',\n",
    "                'localField': 'species',\n",
    "                'foreignField': '_id',\n",
    "                'as': 'info'\n",
    "            }\n",
    "        },\n",
    "        {\n",
    "            '$match':{'timestamp': {'$lt' : end, '$gte' : start }}\n",
    "        }\n",
    "\n",
    "    ]"
   ]
  },
  {
   "cell_type": "code",
   "execution_count": 9,
   "metadata": {},
   "outputs": [],
   "source": [
    "result = mydb[\"events\"].aggregate(aggregate)"
   ]
  },
  {
   "cell_type": "code",
   "execution_count": 10,
   "metadata": {},
   "outputs": [
    {
     "name": "stdout",
     "output_type": "stream",
     "text": [
      "{'_id': ObjectId('642e36a12880156c39ff50d7'), 'timestamp': datetime.datetime(2023, 3, 22, 13, 45, 12), 'sensorId': 2, 'species': 'Sus Scrofa', 'microphoneLLA': [-33.1101, 150.0567, 23], 'animalEstLLA': [-33.1105, 150.0569, 23], 'animalTrueLLA': [-33.1106, 150.057, 23], 'animalLLAUncertainty': 10, 'audioClip': 'some audio_base64 data', 'confidence': 99.4, 'info': [{'_id': 'Sus Scrofa', 'commonName': 'Wild Pig', 'type': 'Mammal', 'status': 'Invasive', 'diet': 'Omnivore'}]}\n",
      "{'_id': ObjectId('642e36a12880156c39ff50d8'), 'timestamp': datetime.datetime(2023, 3, 22, 13, 55, 40), 'sensorId': 2, 'species': 'Cervus Unicolour', 'microphoneLLA': [-33.1101, 150.0567, 23], 'animalEstLLA': [-33.1543, 150.2007, 23], 'animalTrueLLA': [-33.1555, 150.2009, 23], 'animalLLAUncertainty': 10, 'audioClip': 'some audio_base64 data', 'confidence': 98.5, 'info': [{'_id': 'Cervus Unicolour', 'commonName': 'Sambar Deer', 'type': 'Mammal', 'status': 'Invasive', 'diet': 'Herbavore'}]}\n",
      "{'_id': ObjectId('642e36a12880156c39ff50d9'), 'timestamp': datetime.datetime(2023, 3, 22, 14, 55, 44), 'sensorId': 1, 'species': 'Aegotheles Cristatus', 'microphoneLLA': [-33.1121, 150.0577, 24], 'animalEstLLA': [-33.1543, 150.2007, 23], 'animalTrueLLA': [-33.1555, 150.2009, 23], 'animalLLAUncertainty': 10, 'audioClip': 'some audio_base64 data', 'confidence': 96.5, 'info': [{'_id': 'Aegotheles Cristatus', 'commonName': 'Australian Owlet-nightjar', 'type': 'Bird', 'status': 'Least Concern', 'diet': 'Carnivore'}]}\n",
      "{'_id': ObjectId('642e36a12880156c39ff50da'), 'timestamp': datetime.datetime(2023, 3, 22, 15, 20, 1), 'sensorId': 2, 'species': 'Corvus Coronoides', 'microphoneLLA': [-33.1101, 150.0567, 23], 'animalEstLLA': [-33.1543, 150.2007, 23], 'animalTrueLLA': [-33.1555, 150.2009, 23], 'animalLLAUncertainty': 10, 'audioClip': 'some audio_base64 data', 'confidence': 97.1, 'info': [{'_id': 'Corvus Coronoides', 'commonName': 'Australian Raven', 'type': 'Bird', 'status': 'Least Concern', 'diet': 'Omnivore'}]}\n",
      "{'_id': ObjectId('642e36a12880156c39ff50db'), 'timestamp': datetime.datetime(2023, 3, 23, 5, 55, 53), 'sensorId': 3, 'species': 'Colluricincla Harmonica', 'microphoneLLA': [-33.1111, 150.0587, 23], 'animalEstLLA': [-33.1543, 150.2007, 23], 'animalTrueLLA': [-33.1555, 150.2009, 23], 'animalLLAUncertainty': 10, 'audioClip': 'some audio_base64 data', 'confidence': 82.0, 'info': [{'_id': 'Colluricincla Harmonica', 'commonName': 'Grey Shrikethrush', 'type': 'Bird', 'status': 'Least Concern', 'diet': 'Omnivore'}]}\n"
     ]
    }
   ],
   "source": [
    "\n",
    "for i in result:\n",
    "    print(i)"
   ]
  }
 ],
 "metadata": {
  "kernelspec": {
   "display_name": "Python 3.7.3",
   "language": "python",
   "name": "python3"
  },
  "language_info": {
   "codemirror_mode": {
    "name": "ipython",
    "version": 3
   },
   "file_extension": ".py",
   "mimetype": "text/x-python",
   "name": "python",
   "nbconvert_exporter": "python",
   "pygments_lexer": "ipython3",
   "version": "3.7.3"
  },
  "orig_nbformat": 4,
  "vscode": {
   "interpreter": {
    "hash": "b336ee4e788fc3e23bd51937bde8ca08970d3a4eb61a61a45aebb71370d36bbf"
   }
  }
 },
 "nbformat": 4,
 "nbformat_minor": 2
}
