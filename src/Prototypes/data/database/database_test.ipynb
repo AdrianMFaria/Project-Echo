{
 "cells": [
  {
   "cell_type": "code",
   "execution_count": 61,
   "metadata": {},
   "outputs": [
    {
     "name": "stdout",
     "output_type": "stream",
     "text": [
      "['SIT314', 'admin', 'college', 'config', 'local', 'mydatabase', 'test']\n"
     ]
    }
   ],
   "source": [
    "import pymongo\n",
    "import json\n",
    "import datetime\n",
    "\n",
    "myclient = pymongo.MongoClient(\"mongodb://localhost:27017\")\n",
    "\n",
    "mydb = myclient[\"mydatabase\"]\n",
    "print(myclient.list_database_names())"
   ]
  },
  {
   "cell_type": "code",
   "execution_count": 52,
   "metadata": {},
   "outputs": [],
   "source": [
    "mydb[\"species\"].drop()\n",
    "mydb[\"events\"].drop()\n"
   ]
  },
  {
   "cell_type": "code",
   "execution_count": 53,
   "metadata": {},
   "outputs": [],
   "source": [
    "# Insert species data\n",
    "mycol = mydb[\"species\"]\n",
    "f = open('species.json')\n",
    "data = json.load(f)\n",
    "x = mycol.insert_many(data)"
   ]
  },
  {
   "cell_type": "code",
   "execution_count": 54,
   "metadata": {},
   "outputs": [
    {
     "name": "stdout",
     "output_type": "stream",
     "text": [
      "{'_id': 'Sus Scrofa', 'commonName': 'Wild Pig', 'type': 'Mammal', 'status': 'Invasive', 'diet': 'Omnivore'}\n",
      "{'_id': 'Cervus Unicolour', 'commonName': 'Sambar Deer', 'type': 'Mammal', 'status': 'Invasive', 'diet': 'Herbavore'}\n",
      "{'_id': 'Aegotheles Cristatus', 'commonName': 'Australian Owlet-nightjar', 'type': 'Bird', 'status': 'Least Concern', 'diet': 'Carnivore'}\n",
      "{'_id': 'Alauda Arvensis', 'commonName': 'European Skylark', 'type': 'Bird', 'status': 'Least Concern', 'diet': 'Omnivore'}\n",
      "{'_id': 'Caligavis Chrysops', 'commonName': 'Yellow-faced Honeyeater', 'type': 'Bird', 'status': 'Least Concern', 'diet': 'Omnivore'}\n",
      "{'_id': 'Capra Hircus', 'commonName': 'Feral Goat', 'type': 'Mammal', 'status': 'Invasive', 'diet': 'Herbavore'}\n",
      "{'_id': 'Colluricincla Harmonica', 'commonName': 'Grey Shrikethrush', 'type': 'Bird', 'status': 'Least Concern', 'diet': 'Omnivore'}\n",
      "{'_id': 'Corvus Coronoides', 'commonName': 'Australian Raven', 'type': 'Bird', 'status': 'Least Concern', 'diet': 'Omnivore'}\n",
      "{'_id': 'Dama Dama', 'commonName': 'Fallow Deer', 'type': 'Mammal', 'status': 'Invasive', 'diet': 'Herbavore'}\n",
      "{'_id': 'Eopsaltria Australis', 'commonName': 'Eastern Yellow Robin', 'type': 'Bird', 'status': 'Least Concern', 'diet': 'Carnivore'}\n",
      "{'_id': 'Felis Catus', 'commonName': 'Cat', 'type': 'Mammal', 'status': 'Invasive', 'diet': 'Carnivore'}\n",
      "{'_id': 'Pachycephala Rufiventris', 'commonName': 'Rufous Whistler', 'type': 'Bird', 'status': 'Least Concern', 'diet': 'Omnivore'}\n",
      "{'_id': 'Ptilotula Penicillata', 'commonName': 'White-plumed Honeyeater', 'type': 'Bird', 'status': 'Least Concern', 'diet': 'Omnivore'}\n",
      "{'_id': 'Rattus Norvegicus', 'commonName': 'Brown Rat', 'type': 'Mammal', 'status': 'Invasive', 'diet': 'Omnivore'}\n",
      "{'_id': 'Strepera Graculina', 'commonName': 'Pied Currawong', 'type': 'Bird', 'status': 'Least Concern', 'diet': 'Omnivore'}\n"
     ]
    }
   ],
   "source": [
    "for x in mydb[\"species\"].find():\n",
    "  print(x)"
   ]
  },
  {
   "cell_type": "code",
   "execution_count": 78,
   "metadata": {},
   "outputs": [
    {
     "name": "stdout",
     "output_type": "stream",
     "text": [
      "2023-03-22 13:45:00\n",
      "2023-03-22 13:55:00\n",
      "2023-03-22 14:55:00\n",
      "2023-03-22 15:20:00\n",
      "2023-03-23 05:55:00\n",
      "2023-03-24 13:20:00\n",
      "{'timestamp': datetime.datetime(2023, 3, 22, 13, 45), 'sensorId': 2, 'species': 'Sus Scrofa', 'microphoneLLA': [-33.1101, 150.0567, 23], 'animalEstLLA': [-33.1105, 150.0569, 23], 'animalTrueLLA': [-33.1106, 150.057, 23], 'animalLLAUncertainty': 10, 'audio clip': 'some audio_base64 data', 'confidence': 99.4}\n",
      "{'timestamp': datetime.datetime(2023, 3, 22, 13, 55), 'sensorId': 2, 'species': 'Cervus Unicolour', 'microphoneLLA': [-33.1101, 150.0567, 23], 'animalEstLLA': [-33.1543, 150.2007, 23], 'animalTrueLLA': [-33.1555, 150.2009, 23], 'animalLLAUncertainty': 10, 'audio clip': 'some audio_base64 data', 'confidence': 98.5}\n",
      "{'timestamp': datetime.datetime(2023, 3, 22, 14, 55), 'sensorId': 1, 'species': 'Aegotheles Cristatus', 'microphoneLLA': [-33.1121, 150.0577, 24], 'animalEstLLA': [-33.1543, 150.2007, 23], 'animalTrueLLA': [-33.1555, 150.2009, 23], 'animalLLAUncertainty': 10, 'audio clip': 'some audio_base64 data', 'confidence': 96.5}\n",
      "{'timestamp': datetime.datetime(2023, 3, 22, 15, 20), 'sensorId': 2, 'species': 'Corvus Coronoides', 'microphoneLLA': [-33.1101, 150.0567, 23], 'animalEstLLA': [-33.1543, 150.2007, 23], 'animalTrueLLA': [-33.1555, 150.2009, 23], 'animalLLAUncertainty': 10, 'audio clip': 'some audio_base64 data', 'confidence': 97.1}\n",
      "{'timestamp': datetime.datetime(2023, 3, 23, 5, 55), 'sensorId': 3, 'species': 'Colluricincla Harmonica', 'microphoneLLA': [-33.1111, 150.0587, 23], 'animalEstLLA': [-33.1543, 150.2007, 23], 'animalTrueLLA': [-33.1555, 150.2009, 23], 'animalLLAUncertainty': 10, 'audio clip': 'some audio_base64 data', 'confidence': 82.0}\n",
      "{'timestamp': datetime.datetime(2023, 3, 24, 13, 20), 'sensorId': 3, 'species': 'Sus Scrofa', 'microphoneLLA': [-33.1111, 150.0587, 23], 'animalEstLLA': [-33.1543, 150.2007, 23], 'animalTrueLLA': [-33.1555, 150.2009, 23], 'animalLLAUncertainty': 10, 'audio clip': 'some audio_base64 data', 'confidence': 95.6}\n"
     ]
    }
   ],
   "source": [
    "# insert some detection events:\n",
    "mycol = mydb[\"events\"]\n",
    "f = open('events.json')\n",
    "data = json.load(f)\n",
    "\n",
    "\n",
    "'''for item in data['timestamp']:\n",
    "    item['iscategorical'] = item['iscategorical'].replace('$home', item['id'])\n",
    "d = '''\n",
    "for item in data:\n",
    "    s = datetime.datetime.strptime(item['timestamp'], \"%Y-%m-%dT%H:%M:%S.000Z\")\n",
    "    print(s)\n",
    "    item['timestamp'] = s\n",
    "\n",
    "for item in data:\n",
    "    print(item)"
   ]
  },
  {
   "cell_type": "code",
   "execution_count": 79,
   "metadata": {},
   "outputs": [],
   "source": [
    "x = mycol.insert_many(data)"
   ]
  },
  {
   "cell_type": "code",
   "execution_count": 80,
   "metadata": {},
   "outputs": [
    {
     "name": "stdout",
     "output_type": "stream",
     "text": [
      "{'_id': ObjectId('642ccf96c62ff18957e5accf'), 'timestamp': '2023-03-22T13:45:00.000Z', 'sensorId': 2, 'species': 'Sus Scrofa', 'microphoneLLA': [-33.1101, 150.0567, 23], 'animalEstLLA': [-33.1105, 150.0569, 23], 'animalTrueLLA': [-33.1106, 150.057, 23], 'animalLLAUncertainty': 10, 'audio clip': 'some audio_base64 data', 'confidence': 99.4}\n",
      "{'_id': ObjectId('642ccf96c62ff18957e5acd0'), 'timestamp': '2023-03-22T13:55:00.000Z', 'sensorId': 2, 'species': 'Cervus Unicolour', 'microphoneLLA': [-33.1101, 150.0567, 23], 'animalEstLLA': [-33.1543, 150.2007, 23], 'animalTrueLLA': [-33.1555, 150.2009, 23], 'animalLLAUncertainty': 10, 'audio clip': 'some audio_base64 data', 'confidence': 98.5}\n",
      "{'_id': ObjectId('642ccf96c62ff18957e5acd1'), 'timestamp': '2023-03-22T14:55:00.000Z', 'sensorId': 1, 'species': 'Aegotheles Cristatus', 'microphoneLLA': [-33.1121, 150.0577, 24], 'animalEstLLA': [-33.1543, 150.2007, 23], 'animalTrueLLA': [-33.1555, 150.2009, 23], 'animalLLAUncertainty': 10, 'audio clip': 'some audio_base64 data', 'confidence': 96.5}\n",
      "{'_id': ObjectId('642ccf96c62ff18957e5acd2'), 'timestamp': '2023-03-22T15:20:00.000Z', 'sensorId': 2, 'species': 'Corvus Coronoides', 'microphoneLLA': [-33.1101, 150.0567, 23], 'animalEstLLA': [-33.1543, 150.2007, 23], 'animalTrueLLA': [-33.1555, 150.2009, 23], 'animalLLAUncertainty': 10, 'audio clip': 'some audio_base64 data', 'confidence': 97.1}\n",
      "{'_id': ObjectId('642ccf96c62ff18957e5acd3'), 'timestamp': '2023-03-23T05:55:00.000Z', 'sensorId': 3, 'species': 'Colluricincla Harmonica', 'microphoneLLA': [-33.1111, 150.0587, 23], 'animalEstLLA': [-33.1543, 150.2007, 23], 'animalTrueLLA': [-33.1555, 150.2009, 23], 'animalLLAUncertainty': 10, 'audio clip': 'some audio_base64 data', 'confidence': 82.0}\n",
      "{'_id': ObjectId('642ccf96c62ff18957e5acd4'), 'timestamp': '2023-03-24T13:20:00.000Z', 'sensorId': 3, 'species': 'Sus Scrofa', 'microphoneLLA': [-33.1111, 150.0587, 23], 'animalEstLLA': [-33.1543, 150.2007, 23], 'animalTrueLLA': [-33.1555, 150.2009, 23], 'animalLLAUncertainty': 10, 'audio clip': 'some audio_base64 data', 'confidence': 95.6}\n",
      "{'_id': ObjectId('642cd7d4c62ff18957e5acd6'), 'timestamp': datetime.datetime(2023, 3, 22, 13, 45), 'sensorId': 2, 'species': 'Sus Scrofa', 'microphoneLLA': [-33.1101, 150.0567, 23], 'animalEstLLA': [-33.1105, 150.0569, 23], 'animalTrueLLA': [-33.1106, 150.057, 23], 'animalLLAUncertainty': 10, 'audio clip': 'some audio_base64 data', 'confidence': 99.4}\n",
      "{'_id': ObjectId('642cd7d4c62ff18957e5acd7'), 'timestamp': datetime.datetime(2023, 3, 22, 13, 55), 'sensorId': 2, 'species': 'Cervus Unicolour', 'microphoneLLA': [-33.1101, 150.0567, 23], 'animalEstLLA': [-33.1543, 150.2007, 23], 'animalTrueLLA': [-33.1555, 150.2009, 23], 'animalLLAUncertainty': 10, 'audio clip': 'some audio_base64 data', 'confidence': 98.5}\n",
      "{'_id': ObjectId('642cd7d4c62ff18957e5acd8'), 'timestamp': datetime.datetime(2023, 3, 22, 14, 55), 'sensorId': 1, 'species': 'Aegotheles Cristatus', 'microphoneLLA': [-33.1121, 150.0577, 24], 'animalEstLLA': [-33.1543, 150.2007, 23], 'animalTrueLLA': [-33.1555, 150.2009, 23], 'animalLLAUncertainty': 10, 'audio clip': 'some audio_base64 data', 'confidence': 96.5}\n",
      "{'_id': ObjectId('642cd7d4c62ff18957e5acd9'), 'timestamp': datetime.datetime(2023, 3, 22, 15, 20), 'sensorId': 2, 'species': 'Corvus Coronoides', 'microphoneLLA': [-33.1101, 150.0567, 23], 'animalEstLLA': [-33.1543, 150.2007, 23], 'animalTrueLLA': [-33.1555, 150.2009, 23], 'animalLLAUncertainty': 10, 'audio clip': 'some audio_base64 data', 'confidence': 97.1}\n",
      "{'_id': ObjectId('642cd7d4c62ff18957e5acda'), 'timestamp': datetime.datetime(2023, 3, 23, 5, 55), 'sensorId': 3, 'species': 'Colluricincla Harmonica', 'microphoneLLA': [-33.1111, 150.0587, 23], 'animalEstLLA': [-33.1543, 150.2007, 23], 'animalTrueLLA': [-33.1555, 150.2009, 23], 'animalLLAUncertainty': 10, 'audio clip': 'some audio_base64 data', 'confidence': 82.0}\n",
      "{'_id': ObjectId('642cd7d4c62ff18957e5acdb'), 'timestamp': datetime.datetime(2023, 3, 24, 13, 20), 'sensorId': 3, 'species': 'Sus Scrofa', 'microphoneLLA': [-33.1111, 150.0587, 23], 'animalEstLLA': [-33.1543, 150.2007, 23], 'animalTrueLLA': [-33.1555, 150.2009, 23], 'animalLLAUncertainty': 10, 'audio clip': 'some audio_base64 data', 'confidence': 95.6}\n",
      "{'_id': ObjectId('642cd7eac62ff18957e5acdc'), 'timestamp': datetime.datetime(2023, 3, 22, 13, 45), 'sensorId': 2, 'species': 'Sus Scrofa', 'microphoneLLA': [-33.1101, 150.0567, 23], 'animalEstLLA': [-33.1105, 150.0569, 23], 'animalTrueLLA': [-33.1106, 150.057, 23], 'animalLLAUncertainty': 10, 'audio clip': 'some audio_base64 data', 'confidence': 99.4}\n",
      "{'_id': ObjectId('642cd7eac62ff18957e5acdd'), 'timestamp': datetime.datetime(2023, 3, 22, 13, 55), 'sensorId': 2, 'species': 'Cervus Unicolour', 'microphoneLLA': [-33.1101, 150.0567, 23], 'animalEstLLA': [-33.1543, 150.2007, 23], 'animalTrueLLA': [-33.1555, 150.2009, 23], 'animalLLAUncertainty': 10, 'audio clip': 'some audio_base64 data', 'confidence': 98.5}\n",
      "{'_id': ObjectId('642cd7eac62ff18957e5acde'), 'timestamp': datetime.datetime(2023, 3, 22, 14, 55), 'sensorId': 1, 'species': 'Aegotheles Cristatus', 'microphoneLLA': [-33.1121, 150.0577, 24], 'animalEstLLA': [-33.1543, 150.2007, 23], 'animalTrueLLA': [-33.1555, 150.2009, 23], 'animalLLAUncertainty': 10, 'audio clip': 'some audio_base64 data', 'confidence': 96.5}\n",
      "{'_id': ObjectId('642cd7eac62ff18957e5acdf'), 'timestamp': datetime.datetime(2023, 3, 22, 15, 20), 'sensorId': 2, 'species': 'Corvus Coronoides', 'microphoneLLA': [-33.1101, 150.0567, 23], 'animalEstLLA': [-33.1543, 150.2007, 23], 'animalTrueLLA': [-33.1555, 150.2009, 23], 'animalLLAUncertainty': 10, 'audio clip': 'some audio_base64 data', 'confidence': 97.1}\n",
      "{'_id': ObjectId('642cd7eac62ff18957e5ace0'), 'timestamp': datetime.datetime(2023, 3, 23, 5, 55), 'sensorId': 3, 'species': 'Colluricincla Harmonica', 'microphoneLLA': [-33.1111, 150.0587, 23], 'animalEstLLA': [-33.1543, 150.2007, 23], 'animalTrueLLA': [-33.1555, 150.2009, 23], 'animalLLAUncertainty': 10, 'audio clip': 'some audio_base64 data', 'confidence': 82.0}\n",
      "{'_id': ObjectId('642cd7eac62ff18957e5ace1'), 'timestamp': datetime.datetime(2023, 3, 24, 13, 20), 'sensorId': 3, 'species': 'Sus Scrofa', 'microphoneLLA': [-33.1111, 150.0587, 23], 'animalEstLLA': [-33.1543, 150.2007, 23], 'animalTrueLLA': [-33.1555, 150.2009, 23], 'animalLLAUncertainty': 10, 'audio clip': 'some audio_base64 data', 'confidence': 95.6}\n",
      "{'_id': ObjectId('642cd8f9c62ff18957e5ace2'), 'timestamp': datetime.datetime(2023, 3, 22, 13, 45), 'sensorId': 2, 'species': 'Sus Scrofa', 'microphoneLLA': [-33.1101, 150.0567, 23], 'animalEstLLA': [-33.1105, 150.0569, 23], 'animalTrueLLA': [-33.1106, 150.057, 23], 'animalLLAUncertainty': 10, 'audio clip': 'some audio_base64 data', 'confidence': 99.4}\n",
      "{'_id': ObjectId('642cd8f9c62ff18957e5ace3'), 'timestamp': datetime.datetime(2023, 3, 22, 13, 55), 'sensorId': 2, 'species': 'Cervus Unicolour', 'microphoneLLA': [-33.1101, 150.0567, 23], 'animalEstLLA': [-33.1543, 150.2007, 23], 'animalTrueLLA': [-33.1555, 150.2009, 23], 'animalLLAUncertainty': 10, 'audio clip': 'some audio_base64 data', 'confidence': 98.5}\n",
      "{'_id': ObjectId('642cd8f9c62ff18957e5ace4'), 'timestamp': datetime.datetime(2023, 3, 22, 14, 55), 'sensorId': 1, 'species': 'Aegotheles Cristatus', 'microphoneLLA': [-33.1121, 150.0577, 24], 'animalEstLLA': [-33.1543, 150.2007, 23], 'animalTrueLLA': [-33.1555, 150.2009, 23], 'animalLLAUncertainty': 10, 'audio clip': 'some audio_base64 data', 'confidence': 96.5}\n",
      "{'_id': ObjectId('642cd8f9c62ff18957e5ace5'), 'timestamp': datetime.datetime(2023, 3, 22, 15, 20), 'sensorId': 2, 'species': 'Corvus Coronoides', 'microphoneLLA': [-33.1101, 150.0567, 23], 'animalEstLLA': [-33.1543, 150.2007, 23], 'animalTrueLLA': [-33.1555, 150.2009, 23], 'animalLLAUncertainty': 10, 'audio clip': 'some audio_base64 data', 'confidence': 97.1}\n",
      "{'_id': ObjectId('642cd8f9c62ff18957e5ace6'), 'timestamp': datetime.datetime(2023, 3, 23, 5, 55), 'sensorId': 3, 'species': 'Colluricincla Harmonica', 'microphoneLLA': [-33.1111, 150.0587, 23], 'animalEstLLA': [-33.1543, 150.2007, 23], 'animalTrueLLA': [-33.1555, 150.2009, 23], 'animalLLAUncertainty': 10, 'audio clip': 'some audio_base64 data', 'confidence': 82.0}\n",
      "{'_id': ObjectId('642cd8f9c62ff18957e5ace7'), 'timestamp': datetime.datetime(2023, 3, 24, 13, 20), 'sensorId': 3, 'species': 'Sus Scrofa', 'microphoneLLA': [-33.1111, 150.0587, 23], 'animalEstLLA': [-33.1543, 150.2007, 23], 'animalTrueLLA': [-33.1555, 150.2009, 23], 'animalLLAUncertainty': 10, 'audio clip': 'some audio_base64 data', 'confidence': 95.6}\n"
     ]
    }
   ],
   "source": [
    "for x in mydb[\"events\"].find():\n",
    "  print(x)"
   ]
  },
  {
   "cell_type": "code",
   "execution_count": 86,
   "metadata": {},
   "outputs": [],
   "source": []
  },
  {
   "cell_type": "code",
   "execution_count": 91,
   "metadata": {},
   "outputs": [],
   "source": [
    "\n",
    "start = datetime.datetime(2023, 3, 22, 13, 44)\n",
    "end = datetime.datetime(2023, 3, 23, 13, 44)\n",
    "aggregate = [\n",
    "        {\n",
    "            '$lookup': {\n",
    "                'from': 'species',\n",
    "                'localField': 'species',\n",
    "                'foreignField': '_id',\n",
    "                'as': 'info'\n",
    "            }\n",
    "        },\n",
    "        {\n",
    "            '$match':{'timestamp': {'$lt' : end, '$gte' : start }}\n",
    "        }\n",
    "\n",
    "    ]"
   ]
  },
  {
   "cell_type": "code",
   "execution_count": 92,
   "metadata": {},
   "outputs": [],
   "source": [
    "result = mydb[\"events\"].aggregate(aggregate)"
   ]
  },
  {
   "cell_type": "code",
   "execution_count": 93,
   "metadata": {},
   "outputs": [
    {
     "name": "stdout",
     "output_type": "stream",
     "text": [
      "{'_id': ObjectId('642cd7d4c62ff18957e5acd6'), 'timestamp': datetime.datetime(2023, 3, 22, 13, 45), 'sensorId': 2, 'species': 'Sus Scrofa', 'microphoneLLA': [-33.1101, 150.0567, 23], 'animalEstLLA': [-33.1105, 150.0569, 23], 'animalTrueLLA': [-33.1106, 150.057, 23], 'animalLLAUncertainty': 10, 'audio clip': 'some audio_base64 data', 'confidence': 99.4, 'info': [{'_id': 'Sus Scrofa', 'commonName': 'Wild Pig', 'type': 'Mammal', 'status': 'Invasive', 'diet': 'Omnivore'}]}\n",
      "{'_id': ObjectId('642cd7d4c62ff18957e5acd7'), 'timestamp': datetime.datetime(2023, 3, 22, 13, 55), 'sensorId': 2, 'species': 'Cervus Unicolour', 'microphoneLLA': [-33.1101, 150.0567, 23], 'animalEstLLA': [-33.1543, 150.2007, 23], 'animalTrueLLA': [-33.1555, 150.2009, 23], 'animalLLAUncertainty': 10, 'audio clip': 'some audio_base64 data', 'confidence': 98.5, 'info': [{'_id': 'Cervus Unicolour', 'commonName': 'Sambar Deer', 'type': 'Mammal', 'status': 'Invasive', 'diet': 'Herbavore'}]}\n",
      "{'_id': ObjectId('642cd7d4c62ff18957e5acd8'), 'timestamp': datetime.datetime(2023, 3, 22, 14, 55), 'sensorId': 1, 'species': 'Aegotheles Cristatus', 'microphoneLLA': [-33.1121, 150.0577, 24], 'animalEstLLA': [-33.1543, 150.2007, 23], 'animalTrueLLA': [-33.1555, 150.2009, 23], 'animalLLAUncertainty': 10, 'audio clip': 'some audio_base64 data', 'confidence': 96.5, 'info': [{'_id': 'Aegotheles Cristatus', 'commonName': 'Australian Owlet-nightjar', 'type': 'Bird', 'status': 'Least Concern', 'diet': 'Carnivore'}]}\n",
      "{'_id': ObjectId('642cd7d4c62ff18957e5acd9'), 'timestamp': datetime.datetime(2023, 3, 22, 15, 20), 'sensorId': 2, 'species': 'Corvus Coronoides', 'microphoneLLA': [-33.1101, 150.0567, 23], 'animalEstLLA': [-33.1543, 150.2007, 23], 'animalTrueLLA': [-33.1555, 150.2009, 23], 'animalLLAUncertainty': 10, 'audio clip': 'some audio_base64 data', 'confidence': 97.1, 'info': [{'_id': 'Corvus Coronoides', 'commonName': 'Australian Raven', 'type': 'Bird', 'status': 'Least Concern', 'diet': 'Omnivore'}]}\n",
      "{'_id': ObjectId('642cd7d4c62ff18957e5acda'), 'timestamp': datetime.datetime(2023, 3, 23, 5, 55), 'sensorId': 3, 'species': 'Colluricincla Harmonica', 'microphoneLLA': [-33.1111, 150.0587, 23], 'animalEstLLA': [-33.1543, 150.2007, 23], 'animalTrueLLA': [-33.1555, 150.2009, 23], 'animalLLAUncertainty': 10, 'audio clip': 'some audio_base64 data', 'confidence': 82.0, 'info': [{'_id': 'Colluricincla Harmonica', 'commonName': 'Grey Shrikethrush', 'type': 'Bird', 'status': 'Least Concern', 'diet': 'Omnivore'}]}\n",
      "{'_id': ObjectId('642cd7eac62ff18957e5acdc'), 'timestamp': datetime.datetime(2023, 3, 22, 13, 45), 'sensorId': 2, 'species': 'Sus Scrofa', 'microphoneLLA': [-33.1101, 150.0567, 23], 'animalEstLLA': [-33.1105, 150.0569, 23], 'animalTrueLLA': [-33.1106, 150.057, 23], 'animalLLAUncertainty': 10, 'audio clip': 'some audio_base64 data', 'confidence': 99.4, 'info': [{'_id': 'Sus Scrofa', 'commonName': 'Wild Pig', 'type': 'Mammal', 'status': 'Invasive', 'diet': 'Omnivore'}]}\n",
      "{'_id': ObjectId('642cd7eac62ff18957e5acdd'), 'timestamp': datetime.datetime(2023, 3, 22, 13, 55), 'sensorId': 2, 'species': 'Cervus Unicolour', 'microphoneLLA': [-33.1101, 150.0567, 23], 'animalEstLLA': [-33.1543, 150.2007, 23], 'animalTrueLLA': [-33.1555, 150.2009, 23], 'animalLLAUncertainty': 10, 'audio clip': 'some audio_base64 data', 'confidence': 98.5, 'info': [{'_id': 'Cervus Unicolour', 'commonName': 'Sambar Deer', 'type': 'Mammal', 'status': 'Invasive', 'diet': 'Herbavore'}]}\n",
      "{'_id': ObjectId('642cd7eac62ff18957e5acde'), 'timestamp': datetime.datetime(2023, 3, 22, 14, 55), 'sensorId': 1, 'species': 'Aegotheles Cristatus', 'microphoneLLA': [-33.1121, 150.0577, 24], 'animalEstLLA': [-33.1543, 150.2007, 23], 'animalTrueLLA': [-33.1555, 150.2009, 23], 'animalLLAUncertainty': 10, 'audio clip': 'some audio_base64 data', 'confidence': 96.5, 'info': [{'_id': 'Aegotheles Cristatus', 'commonName': 'Australian Owlet-nightjar', 'type': 'Bird', 'status': 'Least Concern', 'diet': 'Carnivore'}]}\n",
      "{'_id': ObjectId('642cd7eac62ff18957e5acdf'), 'timestamp': datetime.datetime(2023, 3, 22, 15, 20), 'sensorId': 2, 'species': 'Corvus Coronoides', 'microphoneLLA': [-33.1101, 150.0567, 23], 'animalEstLLA': [-33.1543, 150.2007, 23], 'animalTrueLLA': [-33.1555, 150.2009, 23], 'animalLLAUncertainty': 10, 'audio clip': 'some audio_base64 data', 'confidence': 97.1, 'info': [{'_id': 'Corvus Coronoides', 'commonName': 'Australian Raven', 'type': 'Bird', 'status': 'Least Concern', 'diet': 'Omnivore'}]}\n",
      "{'_id': ObjectId('642cd7eac62ff18957e5ace0'), 'timestamp': datetime.datetime(2023, 3, 23, 5, 55), 'sensorId': 3, 'species': 'Colluricincla Harmonica', 'microphoneLLA': [-33.1111, 150.0587, 23], 'animalEstLLA': [-33.1543, 150.2007, 23], 'animalTrueLLA': [-33.1555, 150.2009, 23], 'animalLLAUncertainty': 10, 'audio clip': 'some audio_base64 data', 'confidence': 82.0, 'info': [{'_id': 'Colluricincla Harmonica', 'commonName': 'Grey Shrikethrush', 'type': 'Bird', 'status': 'Least Concern', 'diet': 'Omnivore'}]}\n",
      "{'_id': ObjectId('642cd8f9c62ff18957e5ace2'), 'timestamp': datetime.datetime(2023, 3, 22, 13, 45), 'sensorId': 2, 'species': 'Sus Scrofa', 'microphoneLLA': [-33.1101, 150.0567, 23], 'animalEstLLA': [-33.1105, 150.0569, 23], 'animalTrueLLA': [-33.1106, 150.057, 23], 'animalLLAUncertainty': 10, 'audio clip': 'some audio_base64 data', 'confidence': 99.4, 'info': [{'_id': 'Sus Scrofa', 'commonName': 'Wild Pig', 'type': 'Mammal', 'status': 'Invasive', 'diet': 'Omnivore'}]}\n",
      "{'_id': ObjectId('642cd8f9c62ff18957e5ace3'), 'timestamp': datetime.datetime(2023, 3, 22, 13, 55), 'sensorId': 2, 'species': 'Cervus Unicolour', 'microphoneLLA': [-33.1101, 150.0567, 23], 'animalEstLLA': [-33.1543, 150.2007, 23], 'animalTrueLLA': [-33.1555, 150.2009, 23], 'animalLLAUncertainty': 10, 'audio clip': 'some audio_base64 data', 'confidence': 98.5, 'info': [{'_id': 'Cervus Unicolour', 'commonName': 'Sambar Deer', 'type': 'Mammal', 'status': 'Invasive', 'diet': 'Herbavore'}]}\n",
      "{'_id': ObjectId('642cd8f9c62ff18957e5ace4'), 'timestamp': datetime.datetime(2023, 3, 22, 14, 55), 'sensorId': 1, 'species': 'Aegotheles Cristatus', 'microphoneLLA': [-33.1121, 150.0577, 24], 'animalEstLLA': [-33.1543, 150.2007, 23], 'animalTrueLLA': [-33.1555, 150.2009, 23], 'animalLLAUncertainty': 10, 'audio clip': 'some audio_base64 data', 'confidence': 96.5, 'info': [{'_id': 'Aegotheles Cristatus', 'commonName': 'Australian Owlet-nightjar', 'type': 'Bird', 'status': 'Least Concern', 'diet': 'Carnivore'}]}\n",
      "{'_id': ObjectId('642cd8f9c62ff18957e5ace5'), 'timestamp': datetime.datetime(2023, 3, 22, 15, 20), 'sensorId': 2, 'species': 'Corvus Coronoides', 'microphoneLLA': [-33.1101, 150.0567, 23], 'animalEstLLA': [-33.1543, 150.2007, 23], 'animalTrueLLA': [-33.1555, 150.2009, 23], 'animalLLAUncertainty': 10, 'audio clip': 'some audio_base64 data', 'confidence': 97.1, 'info': [{'_id': 'Corvus Coronoides', 'commonName': 'Australian Raven', 'type': 'Bird', 'status': 'Least Concern', 'diet': 'Omnivore'}]}\n",
      "{'_id': ObjectId('642cd8f9c62ff18957e5ace6'), 'timestamp': datetime.datetime(2023, 3, 23, 5, 55), 'sensorId': 3, 'species': 'Colluricincla Harmonica', 'microphoneLLA': [-33.1111, 150.0587, 23], 'animalEstLLA': [-33.1543, 150.2007, 23], 'animalTrueLLA': [-33.1555, 150.2009, 23], 'animalLLAUncertainty': 10, 'audio clip': 'some audio_base64 data', 'confidence': 82.0, 'info': [{'_id': 'Colluricincla Harmonica', 'commonName': 'Grey Shrikethrush', 'type': 'Bird', 'status': 'Least Concern', 'diet': 'Omnivore'}]}\n"
     ]
    }
   ],
   "source": [
    "\n",
    "for i in result:\n",
    "    print(i)"
   ]
  }
 ],
 "metadata": {
  "kernelspec": {
   "display_name": "dev",
   "language": "python",
   "name": "python3"
  },
  "language_info": {
   "codemirror_mode": {
    "name": "ipython",
    "version": 3
   },
   "file_extension": ".py",
   "mimetype": "text/x-python",
   "name": "python",
   "nbconvert_exporter": "python",
   "pygments_lexer": "ipython3",
   "version": "3.9.15"
  },
  "orig_nbformat": 4
 },
 "nbformat": 4,
 "nbformat_minor": 2
}
