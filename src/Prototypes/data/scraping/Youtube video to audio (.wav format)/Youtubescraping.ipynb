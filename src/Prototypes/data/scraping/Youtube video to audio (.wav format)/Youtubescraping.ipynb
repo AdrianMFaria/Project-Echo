{
 "cells": [
  {
   "cell_type": "code",
   "execution_count": null,
   "metadata": {},
   "outputs": [],
   "source": [
    "# 1. Install the required libraries\n",
    "# pip install pytube\n",
    "# pip install moviepy\n",
    "\n",
    "from pytube import YouTube\n",
    "from moviepy.editor import *\n",
    "\n",
    "def download_audio_from_youtube(video_url, output_filename_without_extension):\n",
    "    # 2. Use pytube to get the video\n",
    "    yt = YouTube(video_url)\n",
    "    \n",
    "    # 3. Get the audio stream\n",
    "    audio_stream = yt.streams.filter(only_audio=True).first()\n",
    "    \n",
    "    # 4. Download the audio stream\n",
    "    audio_filename = audio_stream.download(filename=output_filename_without_extension)\n",
    "    \n",
    "    # 5. Convert the audio to .wav format using moviepy\n",
    "    audio_clip = AudioFileClip(audio_filename)\n",
    "    audio_clip.write_audiofile(output_filename_without_extension + \".wav\")\n",
    "\n",
    "# Example usage\n",
    "video_url = \"YOUR_YOUTUBE_VIDEO_URL\" # Paste the Youtube URL you want to download audio from\n",
    "output_filename = \"output_audio\" # Output file name to be generated\n",
    "download_audio_from_youtube(video_url, output_filename)\n"
   ]
  }
 ],
 "metadata": {
  "language_info": {
   "name": "python"
  },
  "orig_nbformat": 4
 },
 "nbformat": 4,
 "nbformat_minor": 2
}
