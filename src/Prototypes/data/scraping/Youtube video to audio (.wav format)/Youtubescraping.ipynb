{
 "cells": [
  {
   "cell_type": "markdown",
   "metadata": {},
   "source": [
    "## Scraping Audio Files from Youtube \n",
    "\n",
    "This easy script will scrape the audio from any Youtube video and download them to your desired location."
   ]
  },
  {
   "cell_type": "code",
   "execution_count": null,
   "metadata": {},
   "outputs": [],
   "source": [
    "# Install the required libraries\n",
    "\n",
    "pip install pytube\n",
    "pip install moviepy"
   ]
  },
  {
   "cell_type": "code",
   "execution_count": null,
   "metadata": {},
   "outputs": [],
   "source": [
    "# Importing the necessary libraries to scrape from Youtube \n",
    "\n",
    "from pytube import YouTube\n",
    "from moviepy.editor import *"
   ]
  },
  {
   "cell_type": "code",
   "execution_count": null,
   "metadata": {},
   "outputs": [],
   "source": [
    "# This function will take the youtube video link and filename as inputs and scrape the audio file to your desired format \n",
    "\n",
    "def download_audio_from_youtube(video_url, output_filename_without_extension):\n",
    "    # 2. Use pytube to get the video\n",
    "    yt = YouTube(video_url)\n",
    "    \n",
    "    # 3. Get the audio stream\n",
    "    audio_stream = yt.streams.filter(only_audio=True).first()\n",
    "    \n",
    "    # 4. Download the audio stream\n",
    "    audio_filename = audio_stream.download(filename=output_filename_without_extension)\n",
    "    \n",
    "    # 5. Convert the audio to .wav format using moviepy\n",
    "    audio_clip = AudioFileClip(audio_filename)\n",
    "    audio_clip.write_audiofile(output_filename_without_extension + \".wav\")"
   ]
  },
  {
   "cell_type": "code",
   "execution_count": null,
   "metadata": {},
   "outputs": [],
   "source": [
    "# Example usage\n",
    "video_url = \"https://www.youtube.com/watch?v=V6L1WdcDOzs\" # Paste the Youtube URL you want to download audio from\n",
    "output_filename = \"Ground_Parrot\" # Output file name to be generated\n",
    "download_audio_from_youtube(video_url, output_filename)"
   ]
  }
 ],
 "metadata": {
  "kernelspec": {
   "display_name": "Python 3",
   "language": "python",
   "name": "python3"
  },
  "language_info": {
   "codemirror_mode": {
    "name": "ipython",
    "version": 3
   },
   "file_extension": ".py",
   "mimetype": "text/x-python",
   "name": "python",
   "nbconvert_exporter": "python",
   "pygments_lexer": "ipython3",
   "version": "3.10.11"
  },
  "orig_nbformat": 4
 },
 "nbformat": 4,
 "nbformat_minor": 2
}
