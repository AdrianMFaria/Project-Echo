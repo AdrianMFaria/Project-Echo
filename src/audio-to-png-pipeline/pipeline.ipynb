{
 "cells": [
  {
   "cell_type": "markdown",
   "metadata": {},
   "source": [
    "Overview\n",
    "\n",
    "Author: stephankokkas\n",
    "\n",
    "This notebook defines a pipeline that tasks an input directory of audio files and converts them to images using mel-spectrogram transofrmation and preprocessing techniques."
   ]
  },
  {
   "cell_type": "code",
   "execution_count": 121,
   "metadata": {},
   "outputs": [
    {
     "name": "stdout",
     "output_type": "stream",
     "text": [
      "Python Version     :  3.10.0\n",
      "TensorFlow Version :  2.11.0\n"
     ]
    }
   ],
   "source": [
    "# disable warnings to tidy up output\n",
    "import warnings\n",
    "warnings.filterwarnings(\"ignore\")\n",
    "\n",
    "# some basic libraries \n",
    "from platform import python_version\n",
    "#import pandas as pd\n",
    "#import seaborn as sns\n",
    "import numpy as np\n",
    "import os\n",
    "import random\n",
    "from os import listdir\n",
    "from os.path import isfile, join\n",
    "\n",
    "\n",
    "# plot support\n",
    "import matplotlib.pyplot as plt\n",
    "\n",
    "# tensorflow support\n",
    "import tensorflow as tf\n",
    "#import tensorflow_transform as tft\n",
    "#import tensorflow_io as tfio\n",
    "#from tensorflow.contrib.framework.python.ops import audio_ops\n",
    "\n",
    "# scipy\n",
    "import scipy\n",
    "from pydub import AudioSegment\n",
    "\n",
    "# turn off tensorflow warnings\n",
    "tf.get_logger().setLevel('ERROR')\n",
    "\n",
    "# turn off absl warnings\n",
    "import absl.logging\n",
    "absl.logging.set_verbosity(absl.logging.ERROR)\n",
    "\n",
    "# print system information\n",
    "print('Python Version     : ', python_version())\n",
    "print('TensorFlow Version : ', tf.__version__)"
   ]
  },
  {
   "cell_type": "code",
   "execution_count": 122,
   "metadata": {},
   "outputs": [],
   "source": [
    "# below code adapted from:\n",
    "# https://keras.io/getting_started/faq/#how-can-i-obtain-reproducible-results-using-keras-during-development\n",
    "\n",
    "# The below is necessary for starting Numpy generated random numbers\n",
    "# in a well-defined initial state.\n",
    "np.random.seed(123)\n",
    "\n",
    "# The below is necessary for starting core Python generated random numbers\n",
    "# in a well-defined state.\n",
    "random.seed(123)\n",
    "\n",
    "# The below set_seed() will make random number generation\n",
    "# in the TensorFlow backend have a well-defined initial state.\n",
    "# For further details, see:\n",
    "# https://www.tensorflow.org/api_docs/python/tf/random/set_seed\n",
    "tf.random.set_seed(1234)"
   ]
  },
  {
   "cell_type": "code",
   "execution_count": 123,
   "metadata": {},
   "outputs": [],
   "source": [
    "# set system parameters\n",
    "DATASET_PATH  = '/Users/stephankokkas/Downloads/birdclef2022/'\n",
    "\n",
    "SAMPLE_RATE   = 32000   # all the samples are converted to bit rate of 32000 (Samples/Second)\n",
    "MIN_FREQUENCY = 16      # minimum frequency (Hz) for the Fast Fourier Transform related functions\n",
    "MAX_FREQUENCY = 4096*3  # minimum frequency (Hz) for the Fast Fourier Transform related functions\n",
    "HOP_LENGTH    = 128     # the number of samples to slide spectrogram window along the audio samples\n",
    "NUMBER_FFT    = 2048    # the number of FFT to execute within a single spectrogram window\n",
    "NUMBER_MELS   = 128     # the number of Mel-Spectrogram groups to split the frequency dimension\n",
    "CLIP_LENGTH   = 5      # only look at 10 seconds of clip at the start of loaded audio file"
   ]
  },
  {
   "cell_type": "code",
   "execution_count": 128,
   "metadata": {},
   "outputs": [],
   "source": [
    "class raw_file_pre_processing():\n",
    "    def __init__(self) -> None:\n",
    "        self.labels = []\n",
    "        self.raw_dirs = {}\n",
    "        self.mp3_dirs = {}\n",
    "        self.TARGET_FORMAT = 'mp3'\n",
    "        self.ACCEPTED_FORMAT = ['.mp3', '.flac', '.aiff', '.mp4', '.m4a', '.wav', '.ogg']\n",
    "        self.OUTPUT_DIR = os.path.join(DATASET_PATH, 'output')\n",
    "            \n",
    "\n",
    "    def get_raw_file_paths(self, directory):\n",
    "        print(f'Looking for files... acceptable formats include: {self.ACCEPTED_FORMAT}')\n",
    "        for root, dir, files in os.walk(directory):\n",
    "            if dir == [] and \"output\" not in str(root).split(\"/\")[1]:\n",
    "                tmp_lable = str(root).split(\"/\")[-1]\n",
    "                tmp_file_dir = []\n",
    "                for file in files:\n",
    "                    for ext in self.ACCEPTED_FORMAT:\n",
    "                        if ext in str(file):\n",
    "                            tmp_file_dir.append(os.path.join(root, file))\n",
    "                        \n",
    "\n",
    "                self.raw_dirs.update({tmp_lable:tmp_file_dir})\n",
    "\n",
    "        for key in self.raw_dirs:\n",
    "            print(f'FOUND: {key} -> {len(self.raw_dirs[key])}')\n",
    "\n",
    "    def convert_audo_files(self):\n",
    "        print('\\nConvering audio files....')\n",
    "        if not os.path.exists(self.OUTPUT_DIR):\n",
    "            os.makedirs(self.OUTPUT_DIR)\n",
    "\n",
    "        for key, item in self.raw_dirs.items():\n",
    "            tmp_dir_key = os.path.join(self.OUTPUT_DIR, key)\n",
    "            if not os.path.exists(tmp_dir_key):\n",
    "                os.makedirs(tmp_dir_key)\n",
    "\n",
    "            tmp_arr_mp3_dir = []\n",
    "            for dir in item:\n",
    "                try:\n",
    "                    tmp_file_name = str(dir).split(\"/\")[-1].split('.')[0] + '.' + self.TARGET_FORMAT\n",
    "                    AudioSegment.from_file(dir, format=dir.split('.')[-1]).export(os.path.join(tmp_dir_key, tmp_file_name), format=self.TARGET_FORMAT)\n",
    "                    tmp_arr_mp3_dir.append(os.path.join(tmp_dir_key, tmp_file_name))\n",
    "                except Exception as e:\n",
    "                    print(e)\n",
    "            \n",
    "            self.mp3_dirs.update({key: tmp_arr_mp3_dir})"
   ]
  },
  {
   "cell_type": "code",
   "execution_count": 129,
   "metadata": {},
   "outputs": [
    {
     "name": "stdout",
     "output_type": "stream",
     "text": [
      "Looking for files... acceptable formats include: ['.mp3', '.flac', '.aiff', '.mp4', '.m4a', '.wav', '.ogg']\n",
      "FOUND: jabwar -> 78\n",
      "FOUND: wiltur -> 76\n",
      "FOUND: sheowl -> 128\n",
      "FOUND: brant -> 135\n",
      "FOUND: spodov -> 107\n",
      "\n",
      "Convering audio files....\n"
     ]
    }
   ],
   "source": [
    "data_preprocessing_pipeline = raw_file_pre_processing()\n",
    "\n",
    "data_preprocessing_pipeline.get_raw_file_paths(DATASET_PATH)\n",
    "data_preprocessing_pipeline.convert_audo_files() "
   ]
  }
 ],
 "metadata": {
  "interpreter": {
   "hash": "aee8b7b246df8f9039afb4144a1f6fd8d2ca17a180786b69acc140d282b71a49"
  },
  "kernelspec": {
   "display_name": "Python 3.10.0 64-bit",
   "language": "python",
   "name": "python3"
  },
  "language_info": {
   "codemirror_mode": {
    "name": "ipython",
    "version": 3
   },
   "file_extension": ".py",
   "mimetype": "text/x-python",
   "name": "python",
   "nbconvert_exporter": "python",
   "pygments_lexer": "ipython3",
   "version": "3.10.0"
  },
  "orig_nbformat": 4
 },
 "nbformat": 4,
 "nbformat_minor": 2
}
