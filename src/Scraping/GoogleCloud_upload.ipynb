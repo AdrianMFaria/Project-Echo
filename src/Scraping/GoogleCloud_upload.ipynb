{
 "cells": [
  {
   "cell_type": "code",
<<<<<<< Updated upstream
   "execution_count": 2,
=======
   "execution_count": 1,
>>>>>>> Stashed changes
   "id": "4607cbf2",
   "metadata": {},
   "outputs": [],
   "source": [
    "import os\n",
    "from google.cloud import storage\n",
    "import glob"
   ]
  },
  {
   "cell_type": "code",
<<<<<<< Updated upstream
   "execution_count": 5,
=======
   "execution_count": 6,
>>>>>>> Stashed changes
   "id": "29126a92",
   "metadata": {},
   "outputs": [],
   "source": [
    "# Set up google cloud storage client\n",
    "os.environ['GOOGLE_APPLICATION_CREDENTIALS'] = 'project-echo-369809-88443ab89a49.json'\n",
<<<<<<< Updated upstream
    "LOCAL_DIR = 'C:/Users/Tony/Documents/Data/'\n",
    "storage_client = storage.Client()"
   ]
  },
  {
   "cell_type": "code",
   "execution_count": 7,
   "id": "690c8dde",
   "metadata": {},
   "outputs": [
    {
     "data": {
      "text/plain": [
       "{'name': 'bucket-quickstart_project-echo-369809',\n",
       " '_properties': {'kind': 'storage#bucket',\n",
       "  'selfLink': 'https://www.googleapis.com/storage/v1/b/bucket-quickstart_project-echo-369809',\n",
       "  'id': 'bucket-quickstart_project-echo-369809',\n",
       "  'name': 'bucket-quickstart_project-echo-369809',\n",
       "  'projectNumber': '60368399417',\n",
       "  'metageneration': '2',\n",
       "  'location': 'US-CENTRAL1',\n",
       "  'storageClass': 'STANDARD',\n",
       "  'etag': 'CAI=',\n",
       "  'timeCreated': '2022-11-26T09:09:12.332Z',\n",
       "  'updated': '2022-11-26T11:32:28.236Z',\n",
       "  'iamConfiguration': {'bucketPolicyOnly': {'enabled': True,\n",
       "    'lockedTime': '2023-02-24T09:09:12.332Z'},\n",
       "   'uniformBucketLevelAccess': {'enabled': True,\n",
       "    'lockedTime': '2023-02-24T09:09:12.332Z'},\n",
       "   'publicAccessPrevention': 'inherited'},\n",
       "  'locationType': 'region'},\n",
       " '_changes': set(),\n",
       " '_client': <google.cloud.storage.client.Client at 0x141894c7a90>,\n",
       " '_acl': <google.cloud.storage.acl.BucketACL at 0x141894c7e50>,\n",
       " '_default_object_acl': <google.cloud.storage.acl.DefaultObjectACL at 0x141894c7c70>,\n",
       " '_label_removals': set(),\n",
       " '_user_project': None}"
      ]
     },
     "execution_count": 7,
     "metadata": {},
     "output_type": "execute_result"
    }
   ],
   "source": [
=======
    "LOCAL_DIR = r'C:\\Users\\Tony\\Documents\\Data\\3_Dataset_PE_2'\n",
    "storage_client = storage.Client()\n",
>>>>>>> Stashed changes
    "# Enter bucket name, check connection\n",
    "bucket_name = 'project_echo_dataset_1'"
   ]
  },
  {
   "cell_type": "code",
   "execution_count": 7,
   "id": "867586e8",
   "metadata": {},
   "outputs": [],
   "source": [
    "# Function to upload a file to the bucket. blob_name is the path of the stored object\n",
    "\n",
    "def upload_to_bucket(blob_name, file_path, bucket_name):\n",
    "    try:\n",
    "        bucket = storage_client.get_bucket(bucket_name)\n",
    "        blob = bucket.blob(blob_name)\n",
    "        blob.upload_from_filename(file_path)\n",
    "        return True\n",
    "    except Exception as e:\n",
    "        print(e)\n",
    "        return False"
   ]
  },
  {
   "cell_type": "code",
   "execution_count": 8,
   "id": "e6dc34d9",
   "metadata": {},
   "outputs": [],
   "source": [
    "# location of files stored locally\n",
    "local_path = LOCAL_DIR\n"
   ]
  },
  {
   "cell_type": "code",
   "execution_count": 9,
   "id": "f7fd4ee4",
   "metadata": {},
   "outputs": [],
   "source": [
    "# Iterate through local folder to pull files to upload to cloud\n",
    "for local_folder in glob.glob(local_path + '/**'):\n",
    "    folder_name =  os.path.basename(local_folder)\n",
    "    for local_file in glob.glob(local_folder + '/**'):\n",
    "        file_name = os.path.basename(local_file)\n",
    "        remote_path = folder_name + '/' + file_name\n",
    "        #print(remote_path)\n",
    "        upload_to_bucket(remote_path, local_file, bucket_name)"
   ]
  }
 ],
 "metadata": {
  "kernelspec": {
   "display_name": "Python 3.9.14 ('dev')",
   "language": "python",
   "name": "python3"
  },
  "language_info": {
   "codemirror_mode": {
    "name": "ipython",
    "version": 3
   },
   "file_extension": ".py",
   "mimetype": "text/x-python",
   "name": "python",
   "nbconvert_exporter": "python",
   "pygments_lexer": "ipython3",
   "version": "3.9.15"
  },
  "vscode": {
   "interpreter": {
    "hash": "1abe3f8af67ea7e0831a35145666ca0b879c1b18865dfab80a725b3f4b67d0ab"
   }
  }
 },
 "nbformat": 4,
 "nbformat_minor": 5
}
