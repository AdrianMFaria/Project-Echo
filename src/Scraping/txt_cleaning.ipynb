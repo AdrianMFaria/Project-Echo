{
 "cells": [
  {
   "cell_type": "code",
   "execution_count": 78,
   "metadata": {},
   "outputs": [
    {
     "name": "stdout",
     "output_type": "stream",
     "text": [
      "['\\n', 'Index of scientific names\\n', 'Acanthagenys rufogularis 123\\n', 'Acanthiza chrysorrhoa 131\\n', 'lineata 132\\n']\n",
      "Acanthagenys rufogularis 123\n",
      "\n",
      "['Acanthagenys rufogularis \\n', 'Acanthiza chrysorrhoa \\n', 'lineata \\n', 'nana \\n', 'pusilla \\n']\n"
     ]
    }
   ],
   "source": [
    "import pandas as pd\n",
    "\n",
    "with open('index.txt') as f:\n",
    "    lines = f.readlines()\n",
    "# remove title\n",
    "print(lines[:5])\n",
    "lines = lines[2:]\n",
    "print(lines[0])\n",
    "#remove page numbers\n",
    "lines1 = []\n",
    "for line in lines:\n",
    "    lines1.append(''.join((x for x in line if not x.isdigit())))\n",
    "    \n",
    "print(lines1[:5])\n",
    "\n"
   ]
  },
  {
   "cell_type": "code",
   "execution_count": 81,
   "metadata": {},
   "outputs": [],
   "source": [
    "lines2 = []\n",
    "x = 0\n",
    "for line in lines1:\n",
    "    x += 1 \n",
    "    words = line.split()\n",
    "    if (line[0].isupper()):\n",
    "        genus = words[0]\n",
    "        lines2.append(line.rstrip())\n",
    "    else:\n",
    "        new = genus + ' ' + line\n",
    "        lines2.append(new.rstrip())\n",
    "\n",
    "    "
   ]
  },
  {
   "cell_type": "code",
   "execution_count": 82,
   "metadata": {},
   "outputs": [
    {
     "data": {
      "text/plain": [
       "['Ardea alba',\n",
       " 'Ardea pacifica',\n",
       " 'Ardenna tenuirostris',\n",
       " 'Ardenna',\n",
       " 'Arenaria interpres']"
      ]
     },
     "execution_count": 82,
     "metadata": {},
     "output_type": "execute_result"
    }
   ],
   "source": []
  },
  {
   "cell_type": "code",
   "execution_count": 88,
   "metadata": {},
   "outputs": [],
   "source": [
    "#check which ones overlap with dataset species:\n",
    "df = pd.read_csv('out.csv')\n",
    "\n",
    "df = df.drop_duplicates('species')\n",
    "df_species = df.species.tolist()\n",
    "\n",
    "\n",
    "otway_species = set(lines2).intersection(set(df_species))\n",
    "len(otway_species)\n",
    "\n",
    "with open('otway_species.txt', 'w') as f:\n",
    "    for line in otway_species:\n",
    "        f.write(line)\n",
    "        f.write('\\n')"
   ]
  }
 ],
 "metadata": {
  "kernelspec": {
   "display_name": "Python 3.9.7",
   "language": "python",
   "name": "python3"
  },
  "language_info": {
   "codemirror_mode": {
    "name": "ipython",
    "version": 3
   },
   "file_extension": ".py",
   "mimetype": "text/x-python",
   "name": "python",
   "nbconvert_exporter": "python",
   "pygments_lexer": "ipython3",
   "version": "3.9.7"
  },
  "orig_nbformat": 4,
  "vscode": {
   "interpreter": {
    "hash": "dcacd4bc9425bc1dc7eb3eb642b772828e4b7222951303bfcb39fa32157da8bb"
   }
  }
 },
 "nbformat": 4,
 "nbformat_minor": 2
}
