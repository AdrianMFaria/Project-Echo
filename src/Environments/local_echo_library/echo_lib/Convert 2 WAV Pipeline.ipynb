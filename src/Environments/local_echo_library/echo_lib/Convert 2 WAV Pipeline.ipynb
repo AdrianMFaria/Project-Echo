{
 "cells": [
  {
   "cell_type": "markdown",
   "id": "edb1a62d",
   "metadata": {},
   "source": [
    "# This notebook scans all directories in an input bucket and converts all files to wav\n",
    "\n",
    "This occurs inplace and deletes the original file and replaces it with a .wav file, It overwrites an existing file by the same name.\n",
    "\n",
    "It expects input of a \"bucket\" folder, consisting of subfolders named as species, and the audio files within.\n",
    "If converting a single folder, create a parent folder to put it into.\n",
    "\n",
    "Audio file formats are\n",
    "- .mp3\n",
    "- .flac\n",
    "- .wav\n",
    "\n",
    "Video file inputs are\n",
    "- .mp4\n",
    "- .m4a"
   ]
  },
  {
   "cell_type": "code",
   "execution_count": null,
   "id": "b9f77873",
   "metadata": {},
   "outputs": [],
   "source": [
    "import warnings\n",
    "warnings.filterwarnings('ignore')\n",
    "\n",
    "import os\n",
    "import pandas as pd\n",
    "import numpy as np\n",
    "import librosa, librosa.display\n",
    "import pathlib\n",
    "import glob\n",
    "import pathlib\n",
    "import subprocess"
   ]
  },
  {
   "cell_type": "code",
   "execution_count": null,
   "id": "a6d2bdfb",
   "metadata": {},
   "outputs": [],
   "source": [
    "import threading \n",
    "import time\n"
   ]
  },
  {
   "cell_type": "code",
   "execution_count": null,
   "id": "827c97dc",
   "metadata": {},
   "outputs": [],
   "source": [
    "# A sample function to print squares\n",
    "def print_squares(thread_name, numbers):\n",
    "\n",
    "   for number in numbers:\n",
    "       print(thread_name, number**2)\n",
    "       \n",
    "       # Produce some delay to see the output\n",
    "       # syntax: time.sleep(<time in seconds : float>)\n",
    "       time.sleep(1)"
   ]
  },
  {
   "cell_type": "code",
   "execution_count": null,
   "id": "036fc9be",
   "metadata": {},
   "outputs": [],
   "source": [
    "thread_object = threading.Thread(target=<function name>, args=<tuple of arguments you want to pass>)"
   ]
  },
  {
   "cell_type": "code",
   "execution_count": null,
   "id": "d65281ba",
   "metadata": {},
   "outputs": [],
   "source": [
    "# Creating 3 threads that execute the same function with different parameters\n",
    "thread1 = threading.Thread(\n",
    "   target=print_squares, args=(\"thread1\", [1, 2, 3, 4, 5]))\n",
    "   \n",
    "thread2 = threading.Thread(\n",
    "   target=print_squares, args=(\"thread2\", [6, 7, 8, 9, 10]))\n",
    "   \n",
    "thread3 = threading.Thread(\n",
    "   target=print_squares, args=(\"thread3\", [11, 12, 13, 14, 15]))"
   ]
  },
  {
   "cell_type": "code",
   "execution_count": null,
   "id": "b4d5864e",
   "metadata": {},
   "outputs": [],
   "source": [
    "# Start the threads\n",
    "thread1.start()\n",
    "thread2.start()\n",
    "thread3.start()\n",
    "\n",
    "# Join the threads before moving further\n",
    "thread1.join()\n",
    "thread2.join()\n",
    "thread3.join()\n",
    "\n",
    "print(\"done all\")"
   ]
  },
  {
   "cell_type": "code",
   "execution_count": null,
   "id": "c853f57c",
   "metadata": {},
   "outputs": [],
   "source": []
  },
  {
   "cell_type": "code",
   "execution_count": null,
   "id": "23d2e888",
   "metadata": {},
   "outputs": [],
   "source": []
  },
  {
   "cell_type": "code",
   "execution_count": null,
   "id": "80acc5cc",
   "metadata": {},
   "outputs": [],
   "source": []
  },
  {
   "cell_type": "code",
   "execution_count": null,
   "id": "ed76d139",
   "metadata": {},
   "outputs": [],
   "source": []
  },
  {
   "cell_type": "code",
   "execution_count": null,
   "id": "d80926f7",
   "metadata": {},
   "outputs": [],
   "source": []
  },
  {
   "cell_type": "code",
   "execution_count": null,
   "id": "d8ab61f4",
   "metadata": {},
   "outputs": [],
   "source": [
    "# input parameters\n",
    "\n",
    "source_folder =\"/Volumes/UGREEN Samsung SSD/project echo audio/test data/test_1 wavs\"\n",
    "\n",
    "# options are currently \".mp3\" or \".wav\" (there is scope to add more)\n",
    "output_file_type = \".wav\"\n",
    "input_file_type = \".mp3\"\n",
    "\n",
    "\n"
   ]
  },
  {
   "cell_type": "markdown",
   "id": "861934e9",
   "metadata": {},
   "source": [
    "# TODO:\n",
    "## Make sure to use try / except\n",
    "\n"
   ]
  },
  {
   "cell_type": "code",
   "execution_count": null,
   "id": "b6b787d1",
   "metadata": {},
   "outputs": [],
   "source": [
    "# check if there are multiple folders in source_folder\n",
    "# source_folder =\"/Volumes/UGREEN Samsung SSD/project echo audio/test data/test_1\""
   ]
  },
  {
   "cell_type": "markdown",
   "id": "31241a1f",
   "metadata": {},
   "source": [
    "--- \n",
    "## Generate list of all folders in the source path"
   ]
  },
  {
   "cell_type": "code",
   "execution_count": null,
   "id": "24602b7d",
   "metadata": {},
   "outputs": [],
   "source": [
    "sub_folders = pathlib.Path(source_folder).glob(\"**/*\") #generator object\n",
    "sub_folders\n",
    "sub_folder_paths = [x for x in sub_folders if x.is_dir()]\n",
    "sub_folder_paths\n"
   ]
  },
  {
   "cell_type": "markdown",
   "id": "6ebf6ede",
   "metadata": {},
   "source": [
    "--- \n",
    "## Generate list of all audio files paths in the sub-folder"
   ]
  },
  {
   "cell_type": "code",
   "execution_count": null,
   "id": "b6eafc0a",
   "metadata": {},
   "outputs": [],
   "source": [
    "# ### Testing\n",
    "# sub_folder_paths[0] #carhorn\n",
    "# audio_files = pathlib.Path(sub_folder_paths[0]).glob(\"**/*\") #generator object\n",
    "# audio_files\n",
    "\n",
    "# audio_file_paths =  [x for x in audio_files if x.is_file()] #PosixPath list\n",
    "# audio_file_paths\n"
   ]
  },
  {
   "cell_type": "code",
   "execution_count": null,
   "id": "0be51147",
   "metadata": {},
   "outputs": [],
   "source": [
    "def convert_file(input_file_path):\n",
    "    parent_path = pathlib.PurePath(input_file_path).parent    \n",
    "    file_name = pathlib.Path(input_file_path).stem   \n",
    "    output_file_path = str(parent_path) + \"/\" + file_name + output_file_type\n",
    "    # write the new wav file forcing overwrite \n",
    "    subprocess.call(['ffmpeg', '-y', '-i', input_file_path,\n",
    "                 output_file_path],\n",
    "    stdout=subprocess.DEVNULL,\n",
    "    stderr=subprocess.STDOUT)\n",
    "    return"
   ]
  },
  {
   "cell_type": "code",
   "execution_count": null,
   "id": "6c771f92",
   "metadata": {},
   "outputs": [],
   "source": [
    "# this function checks the filepath passed to it and checks the filetype\n",
    "# if it is one of the listed filetypes ot be converted, it will make a new version \n",
    "# as a .wav and delete the original\n",
    "\n",
    "def check_file_type(audio_file_path):  \n",
    "\n",
    "    # check this file name and file type don't already exist\n",
    "    if (pathlib.Path(audio_file_path).suffix == output_file_type): return\n",
    "\n",
    "    # convert all audio file types to the output format\n",
    "    # the top guard clause should skip over any file format in the list below\n",
    "    # if they input file is already this format\n",
    "# audio file typ conversions\n",
    "    if (pathlib.Path(audio_file_path).suffix == \".wav\"): convert_file(audio_file_path); # print(\"wav\")\n",
    "    if (pathlib.Path(audio_file_path).suffix == \".mp3\"): convert_file(audio_file_path); # print(\"mp3\")\n",
    "    if (pathlib.Path(audio_file_path).suffix == \".flac\"): convert_file(audio_file_path); # print(\"flac\")\n",
    "\n",
    "# video file type conversions:\n",
    "    # if (pathlib.Path(audio_file_paths).suffix == \".m4a\"): convert_file(audio_file_paths[i])\n",
    "    # if (pathlib.Path(audio_file_paths).suffix == \".mp4\"): convert_file(audio_file_paths[i])\n",
    "\n",
    "    os.remove(audio_file_path)\n",
    "\n",
    "\n",
    "\n",
    "\n",
    "    return"
   ]
  },
  {
   "cell_type": "code",
   "execution_count": null,
   "id": "e34117b9",
   "metadata": {},
   "outputs": [],
   "source": [
    "\n",
    "# call all functions in here\n",
    "\n",
    "for i in range(len(sub_folder_paths)):\n",
    "\n",
    "    audio_files = pathlib.Path(sub_folder_paths[i]).glob(\"**/*\") #generator object\n",
    "    audio_files\n",
    "\n",
    "    audio_file_paths =  [x for x in audio_files if x.is_file()] #PosixPath list\n",
    "    print(len(audio_file_paths))\n",
    "    for x in range(len(audio_file_paths)):\n",
    "        check_file_type(audio_file_paths[x])\n",
    "        print(x + i)  \n",
    "    \n",
    "    # print(audio_file_paths[0])\n",
    "\n",
    "    \n"
   ]
  },
  {
   "cell_type": "code",
   "execution_count": null,
   "id": "b077e001",
   "metadata": {},
   "outputs": [],
   "source": []
  },
  {
   "cell_type": "code",
   "execution_count": null,
   "id": "f0b405b0",
   "metadata": {},
   "outputs": [],
   "source": []
  },
  {
   "cell_type": "code",
   "execution_count": null,
   "id": "4a8fe62c",
   "metadata": {},
   "outputs": [],
   "source": []
  },
  {
   "cell_type": "code",
   "execution_count": null,
   "id": "cac8e1d2",
   "metadata": {},
   "outputs": [],
   "source": []
  },
  {
   "cell_type": "markdown",
   "id": "cf2b5aed",
   "metadata": {},
   "source": [
    "# working above on new version\n",
    "\n",
    "---\n"
   ]
  },
  {
   "cell_type": "code",
   "execution_count": null,
   "id": "0946269a",
   "metadata": {},
   "outputs": [],
   "source": [
    "# input the bucket directory here\n",
    "# must be a parent directory with folders of audio files\n",
    "bucket =\"/Volumes/UGREEN Samsung SSD/project echo audio/test data/test_1\"\n",
    "species_bucket = os.listdir(bucket)\n",
    "species_bucket"
   ]
  },
  {
   "cell_type": "code",
   "execution_count": null,
   "id": "e4300c38",
   "metadata": {},
   "outputs": [],
   "source": [
    "# writes creates a dataframe of species (folder names)\n",
    "\n",
    "\n",
    "\n",
    "\n",
    "species_bucket = pd.DataFrame(species_bucket, columns = [\"animal species\"])\n",
    "species_bucket.index = np.arange(1, len(species_bucket) + 1)\n",
    "species_bucket = species_bucket.sort_values(\"animal species\")\n",
    "species_bucket = species_bucket.iloc[1:]\n",
    "species_bucket.index = np.arange(1, len(species_bucket) + 1)\n",
    "print(\"files: {}\".format(len(species_bucket)))\n",
    "species_bucket.head()"
   ]
  },
  {
   "cell_type": "code",
   "execution_count": null,
   "id": "33e655c6",
   "metadata": {},
   "outputs": [],
   "source": [
    "## extract species as dataframe\n",
    "# function to crearte a dataframe of all species (folders) in the bucket, listed alphabetically\n",
    "def species_as_dataframe(folder_filepath):\n",
    "    species_list = os.listdir(folder_filepath)\n",
    "    species_dataframe = pd.DataFrame(species_list, columns = [\"animal species\"])\n",
    "    species_dataframe.index = np.arange(1, len(species_dataframe) + 1)\n",
    "    species_dataframe = species_dataframe.sort_values(\"animal species\")\n",
    "    species_dataframe = species_dataframe.iloc[1:]\n",
    "    species_dataframe.index = np.arange(1, len(species_dataframe) + 1)\n",
    "    return species_dataframe \n",
    "\n",
    "species_as_dataframe(bucket)\n"
   ]
  },
  {
   "cell_type": "code",
   "execution_count": null,
   "id": "454cda28",
   "metadata": {},
   "outputs": [],
   "source": [
    "# function to crearte a dataframe of full directory names of species in the bucket, listed alphabetically\n",
    "\n",
    "def file_paths_as_df(bucket):  # maybe change to receive the column value too\n",
    "    bucket_folders = glob.glob(bucket+\"/*\")\n",
    "    bucket_folders = pd.DataFrame(bucket_folders, columns = [\"animal species folder paths\"])\n",
    "    bucket_folders = bucket_folders.sort_values(\"animal species folder paths\")\n",
    "    bucket_folders.index = np.arange(1, len(bucket_folders) + 1)\n",
    "    bucket_folders.head()\n",
    "    return bucket_folders\n",
    "bucket_file_paths_as_dataframe = file_paths_as_df(bucket)\n",
    "bucket_file_paths_as_dataframe"
   ]
  },
  {
   "cell_type": "code",
   "execution_count": null,
   "id": "a25b4322",
   "metadata": {},
   "outputs": [],
   "source": [
    "# this takes a dataframe and changes it back to list\n",
    "def file_paths_as_list(bucket_folders_dataframe):\n",
    "    bucket_folders_list = bucket_folders_dataframe.values.tolist()\n",
    "    bucket_folders_list = list(np.concatenate(bucket_folders_list).flat)\n",
    "    bucket_folders_list[0:1]\n",
    "    return bucket_folders_list"
   ]
  },
  {
   "cell_type": "code",
   "execution_count": null,
   "id": "20a18c60",
   "metadata": {},
   "outputs": [],
   "source": [
    "bucket_file_paths_as_list = file_paths_as_list(file_paths_as_df(bucket))\n",
    "bucket_file_paths_as_list"
   ]
  },
  {
   "cell_type": "code",
   "execution_count": null,
   "id": "d9f2e84e",
   "metadata": {},
   "outputs": [],
   "source": [
    "# this creates a .wav version of a file past to it\n",
    "# it will save with the same name\n",
    "# it will overwrite if an existing .wav file exists with the same name\n",
    "\n",
    "def convert_individual_file(file_path):\n",
    "    parent_path = pathlib.PurePath(file_path).parent    \n",
    "    file_name = pathlib.Path(file_path).stem   \n",
    "    output_file_path = str(parent_path) + \"/\" + file_name + \".mp3\"\n",
    "    # write the new wav file forcing overwrite \n",
    "    subprocess.call(['ffmpeg', '-y', '-i', file_path,\n",
    "                 output_file_path])\n",
    "    return"
   ]
  },
  {
   "cell_type": "code",
   "execution_count": null,
   "id": "329f7c85",
   "metadata": {},
   "outputs": [],
   "source": [
    "# this function checks the filepath passed to it and checks the filetype\n",
    "# if it is one of the listed filetypes ot be converted, it will make a new version \n",
    "# as a .wav and delete the original\n",
    "\n",
    "def check_for_conversion(i, species_filepath):  \n",
    "    audio_file_paths = glob.glob(species_filepath+\"/*\")\n",
    "\n",
    "    for i in range(len(audio_file_paths)):\n",
    "        if pathlib.Path(audio_file_paths[i]).suffix == \".wav\":\n",
    "            convert_individual_file(audio_file_paths[i]) # save a new copy as wav in this directory\n",
    "            os.remove(audio_file_paths[i])\n",
    "\n",
    "        elif pathlib.Path(audio_file_paths[i]).suffix == \".flac\":\n",
    "            convert_individual_file(audio_file_paths[i]) # save a new copy as wav in this directory\n",
    "            os.remove(audio_file_paths[i])\n",
    "\n",
    "        elif pathlib.Path(audio_file_paths[i]).suffix == \".m4a\":\n",
    "            convert_individual_file(audio_file_paths[i]) # save a new copy as wav in this directory\n",
    "            os.remove(audio_file_paths[i])\n",
    "\n",
    "        elif pathlib.Path(audio_file_paths[i]).suffix == \".mp4\":\n",
    "            convert_individual_file(audio_file_paths[i]) # save a new copy as wav in this directory\n",
    "            os.remove(audio_file_paths[i])\n",
    "    return"
   ]
  },
  {
   "cell_type": "code",
   "execution_count": null,
   "id": "10a3849d",
   "metadata": {},
   "outputs": [],
   "source": [
    "### working here ###\n",
    "\n",
    "'''\n",
    "pathlib.PurePath would work much better here I'm sure ...\n",
    "'''\n",
    "\n",
    "def convert_files(bucket_file_path):\n",
    "    print(\"Folders scanned\")\n",
    "    print(\".........\")\n",
    "    for i in range(len(species_bucket)):\n",
    "        bucket_species_dataframe = species_as_dataframe(bucket_file_path)\n",
    "        bucket_file_paths_as_list = file_paths_as_list(file_paths_as_df(bucket_file_path))\n",
    "        current_species_file_pathame = bucket_file_paths_as_list[i]\n",
    "        check_for_conversion(i, current_species_file_pathame)\n",
    "    print(bucket_species_dataframe)\n",
    "    print(\".........\")\n",
    "    print(\"Conversion Complete\")\n",
    "\n",
    "\n"
   ]
  },
  {
   "cell_type": "code",
   "execution_count": null,
   "id": "1fffb847",
   "metadata": {},
   "outputs": [],
   "source": [
    "convert_files(bucket)"
   ]
  },
  {
   "cell_type": "code",
   "execution_count": null,
   "id": "b5198b54",
   "metadata": {
    "scrolled": false
   },
   "outputs": [],
   "source": [
    "# run a second time to generate a clean output\n",
    "convert_files(bucket)"
   ]
  }
 ],
 "metadata": {
  "kernelspec": {
   "display_name": "Python 3 (ipykernel)",
   "language": "python",
   "name": "python3"
  },
  "language_info": {
   "codemirror_mode": {
    "name": "ipython",
    "version": 3
   },
   "file_extension": ".py",
   "mimetype": "text/x-python",
   "name": "python",
   "nbconvert_exporter": "python",
   "pygments_lexer": "ipython3",
   "version": "3.10.12"
  }
 },
 "nbformat": 4,
 "nbformat_minor": 5
}
