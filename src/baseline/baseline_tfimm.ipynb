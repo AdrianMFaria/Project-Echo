{
 "cells": [
  {
   "cell_type": "code",
   "execution_count": 9,
   "metadata": {},
   "outputs": [],
   "source": [
    "# disable warnings\n",
    "import warnings\n",
    "warnings.filterwarnings(\"ignore\")\n",
    "\n",
    "# basic imports\n",
    "import torch\n",
    "import timm\n",
    "import tfimm\n",
    "import os\n",
    "import numpy as np\n",
    "import datetime\n",
    "import tensorflow as tf \n",
    "# import tensorflow_hub as hub\n",
    "\n",
    "from keras.utils import dataset_utils\n",
    "import matplotlib.pyplot as plt\n",
    "\n",
    "import baseline_config"
   ]
  },
  {
   "cell_type": "code",
   "execution_count": 10,
   "metadata": {},
   "outputs": [
    {
     "name": "stdout",
     "output_type": "stream",
     "text": [
      "Found 12384 files belonging to 5 classes.\n",
      "Found 487 files belonging to 5 classes.\n",
      "Found 384 files belonging to 5 classes.\n",
      "class names:  ['brant', 'jabwar', 'sheowl', 'spodov', 'wiltur']\n"
     ]
    }
   ],
   "source": [
    "def paths_and_labels_to_dataset(image_paths,labels,num_classes):\n",
    "    path_ds = tf.data.Dataset.from_tensor_slices(image_paths)\n",
    "    img_ds = path_ds.map(\n",
    "        lambda path: tf.io.read_file(path), \n",
    "        num_parallel_calls=tf.data.AUTOTUNE\n",
    "    )\n",
    "    label_ds = dataset_utils.labels_to_dataset(\n",
    "        labels, \n",
    "        'categorical', \n",
    "        num_classes)\n",
    "    img_ds = tf.data.Dataset.zip((img_ds, label_ds))\n",
    "    return img_ds\n",
    "\n",
    "def create_dataset(subset):\n",
    "    image_paths, labels, class_names = dataset_utils.index_directory(\n",
    "            baseline_config.dataset_path + subset,\n",
    "            labels=\"inferred\",\n",
    "            formats=('.pt'),\n",
    "            class_names=None,\n",
    "            shuffle=False,\n",
    "            seed=42,\n",
    "            follow_links=False)\n",
    "\n",
    "    dataset = paths_and_labels_to_dataset(\n",
    "        image_paths=image_paths,\n",
    "        labels=labels,\n",
    "        num_classes=len(class_names))\n",
    "    \n",
    "    return dataset, class_names\n",
    "\n",
    "train_dataset, class_names = create_dataset('TRAIN/')\n",
    "test_dataset, _            = create_dataset('TEST/')\n",
    "validation_dataset, _      = create_dataset('VALIDATION/')\n",
    "print(\"class names: \", class_names)"
   ]
  },
  {
   "cell_type": "code",
   "execution_count": 11,
   "metadata": {},
   "outputs": [],
   "source": [
    "def dataset_transforms(image,label):\n",
    "  \n",
    "    # reshape into standard 3 channels\n",
    "    image = tf.io.parse_tensor(image, tf.float32)\n",
    "    image = tf.expand_dims(image, -1)\n",
    "    \n",
    "    # most pre-trained model expect 3 color channels\n",
    "    image = tf.repeat(image, 3, 2)\n",
    "    \n",
    "    # rescale to range [0,1]\n",
    "    image = image / tf.reduce_max(image)\n",
    "    \n",
    "    image = tf.ensure_shape(image, [313, 128, 3])\n",
    "    \n",
    "    return image,label\n",
    "\n",
    "train_dataset_b = ( \n",
    "                  train_dataset       \n",
    "                  .shuffle(20000)\n",
    "                  .map(dataset_transforms)\n",
    "                  .batch(baseline_config.batch_size)\n",
    "                  .cache()\n",
    "                  #.repeat()            \n",
    "                )\n",
    "\n",
    "validation_dataset_b = ( \n",
    "                  validation_dataset\n",
    "                  .map(dataset_transforms)\n",
    "                  .batch(baseline_config.batch_size)\n",
    "                  .cache()\n",
    "                )\n",
    "\n",
    "test_dataset_b = ( \n",
    "                  test_dataset\n",
    "                  .map(dataset_transforms)\n",
    "                  .batch(baseline_config.batch_size)\n",
    "                  .cache()\n",
    "                )"
   ]
  },
  {
   "cell_type": "code",
   "execution_count": 12,
   "metadata": {},
   "outputs": [
    {
     "name": "stdout",
     "output_type": "stream",
     "text": [
      "(32, 313, 128, 3) (32, 5)\n",
      "0.0 1.0\n"
     ]
    }
   ],
   "source": [
    "for item,lbl in train_dataset_b.take(1):\n",
    "    print(item.shape, lbl.shape)\n",
    "    print(np.min(item), np.max(item))"
   ]
  },
  {
   "cell_type": "code",
   "execution_count": 13,
   "metadata": {},
   "outputs": [],
   "source": [
    "# uncomment to list all possible timm models\n",
    "# tfimm.list_models()"
   ]
  },
  {
   "cell_type": "code",
   "execution_count": 14,
   "metadata": {},
   "outputs": [
    {
     "name": "stderr",
     "output_type": "stream",
     "text": [
      "All PyTorch model weights were used when initializing SwinTransformer.\n",
      "All the weights of SwinTransformer were initialized from the PyTorch model.\n",
      "\n"
     ]
    }
   ],
   "source": [
    "class CustomTimmModel(tf.keras.Model):\n",
    "    \n",
    "    def __init__(self, *args, **kwargs):  \n",
    "        super(CustomTimmModel, self).__init__(*args, **kwargs)\n",
    "        self.rs = tf.keras.layers.Resizing(224, 224, interpolation=\"lanczos5\", crop_to_aspect_ratio=False)\n",
    "        self.fm = tfimm.create_model(\"swin_tiny_patch4_window7_224\", pretrained=True)\n",
    "        self.flat = tf.keras.layers.Flatten()\n",
    "        self.fc1 = tf.keras.layers.Dense(len(class_names)*20, activation=\"relu\")\n",
    "        self.fc2 = tf.keras.layers.Dense(len(class_names)*1, activation=\"relu\")\n",
    "        self.do1 = tf.keras.layers.Dropout(0.5)\n",
    "\n",
    "    def call(self, inputs, training=False):\n",
    "        x = self.rs(inputs)\n",
    "        x = self.fm.forward_features(x) \n",
    "        x = self.flat(x)\n",
    "        x = self.fc1(x)                   \n",
    "        x = self.do1(x)\n",
    "        x = self.fc2(x)\n",
    "        return x\n",
    "    \n",
    "    def train_step(self, data):\n",
    "        # Unpack the data. Its structure depends on your model and\n",
    "        # on what you pass to `fit()`.\n",
    "        x, y = data\n",
    "\n",
    "        with tf.GradientTape() as tape:\n",
    "            y_pred = self(x, training=True)  # Forward pass\n",
    "            # Compute the loss value\n",
    "            # (the loss function is configured in `compile()`)\n",
    "            loss = self.compiled_loss(y, y_pred, regularization_losses=self.losses)\n",
    "\n",
    "        # Compute gradients\n",
    "        trainable_vars = self.trainable_variables\n",
    "        gradients = tape.gradient(loss, trainable_vars)\n",
    "        # Update weights\n",
    "        self.optimizer.apply_gradients(zip(gradients, trainable_vars))\n",
    "        # Update metrics (includes the metric that tracks the loss)\n",
    "        self.compiled_metrics.update_state(y, y_pred)\n",
    "        # Return a dict mapping metric names to current value\n",
    "        return {m.name: m.result() for m in self.metrics}\n",
    "        \n",
    "    def compile(self, *args, **kwargs):\n",
    "        super(CustomTimmModel, self).compile(*args, **kwargs)  \n",
    "\n",
    "    def build(self, *args, **kwargs):\n",
    "        super(CustomTimmModel, self).build(*args, **kwargs) \n",
    "\n",
    "    #def metrics(self, *args, **kwargs):\n",
    "    #    super(CustomTimmModel, self).metrics(*args, **kwargs) \n",
    "\n",
    "    #def reset_metrics(self):\n",
    "    #    super(CustomTimmModel, self).reset_metrics() \n",
    "        \n",
    "# construct the model\n",
    "model = CustomTimmModel()\n",
    "\n",
    "# need to tell the model what the input shape is\n",
    "model.build([None, 313, 128, 3])"
   ]
  },
  {
   "cell_type": "code",
   "execution_count": 15,
   "metadata": {},
   "outputs": [
    {
     "name": "stdout",
     "output_type": "stream",
     "text": [
      "Epoch 1/1000\n",
      "WARNING:tensorflow:Gradients do not exist for variables ['swin_tiny_patch4_window7_224/head/kernel:0', 'swin_tiny_patch4_window7_224/head/bias:0'] when minimizing the loss. If you're using `model.compile()`, did you forget to provide a `loss` argument?\n",
      "WARNING:tensorflow:Gradients do not exist for variables ['swin_tiny_patch4_window7_224/head/kernel:0', 'swin_tiny_patch4_window7_224/head/bias:0'] when minimizing the loss. If you're using `model.compile()`, did you forget to provide a `loss` argument?\n",
      "10/10 [==============================] - 34s 2s/step - loss: 1.9171 - accuracy: 0.5913 - val_loss: 1.6094 - val_accuracy: 0.8000 - lr: 0.0010\n",
      "Epoch 2/1000\n",
      "10/10 [==============================] - 11s 1s/step - loss: 1.6144 - accuracy: 0.7738 - val_loss: 1.6094 - val_accuracy: 0.8000 - lr: 0.0010\n",
      "Epoch 3/1000\n",
      "10/10 [==============================] - 11s 1s/step - loss: 1.6134 - accuracy: 0.7819 - val_loss: 1.6094 - val_accuracy: 0.8000 - lr: 0.0010\n",
      "Epoch 4/1000\n",
      "10/10 [==============================] - 11s 1s/step - loss: 1.6159 - accuracy: 0.7763 - val_loss: 1.6094 - val_accuracy: 0.8000 - lr: 0.0010\n",
      "Epoch 5/1000\n",
      "10/10 [==============================] - ETA: 0s - loss: 1.6116 - accuracy: 0.7744\n",
      "Epoch 5: ReduceLROnPlateau reducing learning rate to 0.0005000000237487257.\n",
      "10/10 [==============================] - 11s 1s/step - loss: 1.6116 - accuracy: 0.7744 - val_loss: 1.6094 - val_accuracy: 0.8000 - lr: 0.0010\n",
      "Epoch 6/1000\n",
      "10/10 [==============================] - 11s 1s/step - loss: 1.6359 - accuracy: 0.7681 - val_loss: 1.6094 - val_accuracy: 0.8000 - lr: 5.0000e-04\n",
      "Epoch 7/1000\n",
      "10/10 [==============================] - 11s 1s/step - loss: 1.6077 - accuracy: 0.7756 - val_loss: 1.6094 - val_accuracy: 0.8000 - lr: 5.0000e-04\n",
      "Epoch 8/1000\n",
      "10/10 [==============================] - 11s 1s/step - loss: 1.6160 - accuracy: 0.7788 - val_loss: 1.6094 - val_accuracy: 0.8000 - lr: 5.0000e-04\n",
      "Epoch 9/1000\n",
      "10/10 [==============================] - ETA: 0s - loss: 1.6087 - accuracy: 0.7825\n",
      "Epoch 9: ReduceLROnPlateau reducing learning rate to 0.0002500000118743628.\n",
      "10/10 [==============================] - 11s 1s/step - loss: 1.6087 - accuracy: 0.7825 - val_loss: 1.6094 - val_accuracy: 0.8000 - lr: 5.0000e-04\n"
     ]
    },
    {
     "data": {
      "text/plain": [
       "<keras.callbacks.History at 0x26118a43580>"
      ]
     },
     "execution_count": 15,
     "metadata": {},
     "output_type": "execute_result"
    }
   ],
   "source": [
    "if not os.path.exists('models/'):\n",
    "    os.mkdir('models/')\n",
    "    \n",
    "# the form_logits means the loss function has the 'softmax' buillt in.  This approach is numerically more stable\n",
    "# than including the softmax activation on the last layer of the classifier\n",
    "model.compile(loss=tf.keras.losses.CategoricalCrossentropy(from_logits=True), \n",
    "              optimizer=tf.keras.optimizers.RMSprop(learning_rate=1e-3), \n",
    "              metrics=[tf.keras.metrics.Accuracy()],\n",
    "              )\n",
    "\n",
    "# tensorboard for visualisation of results\n",
    "log_dir = \"tensorboard_logs/\" + datetime.datetime.now().strftime(\"%Y%m%d-%H%M%S\")\n",
    "tensorboard_callback = tf.keras.callbacks.TensorBoard(log_dir=log_dir, \n",
    "                                                      histogram_freq=1)\n",
    "\n",
    "# reduce learning rate to avoid overshooting local minima\n",
    "lr_reduce_plateau = tf.keras.callbacks.ReduceLROnPlateau(monitor='val_loss', \n",
    "                                                      factor=0.5,\n",
    "                                                      patience=4, \n",
    "                                                      verbose=1,\n",
    "                                                      mode='min',\n",
    "                                                      cooldown=0, \n",
    "                                                      min_lr=1e-8)\n",
    "\n",
    "# end the training if no improvement for 16 epochs in a row, then restore best model weights\n",
    "early_stopping = tf.keras.callbacks.EarlyStopping(\n",
    "    monitor=\"val_loss\",\n",
    "    min_delta=0,\n",
    "    patience=8,\n",
    "    verbose=0,\n",
    "    mode=\"min\",\n",
    "    baseline=None,\n",
    "    restore_best_weights=True,\n",
    ")\n",
    "\n",
    "# save the best model as it trains..\n",
    "mcp_save = tf.keras.callbacks.ModelCheckpoint('models/checkpoint_timm_model.hdf5', \n",
    "                                            save_weights_only=True,\n",
    "                                           save_best_only=True, \n",
    "                                           monitor='val_loss', \n",
    "                                           mode='min')\n",
    "\n",
    "# fit the model to the training set\n",
    "model.fit(train_dataset_b, \n",
    "          validation_data=validation_dataset_b,\n",
    "          steps_per_epoch=10,\n",
    "          callbacks=[lr_reduce_plateau, early_stopping, tensorboard_callback, mcp_save],\n",
    "          epochs=1000)"
   ]
  },
  {
   "cell_type": "code",
   "execution_count": 18,
   "metadata": {},
   "outputs": [
    {
     "name": "stderr",
     "output_type": "stream",
     "text": [
      "All PyTorch model weights were used when initializing SwinTransformer.\n",
      "All the weights of SwinTransformer were initialized from the PyTorch model.\n",
      "\n"
     ]
    }
   ],
   "source": [
    "# save the model weights\n",
    "model.save_weights('models/baseline_timm_model.hdf5', save_format='h5')\n",
    "\n",
    "# test load the model for inference\n",
    "test_model = CustomTimmModel()\n",
    "test_model.build([None, 313, 128, 3])\n",
    "test_model.load_weights('models/baseline_timm_model.hdf5')"
   ]
  },
  {
   "cell_type": "code",
   "execution_count": null,
   "metadata": {},
   "outputs": [],
   "source": []
  }
 ],
 "metadata": {
  "kernelspec": {
   "display_name": "Python 3.9.15 ('dev')",
   "language": "python",
   "name": "python3"
  },
  "language_info": {
   "codemirror_mode": {
    "name": "ipython",
    "version": 3
   },
   "file_extension": ".py",
   "mimetype": "text/x-python",
   "name": "python",
   "nbconvert_exporter": "python",
   "pygments_lexer": "ipython3",
   "version": "3.9.15"
  },
  "orig_nbformat": 4,
  "vscode": {
   "interpreter": {
    "hash": "2848388c1d7df64c5912f8c74b12cb2f63a5fbb869f66edadd9f1eda580b6df3"
   }
  }
 },
 "nbformat": 4,
 "nbformat_minor": 2
}
