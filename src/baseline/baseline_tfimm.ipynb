{
 "cells": [
  {
   "cell_type": "code",
   "execution_count": 1,
   "metadata": {},
   "outputs": [],
   "source": [
    "# disable warnings\n",
    "import warnings\n",
    "warnings.filterwarnings(\"ignore\")\n",
    "\n",
    "# basic imports\n",
    "import torch\n",
    "import timm\n",
    "import tfimm\n",
    "import os\n",
    "import numpy as np\n",
    "import datetime\n",
    "import tensorflow as tf \n",
    "# import tensorflow_hub as hub\n",
    "\n",
    "from keras.utils import dataset_utils\n",
    "import matplotlib.pyplot as plt\n",
    "\n",
    "import baseline_config"
   ]
  },
  {
   "cell_type": "code",
   "execution_count": 2,
   "metadata": {},
   "outputs": [
    {
     "name": "stdout",
     "output_type": "stream",
     "text": [
      "Found 12384 files belonging to 5 classes.\n",
      "Found 487 files belonging to 5 classes.\n",
      "Found 384 files belonging to 5 classes.\n",
      "class names:  ['brant', 'jabwar', 'sheowl', 'spodov', 'wiltur']\n"
     ]
    }
   ],
   "source": [
    "def paths_and_labels_to_dataset(image_paths,labels,num_classes):\n",
    "    path_ds = tf.data.Dataset.from_tensor_slices(image_paths)\n",
    "    img_ds = path_ds.map(\n",
    "        lambda path: tf.io.read_file(path), \n",
    "        num_parallel_calls=tf.data.AUTOTUNE\n",
    "    )\n",
    "    label_ds = dataset_utils.labels_to_dataset(\n",
    "        labels, \n",
    "        'categorical', \n",
    "        num_classes)\n",
    "    img_ds = tf.data.Dataset.zip((img_ds, label_ds))\n",
    "    return img_ds\n",
    "\n",
    "def create_dataset(subset):\n",
    "    image_paths, labels, class_names = dataset_utils.index_directory(\n",
    "            baseline_config.dataset_path + subset,\n",
    "            labels=\"inferred\",\n",
    "            formats=('.pt'),\n",
    "            class_names=None,\n",
    "            shuffle=False,\n",
    "            seed=42,\n",
    "            follow_links=False)\n",
    "\n",
    "    dataset = paths_and_labels_to_dataset(\n",
    "        image_paths=image_paths,\n",
    "        labels=labels,\n",
    "        num_classes=len(class_names))\n",
    "    \n",
    "    return dataset, class_names\n",
    "\n",
    "train_dataset, class_names = create_dataset('TRAIN/')\n",
    "test_dataset, _            = create_dataset('TEST/')\n",
    "validation_dataset, _      = create_dataset('VALIDATION/')\n",
    "print(\"class names: \", class_names)"
   ]
  },
  {
   "cell_type": "code",
   "execution_count": 3,
   "metadata": {},
   "outputs": [],
   "source": [
    "def dataset_transforms(image,label):\n",
    "  \n",
    "    # reshape into standard 3 channels\n",
    "    image = tf.io.parse_tensor(image, tf.float32)\n",
    "    image = tf.expand_dims(image, -1)\n",
    "    \n",
    "    # most pre-trained model expect 3 color channels\n",
    "    image = tf.repeat(image, 3, 2)\n",
    "    \n",
    "    image = tf.ensure_shape(image, [313, 128, 3])\n",
    "    image = tf.image.resize(image, (224,224), method=tf.image.ResizeMethod.LANCZOS5)\n",
    "    \n",
    "    # rescale to range [0,1]\n",
    "    image = image / tf.reduce_max(image)\n",
    "    \n",
    "    return image,label\n",
    "\n",
    "train_dataset_b = ( \n",
    "                  train_dataset       \n",
    "                  .shuffle(20000)\n",
    "                  .map(dataset_transforms)\n",
    "                  .batch(baseline_config.batch_size)\n",
    "                  .cache()\n",
    "                  #.repeat()            \n",
    "                )\n",
    "\n",
    "validation_dataset_b = ( \n",
    "                  validation_dataset\n",
    "                  .map(dataset_transforms)\n",
    "                  .batch(baseline_config.batch_size)\n",
    "                  .cache()\n",
    "                )\n",
    "\n",
    "test_dataset_b = ( \n",
    "                  test_dataset\n",
    "                  .map(dataset_transforms)\n",
    "                  .batch(baseline_config.batch_size)\n",
    "                  .cache()\n",
    "                )"
   ]
  },
  {
   "cell_type": "code",
   "execution_count": 4,
   "metadata": {},
   "outputs": [
    {
     "name": "stdout",
     "output_type": "stream",
     "text": [
      "(32, 224, 224, 3) (32, 5)\n",
      "-0.1720229 1.0\n"
     ]
    }
   ],
   "source": [
    "for item,lbl in train_dataset_b.take(1):\n",
    "    print(item.shape, lbl.shape)\n",
    "    print(np.min(item), np.max(item))"
   ]
  },
  {
   "cell_type": "code",
   "execution_count": 5,
   "metadata": {},
   "outputs": [],
   "source": [
    "# uncomment to list all possible timm models\n",
    "# tfimm.list_models()"
   ]
  },
  {
   "cell_type": "code",
   "execution_count": 6,
   "metadata": {},
   "outputs": [
    {
     "name": "stderr",
     "output_type": "stream",
     "text": [
      "All PyTorch model weights were used when initializing SwinTransformer.\n",
      "All the weights of SwinTransformer were initialized from the PyTorch model.\n",
      "\n"
     ]
    }
   ],
   "source": [
    "class CustomTimmModel(tf.keras.Model):\n",
    "    \n",
    "    def __init__(self, *args, **kwargs):  \n",
    "        super(CustomTimmModel, self).__init__(*args, **kwargs)\n",
    "        #self.rs = tf.keras.layers.Resizing(224, 224, interpolation=\"lanczos5\", crop_to_aspect_ratio=False)\n",
    "        self.fm = tfimm.create_model(\"swin_tiny_patch4_window7_224\", pretrained=True)\n",
    "        self.flat = tf.keras.layers.Flatten()\n",
    "        self.fc1 = tf.keras.layers.Dense(len(class_names)*20, activation=tf.keras.activations.relu)\n",
    "        self.fc2 = tf.keras.layers.Dense(len(class_names)*1, activation=tf.keras.activations.linear)\n",
    "        self.do1 = tf.keras.layers.Dropout(0.5)\n",
    "\n",
    "    def call(self, inputs, training=False):\n",
    "        #x = self.rs(inputs)\n",
    "        x = self.fm.forward_features(inputs) \n",
    "        x = self.flat(x)\n",
    "        x = self.fc1(x)                   \n",
    "        x = self.do1(x)\n",
    "        x = self.fc2(x)\n",
    "        return x\n",
    "        \n",
    "# construct the model\n",
    "model = CustomTimmModel()\n",
    "\n",
    "# need to tell the model what the input shape is\n",
    "model.build([None, 224, 224, 3])"
   ]
  },
  {
   "cell_type": "code",
   "execution_count": 7,
   "metadata": {},
   "outputs": [
    {
     "name": "stdout",
     "output_type": "stream",
     "text": [
      "Epoch 1/10000\n",
      "WARNING:tensorflow:Gradients do not exist for variables ['swin_tiny_patch4_window7_224/head/kernel:0', 'swin_tiny_patch4_window7_224/head/bias:0'] when minimizing the loss. If you're using `model.compile()`, did you forget to provide a `loss` argument?\n",
      "WARNING:tensorflow:Gradients do not exist for variables ['swin_tiny_patch4_window7_224/head/kernel:0', 'swin_tiny_patch4_window7_224/head/bias:0'] when minimizing the loss. If you're using `model.compile()`, did you forget to provide a `loss` argument?\n",
      "200/387 [==============>...............] - ETA: 40s - loss: 1.3293 - accuracy: 0.4236"
     ]
    }
   ],
   "source": [
    "if not os.path.exists('models/'):\n",
    "    os.mkdir('models/')\n",
    "    \n",
    "# the form_logits means the loss function has the 'softmax' buillt in.  This approach is numerically more stable\n",
    "# than including the softmax activation on the last layer of the classifier\n",
    "model.compile(loss=tf.keras.losses.CategoricalCrossentropy(from_logits=True), \n",
    "              optimizer=tf.keras.optimizers.RMSprop(learning_rate=1e-4), \n",
    "              metrics=[\"accuracy\"],\n",
    "              )\n",
    "\n",
    "# tensorboard for visualisation of results\n",
    "log_dir = \"tensorboard_logs/\" + datetime.datetime.now().strftime(\"%Y%m%d-%H%M%S\")\n",
    "tensorboard_callback = tf.keras.callbacks.TensorBoard(log_dir=log_dir, \n",
    "                                                      histogram_freq=1)\n",
    "\n",
    "# reduce learning rate to avoid overshooting local minima\n",
    "lr_reduce_plateau = tf.keras.callbacks.ReduceLROnPlateau(monitor='val_loss', \n",
    "                                                      factor=0.5,\n",
    "                                                      patience=4, \n",
    "                                                      verbose=1,\n",
    "                                                      mode='min',\n",
    "                                                      cooldown=0, \n",
    "                                                      min_lr=1e-8)\n",
    "\n",
    "# end the training if no improvement for 8 epochs in a row, then restore best model weights\n",
    "early_stopping = tf.keras.callbacks.EarlyStopping(\n",
    "    monitor=\"val_loss\",\n",
    "    min_delta=0,\n",
    "    patience=8,\n",
    "    verbose=0,\n",
    "    mode=\"min\",\n",
    "    baseline=None,\n",
    "    restore_best_weights=True,\n",
    ")\n",
    "\n",
    "# save the best model as it trains..\n",
    "mcp_save = tf.keras.callbacks.ModelCheckpoint('models/checkpoint_timm_model.hdf5', \n",
    "                                            save_weights_only=True,\n",
    "                                           save_best_only=True, \n",
    "                                           monitor='val_loss', \n",
    "                                           mode='min')\n",
    "\n",
    "# fit the model to the training set\n",
    "history = model.fit(train_dataset_b, \n",
    "          validation_data=validation_dataset_b,\n",
    "          #steps_per_epoch=10,\n",
    "          callbacks=[lr_reduce_plateau, early_stopping, tensorboard_callback, mcp_save],\n",
    "          epochs=10000)"
   ]
  },
  {
   "cell_type": "code",
   "execution_count": null,
   "metadata": {},
   "outputs": [
    {
     "name": "stderr",
     "output_type": "stream",
     "text": [
      "All PyTorch model weights were used when initializing SwinTransformer.\n",
      "All the weights of SwinTransformer were initialized from the PyTorch model.\n",
      "\n"
     ]
    }
   ],
   "source": [
    "# save the model weights\n",
    "model.save_weights('models/baseline_timm_model.hdf5', save_format='h5')\n",
    "\n",
    "# test load the model for inference\n",
    "test_model = CustomTimmModel()\n",
    "test_model.build([None, 313, 128, 3])\n",
    "test_model.load_weights('models/baseline_timm_model.hdf5')"
   ]
  },
  {
   "cell_type": "code",
   "execution_count": null,
   "metadata": {},
   "outputs": [],
   "source": []
  }
 ],
 "metadata": {
  "kernelspec": {
   "display_name": "Python 3.9.15 ('dev')",
   "language": "python",
   "name": "python3"
  },
  "language_info": {
   "codemirror_mode": {
    "name": "ipython",
    "version": 3
   },
   "file_extension": ".py",
   "mimetype": "text/x-python",
   "name": "python",
   "nbconvert_exporter": "python",
   "pygments_lexer": "ipython3",
   "version": "3.9.15"
  },
  "orig_nbformat": 4,
  "vscode": {
   "interpreter": {
    "hash": "2848388c1d7df64c5912f8c74b12cb2f63a5fbb869f66edadd9f1eda580b6df3"
   }
  }
 },
 "nbformat": 4,
 "nbformat_minor": 2
}
