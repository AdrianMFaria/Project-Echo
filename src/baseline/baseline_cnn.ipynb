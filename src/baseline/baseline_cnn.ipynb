{
 "cells": [
  {
   "cell_type": "code",
   "execution_count": 1,
   "metadata": {},
   "outputs": [],
   "source": [
    "# disable warnings\n",
    "import warnings\n",
    "warnings.filterwarnings(\"ignore\")\n",
    "\n",
    "# basic imports\n",
    "import tensorflow as tf \n",
    "import torch\n",
    "import io\n",
    "import numpy as np\n",
    "import datetime\n",
    "import tensorflow_hub as hub\n",
    "from tensorflow import keras\n",
    "from tensorflow.keras import layers\n",
    "\n",
    "from keras.utils import dataset_utils\n",
    "import matplotlib.pyplot as plt\n",
    "\n",
    "import baseline_config"
   ]
  },
  {
   "cell_type": "code",
   "execution_count": 2,
   "metadata": {},
   "outputs": [
    {
     "name": "stdout",
     "output_type": "stream",
     "text": [
      "Found 12384 files belonging to 5 classes.\n",
      "Found 487 files belonging to 5 classes.\n",
      "Found 384 files belonging to 5 classes.\n",
      "class names:  ['brant', 'jabwar', 'sheowl', 'spodov', 'wiltur']\n"
     ]
    }
   ],
   "source": [
    "def paths_and_labels_to_dataset(image_paths,labels,num_classes):\n",
    "    path_ds = tf.data.Dataset.from_tensor_slices(image_paths)\n",
    "    img_ds = path_ds.map(\n",
    "        lambda path: tf.io.read_file(path), \n",
    "        num_parallel_calls=tf.data.AUTOTUNE\n",
    "    )\n",
    "    label_ds = dataset_utils.labels_to_dataset(\n",
    "        labels, \n",
    "        'categorical', \n",
    "        num_classes)\n",
    "    img_ds = tf.data.Dataset.zip((img_ds, label_ds))\n",
    "    return img_ds\n",
    "\n",
    "def create_dataset(subset):\n",
    "    image_paths, labels, class_names = dataset_utils.index_directory(\n",
    "            baseline_config.dataset_path + subset,\n",
    "            labels=\"inferred\",\n",
    "            formats=('.pt'),\n",
    "            class_names=None,\n",
    "            shuffle=False,\n",
    "            seed=42,\n",
    "            follow_links=False)\n",
    "\n",
    "    dataset = paths_and_labels_to_dataset(\n",
    "        image_paths=image_paths,\n",
    "        labels=labels,\n",
    "        num_classes=len(class_names))\n",
    "    \n",
    "    return dataset, class_names\n",
    "\n",
    "train_dataset, class_names = create_dataset('TRAIN/')\n",
    "test_dataset, _            = create_dataset('TEST/')\n",
    "validation_dataset, _      = create_dataset('VALIDATION/')\n",
    "print(\"class names: \", class_names)"
   ]
  },
  {
   "cell_type": "code",
   "execution_count": 3,
   "metadata": {},
   "outputs": [],
   "source": [
    "def dataset_transforms(image,label):\n",
    "  \n",
    "    # reshape into standard 3 channels\n",
    "    image = tf.io.parse_tensor(image, tf.float32)\n",
    "    image = tf.expand_dims(image, -1)\n",
    "    image = tf.repeat(image, 3, 2)\n",
    "    \n",
    "    # rescale to range [0,1]\n",
    "    image = image / tf.reduce_max(image)\n",
    "    \n",
    "    return image,label\n",
    "\n",
    "train_dataset_b = ( \n",
    "                  train_dataset\n",
    "                  .cache()\n",
    "                  .shuffle(20000)\n",
    "                  .map(dataset_transforms)\n",
    "                  .batch(baseline_config.batch_size)\n",
    "                  .repeat()            \n",
    "                )\n",
    "\n",
    "validation_dataset_b = ( \n",
    "                  validation_dataset\n",
    "                  .map(dataset_transforms)\n",
    "                  .batch(baseline_config.batch_size)\n",
    "                  .cache()\n",
    "                )\n",
    "\n",
    "test_dataset_b = ( \n",
    "                  test_dataset\n",
    "                  .map(dataset_transforms)\n",
    "                  .batch(baseline_config.batch_size)\n",
    "                  .cache()\n",
    "                )"
   ]
  },
  {
   "cell_type": "code",
   "execution_count": 4,
   "metadata": {},
   "outputs": [
    {
     "name": "stdout",
     "output_type": "stream",
     "text": [
      "(32, 313, 128, 3) (32, 5)\n",
      "0.0 1.0\n"
     ]
    }
   ],
   "source": [
    "for item,lbl in train_dataset_b.take(1):\n",
    "    print(item.shape, lbl.shape)\n",
    "    print(np.min(item), np.max(item))"
   ]
  },
  {
   "cell_type": "code",
   "execution_count": 5,
   "metadata": {},
   "outputs": [],
   "source": [
    "def build_model(trainable):\n",
    "    # build a really simple classification model using a pre-training Efficientnet V2\n",
    "    model = keras.Sequential(\n",
    "        [\n",
    "            # use the model as a feature generator only\n",
    "            # need to resize here, as the efficientnet_v2_imagenet21k_s model expects it\n",
    "            tf.keras.layers.InputLayer(input_shape=(313,128,3)),\n",
    "            tf.keras.layers.Resizing(224, 224, interpolation=\"lanczos5\", crop_to_aspect_ratio=False),\n",
    "            \n",
    "            #tf.keras.layers.Conv2D(filters=128, kernel_size=(7,7), strides=(3,3)),\n",
    "            #tf.keras.layers.Conv2D(filters=256, kernel_size=(5,5), strides=(2,2)),\n",
    "            #tf.keras.layers.Conv2D(filters=512, kernel_size=(3,3), strides=(1,1)),\n",
    "            #tf.keras.layers.Conv2D(filters=1024, kernel_size=(3,3), strides=(1,1)),\n",
    "            \n",
    "            #tf.keras.layers.GlobalMaxPooling2D(),\n",
    "            \n",
    "            # downloaded from: https://tfhub.dev/google/imagenet/efficientnet_v2_imagenet21k_m/feature_vector/2\n",
    "            hub.KerasLayer(\"https://tfhub.dev/google/tf2-preview/mobilenet_v2/feature_vector/4\", trainable),        \n",
    "\n",
    "            # add the classification layer here       \n",
    "            layers.Flatten(),\n",
    "            layers.Dense(256, activation=\"relu\"),\n",
    "            layers.Dropout(0.60),\n",
    "            layers.Dense(128, activation=\"relu\"),\n",
    "            layers.Dropout(0.60),\n",
    "            layers.Dense(len(class_names), activation=None),\n",
    "        ]\n",
    "    )\n",
    "    # need to tell the model what the input shape is\n",
    "    model.build([None, 313, 128, 3])\n",
    "\n",
    "    # show the model\n",
    "    model.summary()\n",
    "    \n",
    "    return model"
   ]
  },
  {
   "cell_type": "code",
   "execution_count": 6,
   "metadata": {},
   "outputs": [
    {
     "name": "stdout",
     "output_type": "stream",
     "text": [
      "WARNING:tensorflow:Please fix your imports. Module tensorflow.python.training.tracking.data_structures has been moved to tensorflow.python.trackable.data_structures. The old module will be deleted in version 2.11.\n",
      "Model: \"sequential\"\n",
      "_________________________________________________________________\n",
      " Layer (type)                Output Shape              Param #   \n",
      "=================================================================\n",
      " resizing (Resizing)         (None, 224, 224, 3)       0         \n",
      "                                                                 \n",
      " keras_layer (KerasLayer)    (None, 1280)              2257984   \n",
      "                                                                 \n",
      " flatten (Flatten)           (None, 1280)              0         \n",
      "                                                                 \n",
      " dense (Dense)               (None, 256)               327936    \n",
      "                                                                 \n",
      " dropout (Dropout)           (None, 256)               0         \n",
      "                                                                 \n",
      " dense_1 (Dense)             (None, 128)               32896     \n",
      "                                                                 \n",
      " dropout_1 (Dropout)         (None, 128)               0         \n",
      "                                                                 \n",
      " dense_2 (Dense)             (None, 5)                 645       \n",
      "                                                                 \n",
      "=================================================================\n",
      "Total params: 2,619,461\n",
      "Trainable params: 361,477\n",
      "Non-trainable params: 2,257,984\n",
      "_________________________________________________________________\n",
      "Epoch 1/10000\n",
      "50/50 [==============================] - 16s 197ms/step - loss: 2.4593 - accuracy: 0.1881 - val_loss: 1.6493 - val_accuracy: 0.3281 - lr: 1.0000e-05\n",
      "Epoch 2/10000\n",
      "50/50 [==============================] - 9s 182ms/step - loss: 2.3072 - accuracy: 0.2056 - val_loss: 1.6052 - val_accuracy: 0.3229 - lr: 1.0000e-05\n",
      "Epoch 3/10000\n",
      "50/50 [==============================] - 9s 172ms/step - loss: 2.1554 - accuracy: 0.2150 - val_loss: 1.5832 - val_accuracy: 0.3255 - lr: 1.0000e-05\n",
      "Epoch 4/10000\n",
      "50/50 [==============================] - 9s 177ms/step - loss: 2.0852 - accuracy: 0.2081 - val_loss: 1.5740 - val_accuracy: 0.3125 - lr: 1.0000e-05\n",
      "Epoch 5/10000\n",
      "50/50 [==============================] - 9s 180ms/step - loss: 2.0642 - accuracy: 0.2037 - val_loss: 1.5642 - val_accuracy: 0.3021 - lr: 1.0000e-05\n",
      "Epoch 6/10000\n",
      "25/50 [==============>...............] - ETA: 2s - loss: 1.9970 - accuracy: 0.2225"
     ]
    }
   ],
   "source": [
    "# allow all the weights to be trained\n",
    "model = build_model(True)\n",
    "\n",
    "# the form_logits means the loss function has the 'softmax' buillt in.  This approach is numerically more stable\n",
    "# than including the softmax activation on the last layer of the classifier\n",
    "model.compile(loss=tf.keras.losses.CategoricalCrossentropy(from_logits=True), \n",
    "              optimizer=tf.keras.optimizers.Adam(learning_rate=1e-5), \n",
    "              metrics=[\"accuracy\"],\n",
    "              )\n",
    "\n",
    "# tensorboard for visualisation of results\n",
    "log_dir = \"logs/\" + datetime.datetime.now().strftime(\"%Y%m%d-%H%M%S\")\n",
    "tensorboard_callback = tf.keras.callbacks.TensorBoard(log_dir=log_dir, histogram_freq=1)\n",
    "\n",
    "# reduce learning rate to avoid overshooting local minima\n",
    "lr_reduce_plateau = keras.callbacks.ReduceLROnPlateau(monitor='val_loss', factor=0.6,\n",
    "                                                      patience=4, verbose=1, mode='min',\n",
    "                                                      cooldown=0, min_lr=1e-8)\n",
    "\n",
    "# save the best model as it trains..\n",
    "mcp_save = keras.callbacks.ModelCheckpoint('models/model_wts.hdf5', save_best_only=True, monitor='val_loss', mode='min')\n",
    "\n",
    "# fit the model to the training set\n",
    "model.fit(train_dataset_b, \n",
    "          validation_data=validation_dataset_b,\n",
    "          steps_per_epoch=50,\n",
    "          callbacks=[lr_reduce_plateau, tensorboard_callback, mcp_save],\n",
    "          epochs=10000)"
   ]
  }
 ],
 "metadata": {
  "kernelspec": {
   "display_name": "Python 3.9.15 ('dev')",
   "language": "python",
   "name": "python3"
  },
  "language_info": {
   "codemirror_mode": {
    "name": "ipython",
    "version": 3
   },
   "file_extension": ".py",
   "mimetype": "text/x-python",
   "name": "python",
   "nbconvert_exporter": "python",
   "pygments_lexer": "ipython3",
   "version": "3.9.15"
  },
  "orig_nbformat": 4,
  "vscode": {
   "interpreter": {
    "hash": "2848388c1d7df64c5912f8c74b12cb2f63a5fbb869f66edadd9f1eda580b6df3"
   }
  }
 },
 "nbformat": 4,
 "nbformat_minor": 2
}
