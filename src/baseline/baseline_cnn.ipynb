{
 "cells": [
  {
   "cell_type": "code",
   "execution_count": 1,
   "metadata": {},
   "outputs": [],
   "source": [
    "# disable warnings\n",
    "import warnings\n",
    "warnings.filterwarnings(\"ignore\")\n",
    "\n",
    "# basic imports\n",
    "import tensorflow as tf \n",
    "import torch\n",
    "import io\n",
    "import numpy as np\n",
    "import tensorflow_hub as hub\n",
    "from tensorflow import keras\n",
    "from tensorflow.keras import layers\n",
    "\n",
    "from keras.utils import dataset_utils\n",
    "import matplotlib.pyplot as plt\n",
    "\n",
    "import baseline_config"
   ]
  },
  {
   "cell_type": "code",
   "execution_count": 2,
   "metadata": {},
   "outputs": [
    {
     "name": "stdout",
     "output_type": "stream",
     "text": [
      "Found 12384 files belonging to 5 classes.\n",
      "Found 487 files belonging to 5 classes.\n",
      "Found 384 files belonging to 5 classes.\n"
     ]
    }
   ],
   "source": [
    "def paths_and_labels_to_dataset(image_paths,labels,num_classes):\n",
    "    path_ds = tf.data.Dataset.from_tensor_slices(image_paths)\n",
    "    img_ds = path_ds.map(\n",
    "        lambda path: tf.io.read_file(path) , num_parallel_calls=tf.data.AUTOTUNE\n",
    "    )\n",
    "    label_ds = dataset_utils.labels_to_dataset(labels, True, num_classes)\n",
    "    img_ds = tf.data.Dataset.zip((img_ds, label_ds))\n",
    "    return img_ds\n",
    "\n",
    "def create_dataset(subset):\n",
    "    image_paths, labels, class_names = dataset_utils.index_directory(\n",
    "            baseline_config.dataset_path + subset,\n",
    "            labels=\"inferred\",\n",
    "            formats=('.pt'),\n",
    "            class_names=None,\n",
    "            shuffle=False,\n",
    "            seed=42,\n",
    "            follow_links=True)\n",
    "\n",
    "    dataset = paths_and_labels_to_dataset(\n",
    "        image_paths=image_paths,\n",
    "        labels=labels,\n",
    "        num_classes=len(class_names))\n",
    "    \n",
    "    return dataset, class_names\n",
    "\n",
    "train_dataset, class_names = create_dataset('TRAIN/')\n",
    "test_dataset,_             = create_dataset('TEST/')\n",
    "validation_dataset,_       = create_dataset('VALIDATION/')"
   ]
  },
  {
   "cell_type": "code",
   "execution_count": 3,
   "metadata": {},
   "outputs": [],
   "source": [
    "def dataset_tranforms(image,label):\n",
    "    image = torch.load(io.BytesIO(image.numpy()))\n",
    "    image = tf.expand_dims(image, -1)\n",
    "    image = tf.repeat(image, 3, 2)\n",
    "    label = tf.cast(label, tf.int64)\n",
    "    # print(image.shape)\n",
    "    return image,label\n",
    "\n",
    "py_func_wrapper = lambda x,y: tf.py_function(func=dataset_tranforms, inp=[x,y], Tout=[tf.float32,tf.int64])\n",
    "\n",
    "train_dataset = ( \n",
    "                  train_dataset\n",
    "                  .shuffle(20000)\n",
    "                  .map(py_func_wrapper)\n",
    "                  .repeat()\n",
    "                  .batch(baseline_config.batch_size)\n",
    "                  \n",
    "                )\n",
    "\n",
    "validation_dataset = ( \n",
    "                  validation_dataset\n",
    "                  .map(py_func_wrapper)\n",
    "                  .repeat()\n",
    "                  .take(baseline_config.batch_size)\n",
    "                  .batch(baseline_config.batch_size)\n",
    "                )\n",
    "\n",
    "test_dataset = ( \n",
    "                  test_dataset\n",
    "                  .map(py_func_wrapper)\n",
    "                  .repeat()\n",
    "                  .take(baseline_config.batch_size)\n",
    "                  .batch(baseline_config.batch_size)\n",
    "                )\n",
    "\n",
    "#for melspec, label in train_dataset:\n",
    "    # print(melspec.shape, melspec, label)\n",
    "#    assert melspec.shape==(32,313,128,3)"
   ]
  },
  {
   "cell_type": "code",
   "execution_count": 4,
   "metadata": {},
   "outputs": [
    {
     "name": "stdout",
     "output_type": "stream",
     "text": [
      "WARNING:tensorflow:Please fix your imports. Module tensorflow.python.training.tracking.data_structures has been moved to tensorflow.python.trackable.data_structures. The old module will be deleted in version 2.11.\n",
      "Model: \"sequential\"\n",
      "_________________________________________________________________\n",
      " Layer (type)                Output Shape              Param #   \n",
      "=================================================================\n",
      " resizing (Resizing)         (None, 260, 260, 3)       0         \n",
      "                                                                 \n",
      " keras_layer (KerasLayer)    (None, 1536)              12930622  \n",
      "                                                                 \n",
      " flatten (Flatten)           (None, 1536)              0         \n",
      "                                                                 \n",
      " dense (Dense)               (None, 64)                98368     \n",
      "                                                                 \n",
      " dropout (Dropout)           (None, 64)                0         \n",
      "                                                                 \n",
      " dense_1 (Dense)             (None, 5)                 325       \n",
      "                                                                 \n",
      "=================================================================\n",
      "Total params: 13,029,315\n",
      "Trainable params: 98,693\n",
      "Non-trainable params: 12,930,622\n",
      "_________________________________________________________________\n"
     ]
    }
   ],
   "source": [
    "# build a really simple classification model using a pre-training Efficientnet V2\n",
    "model = keras.Sequential(\n",
    "    [\n",
    "        # need to resize here, as the efficientnet_v2_imagenet1k_b3 model requires 260x260 input\n",
    "        tf.keras.layers.Resizing(260, 260, interpolation=\"bilinear\", crop_to_aspect_ratio=False),\n",
    "        \n",
    "        # use the model as a feature generator only\n",
    "        hub.KerasLayer(\"https://tfhub.dev/google/imagenet/efficientnet_v2_imagenet1k_b3/feature_vector/2\", False),\n",
    "        \n",
    "        # add the classification layer here       \n",
    "        layers.Flatten(),\n",
    "        layers.Dense(64, activation=\"relu\"),\n",
    "        layers.Dropout(0.65),\n",
    "        layers.Dense(len(class_names), activation=None),\n",
    "    ]\n",
    ")\n",
    "# need to tell the model what the input shape is\n",
    "model.build([None, 313, 128, 3])\n",
    "\n",
    "# show the model\n",
    "model.summary()"
   ]
  },
  {
   "cell_type": "code",
   "execution_count": 5,
   "metadata": {},
   "outputs": [
    {
     "name": "stdout",
     "output_type": "stream",
     "text": [
      "Epoch 1/100000\n",
      "50/50 [==============================] - 52s 769ms/step - loss: 1.5907 - accuracy: 0.2744 - val_loss: 1.6903 - val_accuracy: 0.1719\n",
      "Epoch 2/100000\n",
      "50/50 [==============================] - 39s 783ms/step - loss: 1.4442 - accuracy: 0.3578 - val_loss: 1.4312 - val_accuracy: 0.4375\n",
      "Epoch 3/100000\n",
      "50/50 [==============================] - 39s 772ms/step - loss: 1.3708 - accuracy: 0.4203 - val_loss: 1.3181 - val_accuracy: 0.5625\n",
      "Epoch 4/100000\n",
      "50/50 [==============================] - 40s 799ms/step - loss: 1.3255 - accuracy: 0.4512 - val_loss: 1.2640 - val_accuracy: 0.5625\n",
      "Epoch 5/100000\n",
      "50/50 [==============================] - 39s 791ms/step - loss: 1.2842 - accuracy: 0.4684 - val_loss: 1.1716 - val_accuracy: 0.5938\n",
      "Epoch 6/100000\n",
      "50/50 [==============================] - 40s 805ms/step - loss: 1.2525 - accuracy: 0.5153 - val_loss: 1.0886 - val_accuracy: 0.6406\n",
      "Epoch 7/100000\n",
      "50/50 [==============================] - 40s 791ms/step - loss: 1.1936 - accuracy: 0.5256 - val_loss: 0.9968 - val_accuracy: 0.6875\n",
      "Epoch 8/100000\n",
      "50/50 [==============================] - 40s 810ms/step - loss: 1.1537 - accuracy: 0.5656 - val_loss: 0.9502 - val_accuracy: 0.7500\n",
      "Epoch 9/100000\n",
      "50/50 [==============================] - 40s 804ms/step - loss: 1.1268 - accuracy: 0.5750 - val_loss: 0.9128 - val_accuracy: 0.7031\n",
      "Epoch 10/100000\n",
      "50/50 [==============================] - 41s 810ms/step - loss: 1.1148 - accuracy: 0.5788 - val_loss: 0.8671 - val_accuracy: 0.7188\n",
      "Epoch 11/100000\n",
      "50/50 [==============================] - 40s 797ms/step - loss: 1.1079 - accuracy: 0.5656 - val_loss: 0.8965 - val_accuracy: 0.7031\n",
      "Epoch 12/100000\n",
      "50/50 [==============================] - 41s 812ms/step - loss: 1.0695 - accuracy: 0.5878 - val_loss: 0.7833 - val_accuracy: 0.7969\n",
      "Epoch 13/100000\n",
      "50/50 [==============================] - 40s 801ms/step - loss: 1.0659 - accuracy: 0.6078 - val_loss: 0.8424 - val_accuracy: 0.7344\n",
      "Epoch 14/100000\n",
      "20/50 [===========>..................] - ETA: 23s - loss: 1.0309 - accuracy: 0.6156"
     ]
    }
   ],
   "source": [
    "# the form_logits means the loss function has the 'softmax' buillt in.  This approach is numerically more stable\n",
    "# than including the softmax activation on the last layer of the classifier\n",
    "model.compile(loss=tf.keras.losses.SparseCategoricalCrossentropy(from_logits=True), \n",
    "              optimizer=tf.keras.optimizers.Adam(learning_rate=1e-4), \n",
    "              metrics=[\"accuracy\"], \n",
    "              run_eagerly=True)\n",
    "\n",
    "model.fit(train_dataset, \n",
    "          validation_data=validation_dataset,\n",
    "          steps_per_epoch=50,\n",
    "          epochs=baseline_config.max_epoch)"
   ]
  }
 ],
 "metadata": {
  "kernelspec": {
   "display_name": "Python 3.9.15 ('dev')",
   "language": "python",
   "name": "python3"
  },
  "language_info": {
   "codemirror_mode": {
    "name": "ipython",
    "version": 3
   },
   "file_extension": ".py",
   "mimetype": "text/x-python",
   "name": "python",
   "nbconvert_exporter": "python",
   "pygments_lexer": "ipython3",
   "version": "3.9.15"
  },
  "orig_nbformat": 4,
  "vscode": {
   "interpreter": {
    "hash": "2848388c1d7df64c5912f8c74b12cb2f63a5fbb869f66edadd9f1eda580b6df3"
   }
  }
 },
 "nbformat": 4,
 "nbformat_minor": 2
}
