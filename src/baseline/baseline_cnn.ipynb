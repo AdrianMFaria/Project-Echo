{
 "cells": [
  {
   "cell_type": "code",
   "execution_count": 1,
   "metadata": {},
   "outputs": [],
   "source": [
    "# disable warnings\n",
    "import warnings\n",
    "warnings.filterwarnings(\"ignore\")\n",
    "\n",
    "# basic imports\n",
    "import tensorflow as tf \n",
    "import torch\n",
    "import io\n",
    "import numpy as np\n",
    "import tensorflow_hub as hub\n",
    "from tensorflow import keras\n",
    "from tensorflow.keras import layers\n",
    "\n",
    "from keras.utils import dataset_utils\n",
    "import matplotlib.pyplot as plt\n",
    "\n",
    "import baseline_config"
   ]
  },
  {
   "cell_type": "code",
   "execution_count": 2,
   "metadata": {},
   "outputs": [
    {
     "name": "stdout",
     "output_type": "stream",
     "text": [
      "Found 12384 files belonging to 5 classes.\n",
      "Found 487 files belonging to 5 classes.\n",
      "Found 384 files belonging to 5 classes.\n",
      "class names:  ['brant', 'jabwar', 'sheowl', 'spodov', 'wiltur']\n"
     ]
    }
   ],
   "source": [
    "def paths_and_labels_to_dataset(image_paths,labels,num_classes):\n",
    "    path_ds = tf.data.Dataset.from_tensor_slices(image_paths)\n",
    "    img_ds = path_ds.map(\n",
    "        lambda path: tf.io.read_file(path), \n",
    "        num_parallel_calls=tf.data.AUTOTUNE\n",
    "    )\n",
    "    label_ds = dataset_utils.labels_to_dataset(\n",
    "        labels, \n",
    "        'categorical', \n",
    "        num_classes)\n",
    "    img_ds = tf.data.Dataset.zip((img_ds, label_ds))\n",
    "    return img_ds\n",
    "\n",
    "def create_dataset(subset):\n",
    "    image_paths, labels, class_names = dataset_utils.index_directory(\n",
    "            baseline_config.dataset_path + subset,\n",
    "            labels=\"inferred\",\n",
    "            formats=('.pt'),\n",
    "            class_names=None,\n",
    "            shuffle=False,\n",
    "            seed=42,\n",
    "            follow_links=False)\n",
    "\n",
    "    dataset = paths_and_labels_to_dataset(\n",
    "        image_paths=image_paths,\n",
    "        labels=labels,\n",
    "        num_classes=len(class_names))\n",
    "    \n",
    "    return dataset, class_names\n",
    "\n",
    "train_dataset, class_names = create_dataset('TRAIN/')\n",
    "test_dataset, _            = create_dataset('TEST/')\n",
    "validation_dataset, _      = create_dataset('VALIDATION/')\n",
    "print(\"class names: \", class_names)"
   ]
  },
  {
   "cell_type": "code",
   "execution_count": 3,
   "metadata": {},
   "outputs": [],
   "source": [
    "def dataset_tranforms(image,label):\n",
    "    image = tf.io.parse_tensor(image, tf.float32)\n",
    "    #image = torch.load(io.BytesIO(image.numpy()))\n",
    "    image = tf.expand_dims(image, -1)\n",
    "    image = tf.repeat(image, 3, 2)\n",
    "    # label = tf.cast(label, tf.int64)\n",
    "   \n",
    "    #print(\"shape is \", label.shape)\n",
    "    #print(\"image is \", image.shape)\n",
    "   \n",
    "    #assert label.shape == (5,) \n",
    "    #assert image.shape == (313, 128, 3)\n",
    "    \n",
    "    return image,label\n",
    "\n",
    "#py_func_wrapper = lambda x,y: tf.py_function(func=dataset_tranforms, inp=[x,y], Tout=[tf.float32,tf.float32])\n",
    "\n",
    "train_dataset_b = ( \n",
    "                  train_dataset\n",
    "                  .shuffle(20000)\n",
    "                  .map(dataset_tranforms)\n",
    "                  .batch(baseline_config.batch_size)\n",
    "                  .repeat()            \n",
    "                )\n",
    "\n",
    "validation_dataset_b = ( \n",
    "                  validation_dataset\n",
    "                  .map(dataset_tranforms)\n",
    "                  .batch(baseline_config.batch_size)\n",
    "                )\n",
    "\n",
    "test_dataset_b = ( \n",
    "                  test_dataset\n",
    "                  .map(dataset_tranforms)\n",
    "                  .batch(baseline_config.batch_size)\n",
    "                )"
   ]
  },
  {
   "cell_type": "code",
   "execution_count": 4,
   "metadata": {},
   "outputs": [
    {
     "name": "stdout",
     "output_type": "stream",
     "text": [
      "(16, 313, 128, 3) (16, 5)\n"
     ]
    }
   ],
   "source": [
    "for item,lbl in train_dataset_b.take(1):\n",
    "    print(item.shape, lbl.shape)"
   ]
  },
  {
   "cell_type": "code",
   "execution_count": 5,
   "metadata": {},
   "outputs": [
    {
     "name": "stdout",
     "output_type": "stream",
     "text": [
      "WARNING:tensorflow:Please fix your imports. Module tensorflow.python.training.tracking.data_structures has been moved to tensorflow.python.trackable.data_structures. The old module will be deleted in version 2.11.\n",
      "Model: \"sequential\"\n",
      "_________________________________________________________________\n",
      " Layer (type)                Output Shape              Param #   \n",
      "=================================================================\n",
      " resizing (Resizing)         (None, 384, 384, 3)       0         \n",
      "                                                                 \n",
      " keras_layer (KerasLayer)    (None, 1280)              20331360  \n",
      "                                                                 \n",
      " flatten (Flatten)           (None, 1280)              0         \n",
      "                                                                 \n",
      " dense (Dense)               (None, 256)               327936    \n",
      "                                                                 \n",
      " dropout (Dropout)           (None, 256)               0         \n",
      "                                                                 \n",
      " dense_1 (Dense)             (None, 5)                 1285      \n",
      "                                                                 \n",
      "=================================================================\n",
      "Total params: 20,660,581\n",
      "Trainable params: 20,506,709\n",
      "Non-trainable params: 153,872\n",
      "_________________________________________________________________\n"
     ]
    }
   ],
   "source": [
    "# build a really simple classification model using a pre-training Efficientnet V2\n",
    "model = keras.Sequential(\n",
    "    [\n",
    "        # use the model as a feature generator only\n",
    "        # need to resize here, as the efficientnet_v2_imagenet1k_b3 model requires 260x260 input\n",
    "        #tf.keras.layers.Resizing(260, 260, interpolation=\"bilinear\", crop_to_aspect_ratio=False),\n",
    "        #hub.KerasLayer(\"https://tfhub.dev/google/imagenet/efficientnet_v2_imagenet1k_b3/feature_vector/2\", False),\n",
    "        \n",
    "        # use the model as a feature generator only\n",
    "        # need to resize here, as the efficientnet_v2_imagenet21k_s model expects it\n",
    "        tf.keras.layers.InputLayer(input_shape=(313,128,3)),\n",
    "        tf.keras.layers.Resizing(384, 384, interpolation=\"lanczos5\", crop_to_aspect_ratio=False),\n",
    "        hub.KerasLayer(\"https://tfhub.dev/google/imagenet/efficientnet_v2_imagenet21k_s/feature_vector/2\", True),        \n",
    "\n",
    "        # add the classification layer here       \n",
    "        layers.Flatten(),\n",
    "        layers.Dense(256, activation=\"relu\"),\n",
    "        layers.Dropout(0.50),\n",
    "        layers.Dense(len(class_names), activation=None),\n",
    "    ]\n",
    ")\n",
    "# need to tell the model what the input shape is\n",
    "model.build([None, 313, 128, 3])\n",
    "\n",
    "# show the model\n",
    "model.summary()"
   ]
  },
  {
   "cell_type": "code",
   "execution_count": 6,
   "metadata": {},
   "outputs": [
    {
     "name": "stdout",
     "output_type": "stream",
     "text": [
      "Epoch 1/100000\n",
      "target shape (None, 5)\n",
      "output shape (None, 5)\n",
      "target shape (None, 5)\n",
      "output shape (None, 5)\n",
      "50/50 [==============================] - ETA: 0s - loss: 1.5809 - accuracy: 0.3613target shape (None, 5)\n",
      "output shape (None, 5)\n",
      "\n",
      "Epoch 1: val_loss improved from inf to 1.07985, saving model to checkpoints\\\n",
      "50/50 [==============================] - 57s 689ms/step - loss: 1.5809 - accuracy: 0.3613 - val_loss: 1.0799 - val_accuracy: 0.6042\n",
      "Epoch 2/100000\n",
      "50/50 [==============================] - ETA: 0s - loss: 1.2137 - accuracy: 0.5250\n",
      "Epoch 2: val_loss improved from 1.07985 to 0.83380, saving model to checkpoints\\\n",
      "50/50 [==============================] - 33s 651ms/step - loss: 1.2137 - accuracy: 0.5250 - val_loss: 0.8338 - val_accuracy: 0.6875\n",
      "Epoch 3/100000\n",
      "50/50 [==============================] - ETA: 0s - loss: 1.0345 - accuracy: 0.6250\n",
      "Epoch 3: val_loss improved from 0.83380 to 0.72154, saving model to checkpoints\\\n",
      "50/50 [==============================] - 33s 665ms/step - loss: 1.0345 - accuracy: 0.6250 - val_loss: 0.7215 - val_accuracy: 0.7370\n",
      "Epoch 4/100000\n",
      "50/50 [==============================] - ETA: 0s - loss: 0.9162 - accuracy: 0.6712\n",
      "Epoch 4: val_loss improved from 0.72154 to 0.58498, saving model to checkpoints\\\n",
      "50/50 [==============================] - 33s 656ms/step - loss: 0.9162 - accuracy: 0.6712 - val_loss: 0.5850 - val_accuracy: 0.8177\n",
      "Epoch 5/100000\n",
      "50/50 [==============================] - ETA: 0s - loss: 0.7710 - accuracy: 0.7100\n",
      "Epoch 5: val_loss improved from 0.58498 to 0.47766, saving model to checkpoints\\\n",
      "50/50 [==============================] - 34s 671ms/step - loss: 0.7710 - accuracy: 0.7100 - val_loss: 0.4777 - val_accuracy: 0.8516\n",
      "Epoch 6/100000\n",
      "50/50 [==============================] - ETA: 0s - loss: 0.6786 - accuracy: 0.7475\n",
      "Epoch 6: val_loss did not improve from 0.47766\n",
      "50/50 [==============================] - 31s 615ms/step - loss: 0.6786 - accuracy: 0.7475 - val_loss: 0.5168 - val_accuracy: 0.8229\n",
      "Epoch 7/100000\n",
      "50/50 [==============================] - ETA: 0s - loss: 0.5991 - accuracy: 0.7950\n",
      "Epoch 7: val_loss did not improve from 0.47766\n",
      "50/50 [==============================] - 30s 611ms/step - loss: 0.5991 - accuracy: 0.7950 - val_loss: 0.5112 - val_accuracy: 0.8125\n",
      "Epoch 8/100000\n",
      "39/50 [======================>.......] - ETA: 5s - loss: 0.5556 - accuracy: 0.8045"
     ]
    }
   ],
   "source": [
    "# the form_logits means the loss function has the 'softmax' buillt in.  This approach is numerically more stable\n",
    "# than including the softmax activation on the last layer of the classifier\n",
    "model.compile(loss=tf.keras.losses.CategoricalCrossentropy(from_logits=True), \n",
    "              optimizer=tf.keras.optimizers.Adam(learning_rate=baseline_config.learning_rate), \n",
    "              metrics=[\"accuracy\"],\n",
    "              )\n",
    "\n",
    "model_checkpoint_callback = tf.keras.callbacks.ModelCheckpoint(\n",
    "    filepath='checkpoints/',\n",
    "    save_weights_only=True,\n",
    "    monitor='val_loss',\n",
    "    mode='min',\n",
    "    verbose=1,\n",
    "    save_best_only=True)\n",
    "\n",
    "model.fit(train_dataset_b, \n",
    "          validation_data=validation_dataset_b,\n",
    "          steps_per_epoch=50,\n",
    "          callbacks=[model_checkpoint_callback],\n",
    "          epochs=baseline_config.max_epoch)"
   ]
  },
  {
   "cell_type": "code",
   "execution_count": null,
   "metadata": {},
   "outputs": [],
   "source": []
  }
 ],
 "metadata": {
  "kernelspec": {
   "display_name": "Python 3.9.15 ('dev')",
   "language": "python",
   "name": "python3"
  },
  "language_info": {
   "codemirror_mode": {
    "name": "ipython",
    "version": 3
   },
   "file_extension": ".py",
   "mimetype": "text/x-python",
   "name": "python",
   "nbconvert_exporter": "python",
   "pygments_lexer": "ipython3",
   "version": "3.9.15"
  },
  "orig_nbformat": 4,
  "vscode": {
   "interpreter": {
    "hash": "2848388c1d7df64c5912f8c74b12cb2f63a5fbb869f66edadd9f1eda580b6df3"
   }
  }
 },
 "nbformat": 4,
 "nbformat_minor": 2
}
