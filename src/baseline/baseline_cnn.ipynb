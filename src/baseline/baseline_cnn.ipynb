{
 "cells": [
  {
   "cell_type": "code",
   "execution_count": 1,
   "metadata": {},
   "outputs": [],
   "source": [
    "# disable warnings\n",
    "import warnings\n",
    "warnings.filterwarnings(\"ignore\")\n",
    "\n",
    "# basic imports\n",
    "import tensorflow as tf \n",
    "import torch\n",
    "import io\n",
    "import numpy as np\n",
    "import tensorflow_hub as hub\n",
    "from tensorflow import keras\n",
    "from tensorflow.keras import layers\n",
    "\n",
    "from keras.utils import dataset_utils\n",
    "import matplotlib.pyplot as plt\n",
    "\n",
    "import baseline_config"
   ]
  },
  {
   "cell_type": "code",
   "execution_count": 2,
   "metadata": {},
   "outputs": [
    {
     "name": "stdout",
     "output_type": "stream",
     "text": [
      "Found 12384 files belonging to 5 classes.\n",
      "Found 487 files belonging to 5 classes.\n",
      "Found 384 files belonging to 5 classes.\n",
      "class names:  ['brant', 'jabwar', 'sheowl', 'spodov', 'wiltur']\n"
     ]
    }
   ],
   "source": [
    "def paths_and_labels_to_dataset(image_paths,labels,num_classes):\n",
    "    path_ds = tf.data.Dataset.from_tensor_slices(image_paths)\n",
    "    img_ds = path_ds.map(\n",
    "        lambda path: tf.io.read_file(path), \n",
    "        num_parallel_calls=tf.data.AUTOTUNE\n",
    "    )\n",
    "    label_ds = dataset_utils.labels_to_dataset(\n",
    "        labels, \n",
    "        'categorical', \n",
    "        num_classes)\n",
    "    img_ds = tf.data.Dataset.zip((img_ds, label_ds))\n",
    "    return img_ds\n",
    "\n",
    "def create_dataset(subset):\n",
    "    image_paths, labels, class_names = dataset_utils.index_directory(\n",
    "            baseline_config.dataset_path + subset,\n",
    "            labels=\"inferred\",\n",
    "            formats=('.pt'),\n",
    "            class_names=None,\n",
    "            shuffle=False,\n",
    "            seed=42,\n",
    "            follow_links=False)\n",
    "\n",
    "    dataset = paths_and_labels_to_dataset(\n",
    "        image_paths=image_paths,\n",
    "        labels=labels,\n",
    "        num_classes=len(class_names))\n",
    "    \n",
    "    return dataset, class_names\n",
    "\n",
    "train_dataset, class_names = create_dataset('TRAIN/')\n",
    "test_dataset, _            = create_dataset('TEST/')\n",
    "validation_dataset, _      = create_dataset('VALIDATION/')\n",
    "print(\"class names: \", class_names)"
   ]
  },
  {
   "cell_type": "code",
   "execution_count": 3,
   "metadata": {},
   "outputs": [],
   "source": [
    "def dataset_tranforms(image,label):\n",
    "    image = tf.io.parse_tensor(image, tf.float32)\n",
    "    #image = torch.load(io.BytesIO(image.numpy()))\n",
    "    image = tf.expand_dims(image, -1)\n",
    "    image = tf.repeat(image, 3, 2)\n",
    "    # label = tf.cast(label, tf.int64)\n",
    "   \n",
    "    #print(\"shape is \", label.shape)\n",
    "    #print(\"image is \", image.shape)\n",
    "   \n",
    "    #assert label.shape == (5,) \n",
    "    #assert image.shape == (313, 128, 3)\n",
    "    \n",
    "    return image,label\n",
    "\n",
    "#py_func_wrapper = lambda x,y: tf.py_function(func=dataset_tranforms, inp=[x,y], Tout=[tf.float32,tf.float32])\n",
    "\n",
    "train_dataset_b = ( \n",
    "                  train_dataset\n",
    "                  .shuffle(20000)\n",
    "                  .map(dataset_tranforms)\n",
    "                  .batch(baseline_config.batch_size)\n",
    "                  .repeat()            \n",
    "                )\n",
    "\n",
    "validation_dataset_b = ( \n",
    "                  validation_dataset\n",
    "                  .map(dataset_tranforms)\n",
    "                  .batch(baseline_config.batch_size)\n",
    "                )\n",
    "\n",
    "test_dataset_b = ( \n",
    "                  test_dataset\n",
    "                  .map(dataset_tranforms)\n",
    "                  .batch(baseline_config.batch_size)\n",
    "                )"
   ]
  },
  {
   "cell_type": "code",
   "execution_count": 4,
   "metadata": {},
   "outputs": [
    {
     "name": "stdout",
     "output_type": "stream",
     "text": [
      "(16, 313, 128, 3) (16, 5)\n"
     ]
    }
   ],
   "source": [
    "for item,lbl in train_dataset_b.take(1):\n",
    "    print(item.shape, lbl.shape)"
   ]
  },
  {
   "cell_type": "code",
   "execution_count": 8,
   "metadata": {},
   "outputs": [
    {
     "name": "stdout",
     "output_type": "stream",
     "text": [
      "Model: \"sequential_1\"\n",
      "_________________________________________________________________\n",
      " Layer (type)                Output Shape              Param #   \n",
      "=================================================================\n",
      " resizing_1 (Resizing)       (None, 384, 384, 3)       0         \n",
      "                                                                 \n",
      " keras_layer_1 (KerasLayer)  (None, 1280)              20331360  \n",
      "                                                                 \n",
      " flatten_1 (Flatten)         (None, 1280)              0         \n",
      "                                                                 \n",
      " dense_2 (Dense)             (None, 256)               327936    \n",
      "                                                                 \n",
      " dropout_1 (Dropout)         (None, 256)               0         \n",
      "                                                                 \n",
      " dense_3 (Dense)             (None, 5)                 1285      \n",
      "                                                                 \n",
      "=================================================================\n",
      "Total params: 20,660,581\n",
      "Trainable params: 329,221\n",
      "Non-trainable params: 20,331,360\n",
      "_________________________________________________________________\n"
     ]
    }
   ],
   "source": [
    "# build a really simple classification model using a pre-training Efficientnet V2\n",
    "model = keras.Sequential(\n",
    "    [\n",
    "        # use the model as a feature generator only\n",
    "        # need to resize here, as the efficientnet_v2_imagenet1k_b3 model requires 260x260 input\n",
    "        #tf.keras.layers.Resizing(260, 260, interpolation=\"bilinear\", crop_to_aspect_ratio=False),\n",
    "        #hub.KerasLayer(\"https://tfhub.dev/google/imagenet/efficientnet_v2_imagenet1k_b3/feature_vector/2\", False),\n",
    "        \n",
    "        # use the model as a feature generator only\n",
    "        # need to resize here, as the efficientnet_v2_imagenet21k_s model expects it\n",
    "        tf.keras.layers.InputLayer(input_shape=(313,128,3)),\n",
    "        tf.keras.layers.Resizing(384, 384, interpolation=\"bilinear\", crop_to_aspect_ratio=False),\n",
    "        hub.KerasLayer(\"https://tfhub.dev/google/imagenet/efficientnet_v2_imagenet21k_s/feature_vector/2\", False),        \n",
    "\n",
    "        # add the classification layer here       \n",
    "        layers.Flatten(),\n",
    "        layers.Dense(256, activation=\"relu\"),\n",
    "        layers.Dropout(0.70),\n",
    "        layers.Dense(len(class_names), activation=None),\n",
    "    ]\n",
    ")\n",
    "# need to tell the model what the input shape is\n",
    "model.build([None, 313, 128, 3])\n",
    "\n",
    "# show the model\n",
    "model.summary()"
   ]
  },
  {
   "cell_type": "code",
   "execution_count": 9,
   "metadata": {},
   "outputs": [
    {
     "name": "stdout",
     "output_type": "stream",
     "text": [
      "Epoch 1/100000\n",
      "target shape (None, 5)\n",
      "output shape (None, 5)\n",
      "target shape (None, 5)\n",
      "output shape (None, 5)\n",
      "50/50 [==============================] - ETA: 0s - loss: 5.3990 - accuracy: 0.2037target shape (None, 5)\n",
      "output shape (None, 5)\n",
      "\n",
      "Epoch 1: val_loss improved from inf to 2.57007, saving model to checkpoints\\\n",
      "50/50 [==============================] - 52s 227ms/step - loss: 5.3990 - accuracy: 0.2037 - val_loss: 2.5701 - val_accuracy: 0.3255\n",
      "Epoch 2/100000\n",
      "50/50 [==============================] - ETA: 0s - loss: 4.2847 - accuracy: 0.2887\n",
      "Epoch 2: val_loss improved from 2.57007 to 2.41853, saving model to checkpoints\\\n",
      "50/50 [==============================] - 9s 187ms/step - loss: 4.2847 - accuracy: 0.2887 - val_loss: 2.4185 - val_accuracy: 0.3490\n",
      "Epoch 3/100000\n",
      "50/50 [==============================] - ETA: 0s - loss: 2.8342 - accuracy: 0.3063\n",
      "Epoch 3: val_loss improved from 2.41853 to 2.33765, saving model to checkpoints\\\n",
      "50/50 [==============================] - 7s 131ms/step - loss: 2.8342 - accuracy: 0.3063 - val_loss: 2.3377 - val_accuracy: 0.4089\n",
      "Epoch 4/100000\n",
      "50/50 [==============================] - ETA: 0s - loss: 2.8934 - accuracy: 0.3150\n",
      "Epoch 4: val_loss did not improve from 2.33765\n",
      "50/50 [==============================] - 8s 171ms/step - loss: 2.8934 - accuracy: 0.3150 - val_loss: 2.6312 - val_accuracy: 0.4453\n",
      "Epoch 5/100000\n",
      "50/50 [==============================] - ETA: 0s - loss: 2.4980 - accuracy: 0.3700\n",
      "Epoch 5: val_loss did not improve from 2.33765\n",
      "50/50 [==============================] - 9s 171ms/step - loss: 2.4980 - accuracy: 0.3700 - val_loss: 2.3999 - val_accuracy: 0.4688\n",
      "Epoch 6/100000\n",
      "50/50 [==============================] - ETA: 0s - loss: 1.8200 - accuracy: 0.3862\n",
      "Epoch 6: val_loss improved from 2.33765 to 2.17446, saving model to checkpoints\\\n",
      "50/50 [==============================] - 10s 204ms/step - loss: 1.8200 - accuracy: 0.3862 - val_loss: 2.1745 - val_accuracy: 0.4453\n",
      "Epoch 7/100000\n",
      "50/50 [==============================] - ETA: 0s - loss: 2.1027 - accuracy: 0.3812\n",
      "Epoch 7: val_loss improved from 2.17446 to 2.13894, saving model to checkpoints\\\n",
      "50/50 [==============================] - 10s 206ms/step - loss: 2.1027 - accuracy: 0.3812 - val_loss: 2.1389 - val_accuracy: 0.5234\n",
      "Epoch 8/100000\n",
      "50/50 [==============================] - ETA: 0s - loss: 2.3379 - accuracy: 0.3663\n",
      "Epoch 8: val_loss improved from 2.13894 to 1.91716, saving model to checkpoints\\\n",
      "50/50 [==============================] - 10s 198ms/step - loss: 2.3379 - accuracy: 0.3663 - val_loss: 1.9172 - val_accuracy: 0.5026\n",
      "Epoch 9/100000\n",
      "50/50 [==============================] - ETA: 0s - loss: 1.8580 - accuracy: 0.4238\n",
      "Epoch 9: val_loss improved from 1.91716 to 1.85306, saving model to checkpoints\\\n",
      "50/50 [==============================] - 10s 210ms/step - loss: 1.8580 - accuracy: 0.4238 - val_loss: 1.8531 - val_accuracy: 0.5000\n",
      "Epoch 10/100000\n",
      "50/50 [==============================] - ETA: 0s - loss: 2.2285 - accuracy: 0.4300\n",
      "Epoch 10: val_loss did not improve from 1.85306\n",
      "50/50 [==============================] - 9s 180ms/step - loss: 2.2285 - accuracy: 0.4300 - val_loss: 1.8649 - val_accuracy: 0.5104\n",
      "Epoch 11/100000\n",
      "50/50 [==============================] - ETA: 0s - loss: 1.8052 - accuracy: 0.4137\n",
      "Epoch 11: val_loss did not improve from 1.85306\n",
      "50/50 [==============================] - 9s 185ms/step - loss: 1.8052 - accuracy: 0.4137 - val_loss: 1.9616 - val_accuracy: 0.4974\n",
      "Epoch 12/100000\n",
      "50/50 [==============================] - ETA: 0s - loss: 1.7033 - accuracy: 0.4363\n",
      "Epoch 12: val_loss improved from 1.85306 to 1.83720, saving model to checkpoints\\\n",
      "50/50 [==============================] - 10s 200ms/step - loss: 1.7033 - accuracy: 0.4363 - val_loss: 1.8372 - val_accuracy: 0.5208\n",
      "Epoch 13/100000\n",
      "41/50 [=======================>......] - ETA: 1s - loss: 2.0073 - accuracy: 0.4345"
     ]
    }
   ],
   "source": [
    "# the form_logits means the loss function has the 'softmax' buillt in.  This approach is numerically more stable\n",
    "# than including the softmax activation on the last layer of the classifier\n",
    "model.compile(loss=tf.keras.losses.CategoricalCrossentropy(from_logits=True), \n",
    "              optimizer=tf.keras.optimizers.Adam(learning_rate=baseline_config.learning_rate), \n",
    "              metrics=[\"accuracy\"],\n",
    "              )\n",
    "\n",
    "model_checkpoint_callback = tf.keras.callbacks.ModelCheckpoint(\n",
    "    filepath='checkpoints/',\n",
    "    save_weights_only=True,\n",
    "    monitor='val_loss',\n",
    "    mode='min',\n",
    "    verbose=1,\n",
    "    save_best_only=True)\n",
    "\n",
    "model.fit(train_dataset_b, \n",
    "          validation_data=validation_dataset_b,\n",
    "          steps_per_epoch=50,\n",
    "          callbacks=[model_checkpoint_callback],\n",
    "          epochs=baseline_config.max_epoch)"
   ]
  },
  {
   "cell_type": "code",
   "execution_count": null,
   "metadata": {},
   "outputs": [],
   "source": []
  }
 ],
 "metadata": {
  "kernelspec": {
   "display_name": "Python 3.9.15 ('dev')",
   "language": "python",
   "name": "python3"
  },
  "language_info": {
   "codemirror_mode": {
    "name": "ipython",
    "version": 3
   },
   "file_extension": ".py",
   "mimetype": "text/x-python",
   "name": "python",
   "nbconvert_exporter": "python",
   "pygments_lexer": "ipython3",
   "version": "3.9.15"
  },
  "orig_nbformat": 4,
  "vscode": {
   "interpreter": {
    "hash": "2848388c1d7df64c5912f8c74b12cb2f63a5fbb869f66edadd9f1eda580b6df3"
   }
  }
 },
 "nbformat": 4,
 "nbformat_minor": 2
}
