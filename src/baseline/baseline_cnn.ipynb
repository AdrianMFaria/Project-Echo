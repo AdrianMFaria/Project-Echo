{
 "cells": [
  {
   "cell_type": "code",
   "execution_count": 1,
   "metadata": {},
   "outputs": [],
   "source": [
    "# disable warnings\n",
    "import warnings\n",
    "warnings.filterwarnings(\"ignore\")\n",
    "\n",
    "# basic imports\n",
    "import tensorflow as tf \n",
    "import torch\n",
    "import io\n",
    "import numpy as np\n",
    "import datetime\n",
    "import tensorflow_hub as hub\n",
    "from tensorflow import keras\n",
    "from tensorflow.keras import layers\n",
    "\n",
    "from keras.utils import dataset_utils\n",
    "import matplotlib.pyplot as plt\n",
    "\n",
    "import baseline_config"
   ]
  },
  {
   "cell_type": "code",
   "execution_count": 2,
   "metadata": {},
   "outputs": [
    {
     "name": "stdout",
     "output_type": "stream",
     "text": [
      "Found 12384 files belonging to 5 classes.\n",
      "Found 487 files belonging to 5 classes.\n",
      "Found 384 files belonging to 5 classes.\n",
      "class names:  ['brant', 'jabwar', 'sheowl', 'spodov', 'wiltur']\n"
     ]
    }
   ],
   "source": [
    "def paths_and_labels_to_dataset(image_paths,labels,num_classes):\n",
    "    path_ds = tf.data.Dataset.from_tensor_slices(image_paths)\n",
    "    img_ds = path_ds.map(\n",
    "        lambda path: tf.io.read_file(path), \n",
    "        num_parallel_calls=tf.data.AUTOTUNE\n",
    "    )\n",
    "    label_ds = dataset_utils.labels_to_dataset(\n",
    "        labels, \n",
    "        'categorical', \n",
    "        num_classes)\n",
    "    img_ds = tf.data.Dataset.zip((img_ds, label_ds))\n",
    "    return img_ds\n",
    "\n",
    "def create_dataset(subset):\n",
    "    image_paths, labels, class_names = dataset_utils.index_directory(\n",
    "            baseline_config.dataset_path + subset,\n",
    "            labels=\"inferred\",\n",
    "            formats=('.pt'),\n",
    "            class_names=None,\n",
    "            shuffle=False,\n",
    "            seed=42,\n",
    "            follow_links=False)\n",
    "\n",
    "    dataset = paths_and_labels_to_dataset(\n",
    "        image_paths=image_paths,\n",
    "        labels=labels,\n",
    "        num_classes=len(class_names))\n",
    "    \n",
    "    return dataset, class_names\n",
    "\n",
    "train_dataset, class_names = create_dataset('TRAIN/')\n",
    "test_dataset, _            = create_dataset('TEST/')\n",
    "validation_dataset, _      = create_dataset('VALIDATION/')\n",
    "print(\"class names: \", class_names)"
   ]
  },
  {
   "cell_type": "code",
   "execution_count": 3,
   "metadata": {},
   "outputs": [],
   "source": [
    "def dataset_transforms(image,label):\n",
    "  \n",
    "    # reshape into standard 3 channels\n",
    "    image = tf.io.parse_tensor(image, tf.float32)\n",
    "    image = tf.expand_dims(image, -1)\n",
    "    image = tf.repeat(image, 3, 2)\n",
    "    \n",
    "    # rescale to range [0,1]\n",
    "    image = image / tf.reduce_max(image)\n",
    "    \n",
    "    return image,label\n",
    "\n",
    "train_dataset_b = ( \n",
    "                  train_dataset\n",
    "                  .cache()\n",
    "                  .shuffle(20000)\n",
    "                  .map(dataset_transforms)\n",
    "                  .batch(baseline_config.batch_size)\n",
    "                  .repeat()            \n",
    "                )\n",
    "\n",
    "validation_dataset_b = ( \n",
    "                  validation_dataset\n",
    "                  .map(dataset_transforms)\n",
    "                  .batch(baseline_config.batch_size)\n",
    "                  .cache()\n",
    "                )\n",
    "\n",
    "test_dataset_b = ( \n",
    "                  test_dataset\n",
    "                  .map(dataset_transforms)\n",
    "                  .batch(baseline_config.batch_size)\n",
    "                  .cache()\n",
    "                )"
   ]
  },
  {
   "cell_type": "code",
   "execution_count": 4,
   "metadata": {},
   "outputs": [
    {
     "name": "stdout",
     "output_type": "stream",
     "text": [
      "(32, 313, 128, 3) (32, 5)\n",
      "0.0 1.0\n"
     ]
    }
   ],
   "source": [
    "for item,lbl in train_dataset_b.take(1):\n",
    "    print(item.shape, lbl.shape)\n",
    "    print(np.min(item), np.max(item))"
   ]
  },
  {
   "cell_type": "code",
   "execution_count": 5,
   "metadata": {},
   "outputs": [],
   "source": [
    "def build_model(trainable):\n",
    "    # build a really simple classification model using a pre-training Efficientnet V2\n",
    "    model = keras.Sequential(\n",
    "        [\n",
    "            # use the model as a feature generator only\n",
    "            # need to resize here, as the efficientnet_v2_imagenet21k_s model expects it\n",
    "            tf.keras.layers.InputLayer(input_shape=(313,128,3)),\n",
    "            tf.keras.layers.Resizing(224, 224, interpolation=\"lanczos5\", crop_to_aspect_ratio=False),\n",
    "            \n",
    "            # use pre-trained mobilenet v2 as the feature layer (less parameters, more accessible)\n",
    "            # hub.KerasLayer(\"https://tfhub.dev/google/tf2-preview/mobilenet_v2/feature_vector/4\", trainable),  \n",
    "            \n",
    "            hub.KerasLayer(\"https://tfhub.dev/google/imagenet/resnet_v2_152/feature_vector/5\", trainable),  \n",
    "                  \n",
    "            # add the classification layer here       \n",
    "            layers.Flatten(),\n",
    "            layers.Dense(128, activation=\"relu\", kernel_regularizer=keras.regularizers.L1L2(l1=1e-3, l2=1e-5)),\n",
    "            layers.Dense(64, activation=\"relu\", kernel_regularizer=keras.regularizers.L1L2(l1=1e-3, l2=1e-5)),\n",
    "            layers.Dense(32, activation=\"relu\", kernel_regularizer=keras.regularizers.L1L2(l1=1e-3, l2=1e-5)),\n",
    "            layers.Dropout(0.50),\n",
    "            layers.Dense(len(class_names), activation=None),\n",
    "        ]\n",
    "    )\n",
    "    # need to tell the model what the input shape is\n",
    "    model.build([None, 313, 128, 3])\n",
    "\n",
    "    # show the model\n",
    "    model.summary()\n",
    "    \n",
    "    return model"
   ]
  },
  {
   "cell_type": "code",
   "execution_count": 6,
   "metadata": {},
   "outputs": [
    {
     "name": "stdout",
     "output_type": "stream",
     "text": [
      "WARNING:tensorflow:Please fix your imports. Module tensorflow.python.training.tracking.data_structures has been moved to tensorflow.python.trackable.data_structures. The old module will be deleted in version 2.11.\n",
      "Model: \"sequential\"\n",
      "_________________________________________________________________\n",
      " Layer (type)                Output Shape              Param #   \n",
      "=================================================================\n",
      " resizing (Resizing)         (None, 224, 224, 3)       0         \n",
      "                                                                 \n",
      " keras_layer (KerasLayer)    (None, 2048)              58331648  \n",
      "                                                                 \n",
      " flatten (Flatten)           (None, 2048)              0         \n",
      "                                                                 \n",
      " dense (Dense)               (None, 128)               262272    \n",
      "                                                                 \n",
      " dense_1 (Dense)             (None, 64)                8256      \n",
      "                                                                 \n",
      " dense_2 (Dense)             (None, 32)                2080      \n",
      "                                                                 \n",
      " dropout (Dropout)           (None, 32)                0         \n",
      "                                                                 \n",
      " dense_3 (Dense)             (None, 5)                 165       \n",
      "                                                                 \n",
      "=================================================================\n",
      "Total params: 58,604,421\n",
      "Trainable params: 58,460,677\n",
      "Non-trainable params: 143,744\n",
      "_________________________________________________________________\n",
      "Epoch 1/10000\n",
      "50/50 [==============================] - 78s 887ms/step - loss: 8.8963 - accuracy: 0.4437 - val_loss: 8.6658 - val_accuracy: 0.4792 - lr: 2.0000e-04\n",
      "Epoch 2/10000\n",
      "50/50 [==============================] - 41s 828ms/step - loss: 7.5194 - accuracy: 0.6369 - val_loss: 7.9269 - val_accuracy: 0.6224 - lr: 2.0000e-04\n",
      "Epoch 3/10000\n",
      "50/50 [==============================] - 40s 801ms/step - loss: 6.2886 - accuracy: 0.7019 - val_loss: 8.6318 - val_accuracy: 0.4792 - lr: 2.0000e-04\n",
      "Epoch 4/10000\n",
      "50/50 [==============================] - 42s 831ms/step - loss: 5.2633 - accuracy: 0.7431 - val_loss: 7.3469 - val_accuracy: 0.5677 - lr: 2.0000e-04\n",
      "Epoch 5/10000\n",
      "50/50 [==============================] - 42s 833ms/step - loss: 4.4460 - accuracy: 0.7631 - val_loss: 5.9414 - val_accuracy: 0.6146 - lr: 2.0000e-04\n",
      "Epoch 6/10000\n",
      "50/50 [==============================] - 42s 832ms/step - loss: 3.7085 - accuracy: 0.8144 - val_loss: 4.4942 - val_accuracy: 0.7161 - lr: 2.0000e-04\n",
      "Epoch 7/10000\n",
      "50/50 [==============================] - 42s 834ms/step - loss: 3.1487 - accuracy: 0.8319 - val_loss: 3.5687 - val_accuracy: 0.7292 - lr: 2.0000e-04\n",
      "Epoch 8/10000\n",
      "50/50 [==============================] - 40s 800ms/step - loss: 2.7749 - accuracy: 0.8438 - val_loss: 7.3674 - val_accuracy: 0.4896 - lr: 2.0000e-04\n",
      "Epoch 9/10000\n",
      "47/50 [===========================>..] - ETA: 1s - loss: 2.3533 - accuracy: 0.8770"
     ]
    }
   ],
   "source": [
    "# allow all the weights to be trained\n",
    "model = build_model(True)\n",
    "\n",
    "# the form_logits means the loss function has the 'softmax' buillt in.  This approach is numerically more stable\n",
    "# than including the softmax activation on the last layer of the classifier\n",
    "model.compile(loss=tf.keras.losses.CategoricalCrossentropy(from_logits=True), \n",
    "              optimizer=tf.keras.optimizers.Adam(learning_rate=2e-4), \n",
    "              metrics=[\"accuracy\"],\n",
    "              )\n",
    "\n",
    "# tensorboard for visualisation of results\n",
    "log_dir = \"logs/\" + datetime.datetime.now().strftime(\"%Y%m%d-%H%M%S\")\n",
    "tensorboard_callback = tf.keras.callbacks.TensorBoard(log_dir=log_dir, histogram_freq=1)\n",
    "\n",
    "# reduce learning rate to avoid overshooting local minima\n",
    "lr_reduce_plateau = keras.callbacks.ReduceLROnPlateau(monitor='val_loss', factor=0.1,\n",
    "                                                      patience=4, verbose=1, mode='min',\n",
    "                                                      cooldown=0, min_lr=1e-8)\n",
    "\n",
    "# save the best model as it trains..\n",
    "mcp_save = keras.callbacks.ModelCheckpoint('models/model_wts.hdf5', save_best_only=True, monitor='val_loss', mode='min')\n",
    "\n",
    "# fit the model to the training set\n",
    "model.fit(train_dataset_b, \n",
    "          validation_data=validation_dataset_b,\n",
    "          steps_per_epoch=50,\n",
    "          callbacks=[lr_reduce_plateau, tensorboard_callback, mcp_save],\n",
    "          epochs=10000)"
   ]
  }
 ],
 "metadata": {
  "kernelspec": {
   "display_name": "Python 3.9.15 ('dev')",
   "language": "python",
   "name": "python3"
  },
  "language_info": {
   "codemirror_mode": {
    "name": "ipython",
    "version": 3
   },
   "file_extension": ".py",
   "mimetype": "text/x-python",
   "name": "python",
   "nbconvert_exporter": "python",
   "pygments_lexer": "ipython3",
   "version": "3.9.15"
  },
  "orig_nbformat": 4,
  "vscode": {
   "interpreter": {
    "hash": "2848388c1d7df64c5912f8c74b12cb2f63a5fbb869f66edadd9f1eda580b6df3"
   }
  }
 },
 "nbformat": 4,
 "nbformat_minor": 2
}
