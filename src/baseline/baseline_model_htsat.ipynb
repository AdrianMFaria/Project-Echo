{
 "cells": [
  {
   "cell_type": "code",
   "execution_count": 4,
   "metadata": {},
   "outputs": [
    {
     "name": "stdout",
     "output_type": "stream",
     "text": [
      "Python Version     :  3.9.13\n"
     ]
    }
   ],
   "source": [
    "import sys  \n",
    "import os\n",
    "\n",
    "# some basic libraries \n",
    "from platform import python_version\n",
    "\n",
    "import htsat_config\n",
    "from htsat import HTSAT_Swin_Transformer \n",
    "\n",
    "# print system information\n",
    "print('Python Version     : ', python_version())"
   ]
  },
  {
   "cell_type": "code",
   "execution_count": 5,
   "metadata": {},
   "outputs": [],
   "source": [
    "# TODO - data pipeline in pytorch lightening"
   ]
  },
  {
   "cell_type": "code",
   "execution_count": 6,
   "metadata": {},
   "outputs": [
    {
     "ename": "AttributeError",
     "evalue": "module 'htsat_config' has no attribute 'mel_bins'",
     "output_type": "error",
     "traceback": [
      "\u001b[1;31m---------------------------------------------------------------------------\u001b[0m",
      "\u001b[1;31mAttributeError\u001b[0m                            Traceback (most recent call last)",
      "Cell \u001b[1;32mIn [6], line 2\u001b[0m\n\u001b[0;32m      1\u001b[0m \u001b[39m# Create an instance of the HTSAT model\u001b[39;00m\n\u001b[1;32m----> 2\u001b[0m model \u001b[39m=\u001b[39m HTSAT_Swin_Transformer(\n\u001b[0;32m      3\u001b[0m     spec_size\u001b[39m=\u001b[39;49mhtsat_config\u001b[39m.\u001b[39;49mhtsat_spec_size,\n\u001b[0;32m      4\u001b[0m     patch_size\u001b[39m=\u001b[39;49mhtsat_config\u001b[39m.\u001b[39;49mhtsat_patch_size,\n\u001b[0;32m      5\u001b[0m     in_chans\u001b[39m=\u001b[39;49m\u001b[39m1\u001b[39;49m,\n\u001b[0;32m      6\u001b[0m     num_classes\u001b[39m=\u001b[39;49mhtsat_config\u001b[39m.\u001b[39;49mclasses_num,\n\u001b[0;32m      7\u001b[0m     window_size\u001b[39m=\u001b[39;49mhtsat_config\u001b[39m.\u001b[39;49mhtsat_window_size,\n\u001b[0;32m      8\u001b[0m     config \u001b[39m=\u001b[39;49m htsat_config,\n\u001b[0;32m      9\u001b[0m     depths \u001b[39m=\u001b[39;49m htsat_config\u001b[39m.\u001b[39;49mhtsat_depth,\n\u001b[0;32m     10\u001b[0m     embed_dim \u001b[39m=\u001b[39;49m htsat_config\u001b[39m.\u001b[39;49mhtsat_dim,\n\u001b[0;32m     11\u001b[0m     patch_stride\u001b[39m=\u001b[39;49mhtsat_config\u001b[39m.\u001b[39;49mhtsat_stride,\n\u001b[0;32m     12\u001b[0m     num_heads\u001b[39m=\u001b[39;49mhtsat_config\u001b[39m.\u001b[39;49mhtsat_num_head)\n",
      "File \u001b[1;32md:\\Project-Echo\\src\\baseline\\htsat.py:444\u001b[0m, in \u001b[0;36mHTSAT_Swin_Transformer.__init__\u001b[1;34m(self, spec_size, patch_size, patch_stride, in_chans, num_classes, embed_dim, depths, num_heads, window_size, mlp_ratio, qkv_bias, qk_scale, drop_rate, attn_drop_rate, drop_path_rate, norm_layer, ape, patch_norm, use_checkpoint, norm_before_mlp, config, **kwargs)\u001b[0m\n\u001b[0;32m    441\u001b[0m \u001b[39mself\u001b[39m\u001b[39m.\u001b[39muse_checkpoint \u001b[39m=\u001b[39m use_checkpoint\n\u001b[0;32m    443\u001b[0m \u001b[39m#  process mel-spec ; used only once\u001b[39;00m\n\u001b[1;32m--> 444\u001b[0m \u001b[39mself\u001b[39m\u001b[39m.\u001b[39mfreq_ratio \u001b[39m=\u001b[39m \u001b[39mself\u001b[39m\u001b[39m.\u001b[39mspec_size \u001b[39m/\u001b[39m\u001b[39m/\u001b[39m \u001b[39mself\u001b[39;49m\u001b[39m.\u001b[39;49mconfig\u001b[39m.\u001b[39;49mmel_bins\n\u001b[0;32m    445\u001b[0m window \u001b[39m=\u001b[39m \u001b[39m'\u001b[39m\u001b[39mhann\u001b[39m\u001b[39m'\u001b[39m\n\u001b[0;32m    446\u001b[0m center \u001b[39m=\u001b[39m \u001b[39mTrue\u001b[39;00m\n",
      "\u001b[1;31mAttributeError\u001b[0m: module 'htsat_config' has no attribute 'mel_bins'"
     ]
    }
   ],
   "source": [
    "# Create an instance of the HTSAT model\n",
    "model = HTSAT_Swin_Transformer(\n",
    "    spec_size=htsat_config.htsat_spec_size,\n",
    "    patch_size=htsat_config.htsat_patch_size,\n",
    "    in_chans=1,\n",
    "    num_classes=htsat_config.classes_num,\n",
    "    window_size=htsat_config.htsat_window_size,\n",
    "    config = htsat_config,\n",
    "    depths = htsat_config.htsat_depth,\n",
    "    embed_dim = htsat_config.htsat_dim,\n",
    "    patch_stride=htsat_config.htsat_stride,\n",
    "    num_heads=htsat_config.htsat_num_head)"
   ]
  },
  {
   "cell_type": "code",
   "execution_count": null,
   "metadata": {},
   "outputs": [],
   "source": [
    "# show model details\n",
    "model"
   ]
  },
  {
   "cell_type": "code",
   "execution_count": null,
   "metadata": {},
   "outputs": [],
   "source": []
  }
 ],
 "metadata": {
  "kernelspec": {
   "display_name": "Python 3.9.13 ('dev')",
   "language": "python",
   "name": "python3"
  },
  "language_info": {
   "codemirror_mode": {
    "name": "ipython",
    "version": 3
   },
   "file_extension": ".py",
   "mimetype": "text/x-python",
   "name": "python",
   "nbconvert_exporter": "python",
   "pygments_lexer": "ipython3",
   "version": "3.9.13"
  },
  "orig_nbformat": 4,
  "vscode": {
   "interpreter": {
    "hash": "2848388c1d7df64c5912f8c74b12cb2f63a5fbb869f66edadd9f1eda580b6df3"
   }
  }
 },
 "nbformat": 4,
 "nbformat_minor": 2
}
