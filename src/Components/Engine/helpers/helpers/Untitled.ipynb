{
 "cells": [
  {
   "cell_type": "code",
   "execution_count": 4,
   "id": "b8864125",
   "metadata": {},
   "outputs": [],
   "source": [
    "import librosa\n",
    "import torch\n",
    "import numpy as np\n",
    "import matplotlib.pyplot as plt\n",
    "import cv2\n"
   ]
  },
  {
   "cell_type": "code",
   "execution_count": 6,
   "id": "b2135c2a",
   "metadata": {},
   "outputs": [],
   "source": [
    " import melspectrogram_to_cam"
   ]
  },
  {
   "cell_type": "code",
   "execution_count": 7,
   "id": "8025bd60",
   "metadata": {},
   "outputs": [],
   "source": [
    "# Load an example audio file using Librosa\n",
    "audio_file_path = librosa.example('trumpet')  # You can replace this with the path to your own audio file\n",
    "y, sr = librosa.load(audio_file_path, sr=None)\n"
   ]
  },
  {
   "cell_type": "code",
   "execution_count": 8,
   "id": "a616704e",
   "metadata": {},
   "outputs": [],
   "source": [
    "mel_spectrogram = librosa.feature.melspectrogram(y=y, sr=sr, n_mels=128, fmax=8000)\n"
   ]
  },
  {
   "cell_type": "code",
   "execution_count": 9,
   "id": "87d503e1",
   "metadata": {},
   "outputs": [],
   "source": [
    "# Convert the Mel spectrogram to a torch tensor and add a batch dimension\n",
    "mel_spectrogram_tensor = torch.tensor(mel_spectrogram).unsqueeze(0).unsqueeze(0)\n"
   ]
  },
  {
   "cell_type": "code",
   "execution_count": 11,
   "id": "bc82ec28",
   "metadata": {},
   "outputs": [
    {
     "ename": "error",
     "evalue": "OpenCV(4.10.0) /Users/xperience/GHA-Actions-OpenCV/_work/opencv-python/opencv-python/opencv/modules/core/src/arithm.cpp:661: error: (-209:Sizes of input arguments do not match) The operation is neither 'array op array' (where arrays have the same size and the same number of channels), nor 'array op scalar', nor 'scalar op array' in function 'arithm_op'\n",
     "output_type": "error",
     "traceback": [
      "\u001b[0;31m---------------------------------------------------------------------------\u001b[0m",
      "\u001b[0;31merror\u001b[0m                                     Traceback (most recent call last)",
      "Cell \u001b[0;32mIn[11], line 2\u001b[0m\n\u001b[1;32m      1\u001b[0m \u001b[38;5;66;03m# Use the convert function to overlay the CAM on the Mel spectrogram\u001b[39;00m\n\u001b[0;32m----> 2\u001b[0m overlayed_image \u001b[38;5;241m=\u001b[39m \u001b[43mmelspectrogram_to_cam\u001b[49m\u001b[38;5;241;43m.\u001b[39;49m\u001b[43mconvert\u001b[49m\u001b[43m(\u001b[49m\u001b[43mmel_spectrogram_tensor\u001b[49m\u001b[43m)\u001b[49m\n",
      "File \u001b[0;32m~/Documents/Project Echo/Project-Echo/src/Components/Engine/helpers/helpers/melspectrogram_to_cam.py:59\u001b[0m, in \u001b[0;36mconvert\u001b[0;34m(image)\u001b[0m\n\u001b[1;32m     57\u001b[0m \u001b[38;5;66;03m# Overlay CAM on Mel spectrogram\u001b[39;00m\n\u001b[1;32m     58\u001b[0m alpha \u001b[38;5;241m=\u001b[39m \u001b[38;5;241m0.5\u001b[39m  \u001b[38;5;66;03m# Transparency factor\u001b[39;00m\n\u001b[0;32m---> 59\u001b[0m overlayed_image \u001b[38;5;241m=\u001b[39m \u001b[43mcv2\u001b[49m\u001b[38;5;241;43m.\u001b[39;49m\u001b[43maddWeighted\u001b[49m\u001b[43m(\u001b[49m\u001b[43mimage_np\u001b[49m\u001b[43m,\u001b[49m\u001b[43m \u001b[49m\u001b[43malpha\u001b[49m\u001b[43m,\u001b[49m\u001b[43m \u001b[49m\u001b[43mheatmap\u001b[49m\u001b[43m,\u001b[49m\u001b[43m \u001b[49m\u001b[38;5;241;43m1\u001b[39;49m\u001b[43m \u001b[49m\u001b[38;5;241;43m-\u001b[39;49m\u001b[43m \u001b[49m\u001b[43malpha\u001b[49m\u001b[43m,\u001b[49m\u001b[43m \u001b[49m\u001b[38;5;241;43m0\u001b[39;49m\u001b[43m)\u001b[49m\n\u001b[1;32m     61\u001b[0m \u001b[38;5;28;01mreturn\u001b[39;00m overlayed_image\n",
      "\u001b[0;31merror\u001b[0m: OpenCV(4.10.0) /Users/xperience/GHA-Actions-OpenCV/_work/opencv-python/opencv-python/opencv/modules/core/src/arithm.cpp:661: error: (-209:Sizes of input arguments do not match) The operation is neither 'array op array' (where arrays have the same size and the same number of channels), nor 'array op scalar', nor 'scalar op array' in function 'arithm_op'\n"
     ]
    }
   ],
   "source": [
    "# Use the convert function to overlay the CAM on the Mel spectrogram\n",
    "overlayed_image = melspectrogram_to_cam.convert(mel_spectrogram_tensor)\n"
   ]
  },
  {
   "cell_type": "code",
   "execution_count": null,
   "id": "2b669456",
   "metadata": {},
   "outputs": [],
   "source": []
  }
 ],
 "metadata": {
  "kernelspec": {
   "display_name": "Python 3 (ipykernel)",
   "language": "python",
   "name": "python3"
  },
  "language_info": {
   "codemirror_mode": {
    "name": "ipython",
    "version": 3
   },
   "file_extension": ".py",
   "mimetype": "text/x-python",
   "name": "python",
   "nbconvert_exporter": "python",
   "pygments_lexer": "ipython3",
   "version": "3.8.18"
  }
 },
 "nbformat": 4,
 "nbformat_minor": 5
}
