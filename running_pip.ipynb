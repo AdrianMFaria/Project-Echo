{
 "cells": [
  {
   "cell_type": "code",
   "execution_count": 2,
   "metadata": {},
   "outputs": [
    {
     "name": "stdout",
     "output_type": "stream",
     "text": [
      "Collecting git+https://github.com/stephankokkas/Project-Echo.git\n",
      "  Cloning https://github.com/stephankokkas/Project-Echo.git to /private/var/folders/lf/1gtjn67j3gb56ps1bx1fyps00000gn/T/pip-req-build-umk1recq\n",
      "  Running command git clone --filter=blob:none --quiet https://github.com/stephankokkas/Project-Echo.git /private/var/folders/lf/1gtjn67j3gb56ps1bx1fyps00000gn/T/pip-req-build-umk1recq\n",
      "  Resolved https://github.com/stephankokkas/Project-Echo.git to commit 33f371d3de3fabc733a0d7114b2945aa1252ea0e\n",
      "  Preparing metadata (setup.py) ... \u001b[?25ldone\n",
      "\u001b[?25hRequirement already satisfied: numpy in /Users/stephankokkas/opt/anaconda3/envs/dev/lib/python3.10/site-packages (from PROJECT-ECHO==1.0) (1.22.4)\n",
      "Requirement already satisfied: ffmpeg-python==0.2.0 in /Users/stephankokkas/opt/anaconda3/envs/dev/lib/python3.10/site-packages (from PROJECT-ECHO==1.0) (0.2.0)\n",
      "Requirement already satisfied: keras in /Users/stephankokkas/opt/anaconda3/envs/dev/lib/python3.10/site-packages (from PROJECT-ECHO==1.0) (2.11.0)\n",
      "Requirement already satisfied: tensorflow in /Users/stephankokkas/opt/anaconda3/envs/dev/lib/python3.10/site-packages (from PROJECT-ECHO==1.0) (2.11.0)\n",
      "Requirement already satisfied: tensorflow-io in /Users/stephankokkas/opt/anaconda3/envs/dev/lib/python3.10/site-packages (from PROJECT-ECHO==1.0) (0.28.0)\n",
      "Requirement already satisfied: tfimm in /Users/stephankokkas/opt/anaconda3/envs/dev/lib/python3.10/site-packages (from PROJECT-ECHO==1.0) (0.2.9)\n",
      "Requirement already satisfied: pydub in /Users/stephankokkas/opt/anaconda3/envs/dev/lib/python3.10/site-packages (from PROJECT-ECHO==1.0) (0.25.1)\n",
      "Requirement already satisfied: future in /Users/stephankokkas/opt/anaconda3/envs/dev/lib/python3.10/site-packages (from ffmpeg-python==0.2.0->PROJECT-ECHO==1.0) (0.18.2)\n",
      "Requirement already satisfied: protobuf<3.20,>=3.9.2 in /Users/stephankokkas/opt/anaconda3/envs/dev/lib/python3.10/site-packages (from tensorflow->PROJECT-ECHO==1.0) (3.19.6)\n",
      "Requirement already satisfied: absl-py>=1.0.0 in /Users/stephankokkas/opt/anaconda3/envs/dev/lib/python3.10/site-packages (from tensorflow->PROJECT-ECHO==1.0) (1.3.0)\n",
      "Requirement already satisfied: opt-einsum>=2.3.2 in /Users/stephankokkas/opt/anaconda3/envs/dev/lib/python3.10/site-packages (from tensorflow->PROJECT-ECHO==1.0) (3.3.0)\n",
      "Requirement already satisfied: typing-extensions>=3.6.6 in /Users/stephankokkas/opt/anaconda3/envs/dev/lib/python3.10/site-packages (from tensorflow->PROJECT-ECHO==1.0) (4.4.0)\n",
      "Requirement already satisfied: flatbuffers>=2.0 in /Users/stephankokkas/opt/anaconda3/envs/dev/lib/python3.10/site-packages (from tensorflow->PROJECT-ECHO==1.0) (22.11.23)\n",
      "Requirement already satisfied: tensorboard<2.12,>=2.11 in /Users/stephankokkas/opt/anaconda3/envs/dev/lib/python3.10/site-packages (from tensorflow->PROJECT-ECHO==1.0) (2.11.0)\n",
      "Requirement already satisfied: google-pasta>=0.1.1 in /Users/stephankokkas/opt/anaconda3/envs/dev/lib/python3.10/site-packages (from tensorflow->PROJECT-ECHO==1.0) (0.2.0)\n",
      "Requirement already satisfied: six>=1.12.0 in /Users/stephankokkas/opt/anaconda3/envs/dev/lib/python3.10/site-packages (from tensorflow->PROJECT-ECHO==1.0) (1.16.0)\n",
      "Requirement already satisfied: tensorflow-io-gcs-filesystem>=0.23.1 in /Users/stephankokkas/opt/anaconda3/envs/dev/lib/python3.10/site-packages (from tensorflow->PROJECT-ECHO==1.0) (0.28.0)\n",
      "Requirement already satisfied: h5py>=2.9.0 in /Users/stephankokkas/opt/anaconda3/envs/dev/lib/python3.10/site-packages (from tensorflow->PROJECT-ECHO==1.0) (3.7.0)\n",
      "Requirement already satisfied: setuptools in /Users/stephankokkas/opt/anaconda3/envs/dev/lib/python3.10/site-packages (from tensorflow->PROJECT-ECHO==1.0) (65.5.1)\n",
      "Requirement already satisfied: wrapt>=1.11.0 in /Users/stephankokkas/opt/anaconda3/envs/dev/lib/python3.10/site-packages (from tensorflow->PROJECT-ECHO==1.0) (1.14.1)\n",
      "Requirement already satisfied: tensorflow-estimator<2.12,>=2.11.0 in /Users/stephankokkas/opt/anaconda3/envs/dev/lib/python3.10/site-packages (from tensorflow->PROJECT-ECHO==1.0) (2.11.0)\n",
      "Requirement already satisfied: termcolor>=1.1.0 in /Users/stephankokkas/opt/anaconda3/envs/dev/lib/python3.10/site-packages (from tensorflow->PROJECT-ECHO==1.0) (2.1.1)\n",
      "Requirement already satisfied: gast<=0.4.0,>=0.2.1 in /Users/stephankokkas/opt/anaconda3/envs/dev/lib/python3.10/site-packages (from tensorflow->PROJECT-ECHO==1.0) (0.4.0)\n",
      "Requirement already satisfied: libclang>=13.0.0 in /Users/stephankokkas/opt/anaconda3/envs/dev/lib/python3.10/site-packages (from tensorflow->PROJECT-ECHO==1.0) (14.0.6)\n",
      "Requirement already satisfied: astunparse>=1.6.0 in /Users/stephankokkas/opt/anaconda3/envs/dev/lib/python3.10/site-packages (from tensorflow->PROJECT-ECHO==1.0) (1.6.3)\n",
      "Requirement already satisfied: packaging in /Users/stephankokkas/opt/anaconda3/envs/dev/lib/python3.10/site-packages (from tensorflow->PROJECT-ECHO==1.0) (21.3)\n",
      "Requirement already satisfied: grpcio<2.0,>=1.24.3 in /Users/stephankokkas/opt/anaconda3/envs/dev/lib/python3.10/site-packages (from tensorflow->PROJECT-ECHO==1.0) (1.51.1)\n",
      "Requirement already satisfied: markdown<4.0.0,>=3.3.6 in /Users/stephankokkas/opt/anaconda3/envs/dev/lib/python3.10/site-packages (from tfimm->PROJECT-ECHO==1.0) (3.4.1)\n",
      "Requirement already satisfied: wheel<1.0,>=0.23.0 in /Users/stephankokkas/opt/anaconda3/envs/dev/lib/python3.10/site-packages (from astunparse>=1.6.0->tensorflow->PROJECT-ECHO==1.0) (0.38.4)\n",
      "Requirement already satisfied: google-auth<3,>=1.6.3 in /Users/stephankokkas/opt/anaconda3/envs/dev/lib/python3.10/site-packages (from tensorboard<2.12,>=2.11->tensorflow->PROJECT-ECHO==1.0) (2.14.1)\n",
      "Requirement already satisfied: tensorboard-data-server<0.7.0,>=0.6.0 in /Users/stephankokkas/opt/anaconda3/envs/dev/lib/python3.10/site-packages (from tensorboard<2.12,>=2.11->tensorflow->PROJECT-ECHO==1.0) (0.6.1)\n",
      "Requirement already satisfied: requests<3,>=2.21.0 in /Users/stephankokkas/opt/anaconda3/envs/dev/lib/python3.10/site-packages (from tensorboard<2.12,>=2.11->tensorflow->PROJECT-ECHO==1.0) (2.28.1)\n",
      "Requirement already satisfied: tensorboard-plugin-wit>=1.6.0 in /Users/stephankokkas/opt/anaconda3/envs/dev/lib/python3.10/site-packages (from tensorboard<2.12,>=2.11->tensorflow->PROJECT-ECHO==1.0) (1.8.1)\n",
      "Requirement already satisfied: google-auth-oauthlib<0.5,>=0.4.1 in /Users/stephankokkas/opt/anaconda3/envs/dev/lib/python3.10/site-packages (from tensorboard<2.12,>=2.11->tensorflow->PROJECT-ECHO==1.0) (0.4.6)\n",
      "Requirement already satisfied: werkzeug>=1.0.1 in /Users/stephankokkas/opt/anaconda3/envs/dev/lib/python3.10/site-packages (from tensorboard<2.12,>=2.11->tensorflow->PROJECT-ECHO==1.0) (2.2.2)\n",
      "Requirement already satisfied: pyparsing!=3.0.5,>=2.0.2 in /Users/stephankokkas/opt/anaconda3/envs/dev/lib/python3.10/site-packages (from packaging->tensorflow->PROJECT-ECHO==1.0) (3.0.9)\n",
      "Requirement already satisfied: rsa<5,>=3.1.4 in /Users/stephankokkas/opt/anaconda3/envs/dev/lib/python3.10/site-packages (from google-auth<3,>=1.6.3->tensorboard<2.12,>=2.11->tensorflow->PROJECT-ECHO==1.0) (4.9)\n",
      "Requirement already satisfied: cachetools<6.0,>=2.0.0 in /Users/stephankokkas/opt/anaconda3/envs/dev/lib/python3.10/site-packages (from google-auth<3,>=1.6.3->tensorboard<2.12,>=2.11->tensorflow->PROJECT-ECHO==1.0) (5.2.0)\n",
      "Requirement already satisfied: pyasn1-modules>=0.2.1 in /Users/stephankokkas/opt/anaconda3/envs/dev/lib/python3.10/site-packages (from google-auth<3,>=1.6.3->tensorboard<2.12,>=2.11->tensorflow->PROJECT-ECHO==1.0) (0.2.8)\n",
      "Requirement already satisfied: requests-oauthlib>=0.7.0 in /Users/stephankokkas/opt/anaconda3/envs/dev/lib/python3.10/site-packages (from google-auth-oauthlib<0.5,>=0.4.1->tensorboard<2.12,>=2.11->tensorflow->PROJECT-ECHO==1.0) (1.3.1)\n",
      "Requirement already satisfied: idna<4,>=2.5 in /Users/stephankokkas/opt/anaconda3/envs/dev/lib/python3.10/site-packages (from requests<3,>=2.21.0->tensorboard<2.12,>=2.11->tensorflow->PROJECT-ECHO==1.0) (3.4)\n",
      "Requirement already satisfied: charset-normalizer<3,>=2 in /Users/stephankokkas/opt/anaconda3/envs/dev/lib/python3.10/site-packages (from requests<3,>=2.21.0->tensorboard<2.12,>=2.11->tensorflow->PROJECT-ECHO==1.0) (2.1.1)\n",
      "Requirement already satisfied: urllib3<1.27,>=1.21.1 in /Users/stephankokkas/opt/anaconda3/envs/dev/lib/python3.10/site-packages (from requests<3,>=2.21.0->tensorboard<2.12,>=2.11->tensorflow->PROJECT-ECHO==1.0) (1.26.13)\n",
      "Requirement already satisfied: certifi>=2017.4.17 in /Users/stephankokkas/opt/anaconda3/envs/dev/lib/python3.10/site-packages (from requests<3,>=2.21.0->tensorboard<2.12,>=2.11->tensorflow->PROJECT-ECHO==1.0) (2022.9.24)\n",
      "Requirement already satisfied: MarkupSafe>=2.1.1 in /Users/stephankokkas/opt/anaconda3/envs/dev/lib/python3.10/site-packages (from werkzeug>=1.0.1->tensorboard<2.12,>=2.11->tensorflow->PROJECT-ECHO==1.0) (2.1.1)\n",
      "Requirement already satisfied: pyasn1<0.5.0,>=0.4.6 in /Users/stephankokkas/opt/anaconda3/envs/dev/lib/python3.10/site-packages (from pyasn1-modules>=0.2.1->google-auth<3,>=1.6.3->tensorboard<2.12,>=2.11->tensorflow->PROJECT-ECHO==1.0) (0.4.8)\n",
      "Requirement already satisfied: oauthlib>=3.0.0 in /Users/stephankokkas/opt/anaconda3/envs/dev/lib/python3.10/site-packages (from requests-oauthlib>=0.7.0->google-auth-oauthlib<0.5,>=0.4.1->tensorboard<2.12,>=2.11->tensorflow->PROJECT-ECHO==1.0) (3.2.2)\n",
      "Building wheels for collected packages: PROJECT-ECHO\n",
      "  Building wheel for PROJECT-ECHO (setup.py) ... \u001b[?25ldone\n",
      "\u001b[?25h  Created wheel for PROJECT-ECHO: filename=PROJECT_ECHO-1.0-py3-none-any.whl size=3539 sha256=b9d367577cc941b83dc46834d9949cfd8292200ad617254532c16aabb570b765\n",
      "  Stored in directory: /private/var/folders/lf/1gtjn67j3gb56ps1bx1fyps00000gn/T/pip-ephem-wheel-cache-1jl3c0a7/wheels/08/b9/b2/76dcbfa24e17373a84357a182022d5a28f54aeb0b907463a84\n",
      "Successfully built PROJECT-ECHO\n",
      "Installing collected packages: PROJECT-ECHO\n",
      "Successfully installed PROJECT-ECHO-1.0\n"
     ]
    }
   ],
   "source": [
    "!pip install git+https://github.com/stephankokkas/Project-Echo.git"
   ]
  },
  {
   "cell_type": "code",
   "execution_count": 3,
   "metadata": {},
   "outputs": [
    {
     "ename": "ModuleNotFoundError",
     "evalue": "No module named 'project_echo'",
     "output_type": "error",
     "traceback": [
      "\u001b[0;31m---------------------------------------------------------------------------\u001b[0m",
      "\u001b[0;31mModuleNotFoundError\u001b[0m                       Traceback (most recent call last)",
      "Cell \u001b[0;32mIn [3], line 2\u001b[0m\n\u001b[1;32m      1\u001b[0m \u001b[39mimport\u001b[39;00m \u001b[39mos\u001b[39;00m\n\u001b[0;32m----> 2\u001b[0m \u001b[39mimport\u001b[39;00m \u001b[39mproject_echo\u001b[39;00m \u001b[39mas\u001b[39;00m \u001b[39mecho\u001b[39;00m\n\u001b[1;32m      4\u001b[0m path_to_raw_audio_file \u001b[39m=\u001b[39m \u001b[39m'\u001b[39m\u001b[39m/Users/stephankokkas/Downloads/Alauda_arvensis_Bru_DAT0042_04_short.mp3\u001b[39m\u001b[39m'\u001b[39m\n\u001b[1;32m      5\u001b[0m PATH_TO_MODEL \u001b[39m=\u001b[39m os\u001b[39m.\u001b[39mpath\u001b[39m.\u001b[39mjoin(os\u001b[39m.\u001b[39mgetcwd(), \u001b[39m'\u001b[39m\u001b[39mproject-echo-package\u001b[39m\u001b[39m'\u001b[39m, \u001b[39m'\u001b[39m\u001b[39mproject_echo\u001b[39m\u001b[39m'\u001b[39m, \u001b[39m'\u001b[39m\u001b[39mModels\u001b[39m\u001b[39m'\u001b[39m, \u001b[39m'\u001b[39m\u001b[39mbaseline_timm_model_dataset_2_15_classes.hdf5\u001b[39m\u001b[39m'\u001b[39m)\n",
      "\u001b[0;31mModuleNotFoundError\u001b[0m: No module named 'project_echo'"
     ]
    }
   ],
   "source": [
    "import os\n",
    "import PROJECT-ECHO as echo\n",
    "\n",
    "path_to_raw_audio_file = '/Users/stephankokkas/Downloads/Alauda_arvensis_Bru_DAT0042_04_short.mp3'\n",
    "PATH_TO_MODEL = os.path.join(os.getcwd(), 'project-echo-package', 'project_echo', 'Models', 'baseline_timm_model_dataset_2_15_classes.hdf5')\n",
    "\n",
    "my_model = echo.load_model(PATH_TO_MODEL)\n",
    "classification = echo.predict(my_model, path_to_raw_audio_file)"
   ]
  }
 ],
 "metadata": {
  "kernelspec": {
   "display_name": "dev",
   "language": "python",
   "name": "python3"
  },
  "language_info": {
   "codemirror_mode": {
    "name": "ipython",
    "version": 3
   },
   "file_extension": ".py",
   "mimetype": "text/x-python",
   "name": "python",
   "nbconvert_exporter": "python",
   "pygments_lexer": "ipython3",
   "version": "3.10.0"
  },
  "orig_nbformat": 4,
  "vscode": {
   "interpreter": {
    "hash": "f4acbc442a267d9c039005cb6a4c551bfe6da3ea17529ec6bc5615c49cd80131"
   }
  }
 },
 "nbformat": 4,
 "nbformat_minor": 2
}
