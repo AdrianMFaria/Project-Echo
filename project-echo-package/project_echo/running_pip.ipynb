{
 "cells": [
  {
   "cell_type": "code",
   "execution_count": null,
   "metadata": {},
   "outputs": [],
   "source": [
    "!pip install git+https://github.com/stephankokkas/Project-Echo/tree/SK-PIP-Package-with-new-main/project-echo-package.git"
   ]
  },
  {
   "cell_type": "code",
   "execution_count": 1,
   "metadata": {},
   "outputs": [
    {
     "ename": "ModuleNotFoundError",
     "evalue": "No module named 'project_echo'",
     "output_type": "error",
     "traceback": [
      "\u001b[0;31m---------------------------------------------------------------------------\u001b[0m",
      "\u001b[0;31mModuleNotFoundError\u001b[0m                       Traceback (most recent call last)",
      "Cell \u001b[0;32mIn [1], line 2\u001b[0m\n\u001b[1;32m      1\u001b[0m \u001b[39mimport\u001b[39;00m \u001b[39mos\u001b[39;00m\n\u001b[0;32m----> 2\u001b[0m \u001b[39mimport\u001b[39;00m \u001b[39mproject_echo\u001b[39;00m \u001b[39mas\u001b[39;00m \u001b[39mecho\u001b[39;00m\n\u001b[1;32m      4\u001b[0m path_to_raw_audio_file \u001b[39m=\u001b[39m \u001b[39m'\u001b[39m\u001b[39m/Users/stephankokkas/Downloads/Alauda_arvensis_Bru_DAT0042_04_short.mp3\u001b[39m\u001b[39m'\u001b[39m\n\u001b[1;32m      5\u001b[0m PATH_TO_MODEL \u001b[39m=\u001b[39m os\u001b[39m.\u001b[39mpath\u001b[39m.\u001b[39mjoin(os\u001b[39m.\u001b[39mgetcwd(), \u001b[39m'\u001b[39m\u001b[39mproject-echo-package\u001b[39m\u001b[39m'\u001b[39m, \u001b[39m'\u001b[39m\u001b[39mproject_echo\u001b[39m\u001b[39m'\u001b[39m, \u001b[39m'\u001b[39m\u001b[39mModels\u001b[39m\u001b[39m'\u001b[39m, \u001b[39m'\u001b[39m\u001b[39mbaseline_timm_model_dataset_2_15_classes.hdf5\u001b[39m\u001b[39m'\u001b[39m)\n",
      "\u001b[0;31mModuleNotFoundError\u001b[0m: No module named 'project_echo'"
     ]
    }
   ],
   "source": [
    "import os\n",
    "import project_echo as echo\n",
    "\n",
    "path_to_raw_audio_file = '/Users/stephankokkas/Downloads/Alauda_arvensis_Bru_DAT0042_04_short.mp3'\n",
    "PATH_TO_MODEL = os.path.join(os.getcwd(), 'project-echo-package', 'project_echo', 'Models', 'baseline_timm_model_dataset_2_15_classes.hdf5')\n",
    "\n",
    "my_model = echo.load_model(PATH_TO_MODEL)\n",
    "classification = echo.predict(my_model, path_to_raw_audio_file)"
   ]
  }
 ],
 "metadata": {
  "kernelspec": {
   "display_name": "dev",
   "language": "python",
   "name": "python3"
  },
  "language_info": {
   "codemirror_mode": {
    "name": "ipython",
    "version": 3
   },
   "file_extension": ".py",
   "mimetype": "text/x-python",
   "name": "python",
   "nbconvert_exporter": "python",
   "pygments_lexer": "ipython3",
   "version": "3.10.0"
  },
  "orig_nbformat": 4,
  "vscode": {
   "interpreter": {
    "hash": "f4acbc442a267d9c039005cb6a4c551bfe6da3ea17529ec6bc5615c49cd80131"
   }
  }
 },
 "nbformat": 4,
 "nbformat_minor": 2
}
